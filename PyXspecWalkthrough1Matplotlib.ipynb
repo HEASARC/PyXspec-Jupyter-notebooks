{
 "cells": [
  {
   "cell_type": "markdown",
   "metadata": {},
   "source": [
    "## Fitting Models to Data: An Old Example from EXOSAT\n",
    "\n",
    "Our first example uses very old data which is much simpler than more modern observations and so can be used to better illustrate the basics of XSPEC analysis. The 6s X-ray pulsar 1E1048.1-5937 was observed by EXOSAT in June 1985 for 20 ks. In this example, we'll conduct a general investigation of the spectrum from the Medium Energy (ME) instrument, i.e. follow the same sort of steps as the original investigators (Seward, Charles & Smale, 1986). The ME spectrum and corresponding response matrix were obtained from the HEASARC and are available from https://heasarc.gsfc.nasa.gov/docs/xanadu/xspec/walkthrough.tar.gz\n",
    "\n",
    "This version of the notebook does all plotting through matplotlib.\n",
    "\n",
    "We start with some standard imports."
   ]
  },
  {
   "cell_type": "code",
   "execution_count": 1,
   "metadata": {},
   "outputs": [],
   "source": [
    "# uncomment the line below to make matplotlib plots dynamic\n",
    "#%matplotlib notebook\n",
    "import matplotlib\n",
    "import numpy as np\n",
    "import matplotlib.pyplot as plt\n",
    "# this ensures that all C output is redirected to the Jupyter output box\n",
    "%load_ext wurlitzer\n",
    "\n",
    "from xspec import *"
   ]
  },
  {
   "cell_type": "markdown",
   "metadata": {},
   "source": [
    "Now read a spectrum into a Spectrum object called s1. The file is stored in a sub-directory data so first cd to it."
   ]
  },
  {
   "cell_type": "code",
   "execution_count": 2,
   "metadata": {
    "scrolled": false
   },
   "outputs": [
    {
     "name": "stdout",
     "output_type": "stream",
     "text": [
      "/Users/karnaud/Jupyter-notebooks/data\n",
      "\n",
      "1 spectrum  in use\n",
      " \n",
      "Spectral Data File: s54405.pha  Spectrum 1\n",
      "Net count rate (cts/s) for Spectrum:1  3.783e+00 +/- 1.367e-01\n",
      " Assigned to Data Group 1 and Plot Group 1\n",
      "  Noticed Channels:  1-125\n",
      "  Telescope: EXOSAT Instrument: ME  Channel Type: PHA\n",
      "  Exposure Time: 2.358e+04 sec\n",
      " Using fit statistic: chi\n",
      " Using Response (RMF) File            s54405.rsp for Source 1\n",
      "\n"
     ]
    }
   ],
   "source": [
    "%cd data\n",
    "s1 = Spectrum(\"s54405.pha\")"
   ]
  },
  {
   "cell_type": "markdown",
   "metadata": {},
   "source": [
    "Spectrum tells the program to read the data as well as the response file that is named in the header of the data file. \n",
    "\n",
    "One of the first things most users will want to do at this stage - even before fitting models - is to look at their data. There are more than 50 different things that can be plotted, all related in some way to the data, the model, the fit and the instrument. To see them, type: "
   ]
  },
  {
   "cell_type": "code",
   "execution_count": 3,
   "metadata": {
    "scrolled": true
   },
   "outputs": [
    {
     "name": "stdout",
     "output_type": "stream",
     "text": [
      "plot data/models/fits etc\n",
      "    Syntax: plot commands:\n",
      "\tbackground     chain          chisq          contour        counts         \n",
      "\tintegprob      data           delchi         dem            emodel         \n",
      "\teemodel        efficiency     eqw            eufspec        eeufspec       \n",
      "\tfoldmodel      goodness       icounts        insensitivity  lcounts        \n",
      "\tldata          margin         model          ratio          residuals      \n",
      "\tsensitivity    sum            ufspec         \n",
      "    Multi-panel plots are created by entering multiple options e.g. data chisq\n",
      "\n"
     ]
    }
   ],
   "source": [
    "Plot(\"?\")"
   ]
  },
  {
   "cell_type": "markdown",
   "metadata": {
    "scrolled": false
   },
   "source": [
    "The most fundamental is the data plotted against instrument channel (data); next most fundamental, and more informative, is the data plotted against channel energy. To do this: \n"
   ]
  },
  {
   "cell_type": "code",
   "execution_count": 4,
   "metadata": {},
   "outputs": [],
   "source": [
    "Plot.device = \"/null\"\n",
    "Plot.xAxis=\"keV\"\n",
    "Plot(\"data\")\n",
    "energies = Plot.x()\n",
    "edeltas = Plot.xErr()\n",
    "rates = Plot.y()\n",
    "errors = Plot.yErr()\n",
    "labels = Plot.labels()"
   ]
  },
  {
   "cell_type": "code",
   "execution_count": 5,
   "metadata": {},
   "outputs": [
    {
     "data": {
      "text/plain": [
       "<ErrorbarContainer object of 3 artists>"
      ]
     },
     "execution_count": 5,
     "metadata": {},
     "output_type": "execute_result"
    },
    {
     "data": {
      "image/png": "[encoded data removed]",
      "text/plain": [
       "<Figure size 432x288 with 1 Axes>"
      ]
     },
     "metadata": {
      "needs_background": "light"
     },
     "output_type": "display_data"
    }
   ],
   "source": [
    "plt.xscale('log')\n",
    "plt.xlabel(labels[0])\n",
    "plt.ylabel(labels[1])\n",
    "plt.title(labels[2])\n",
    "plt.errorbar(energies,rates,xerr=edeltas,yerr=errors,fmt='.')"
   ]
  },
  {
   "cell_type": "markdown",
   "metadata": {},
   "source": [
    "We are now ready to fit the data with a model. Models in XSPEC are specified using the model command, followed by an algebraic expression of a combination of model components. There are two basic kinds of model components: additive and multiplicative. Additive components represent X-Ray sources of different kinds (e.g., a bremsstrahlung continuum) and, after being convolved with the instrument response, prescribe the number of counts per energy bin. Multiplicative components represent phenomena that modify the observed X-Radiation (e.g. reddening or an absorption edge). They apply an energy-dependent multiplicative factor to the source radiation before the result is convolved with the instrumental response.\n",
    "\n",
    "More generally, XSPEC allows three types of modifying components: convolutions and mixing models in addition to the multiplicative type. Since there must be a source, there must be least one additive component in a model, but there is no restriction on the number of modifying components.\n",
    "\n",
    "Given the quality of our data, as shown by the plot, we'll choose an absorbed power law. To set it up define a Model object called m1."
   ]
  },
  {
   "cell_type": "code",
   "execution_count": 6,
   "metadata": {},
   "outputs": [
    {
     "name": "stdout",
     "output_type": "stream",
     "text": [
      "\n",
      "========================================================================\n",
      "Model phabs<1>*powerlaw<2> Source No.: 1   Active/On\n",
      "Model Model Component  Parameter  Unit     Value\n",
      " par  comp\n",
      "   1    1   phabs      nH         10^22    1.00000      +/-  0.0          \n",
      "   2    2   powerlaw   PhoIndex            1.00000      +/-  0.0          \n",
      "   3    2   powerlaw   norm                1.00000      +/-  0.0          \n",
      "________________________________________________________________________\n",
      "\n",
      "\n",
      "Fit statistic  : Chi-Squared              4.878354e+08     using 125 bins.\n",
      "\n",
      "Test statistic : Chi-Squared              4.878354e+08     using 125 bins.\n",
      " Null hypothesis probability of 0.000000e+00 with 122 degrees of freedom\n",
      " Current data and model not fit yet.\n"
     ]
    }
   ],
   "source": [
    "m1 = Model(\"phabs(powerlaw)\")"
   ]
  },
  {
   "cell_type": "markdown",
   "metadata": {},
   "source": [
    "The current statistic is $\\chi^2$ and is huge for the initial, default values - mostly because the power law normalization is two orders of magnitude too large. This is easily fixed using the renorm method."
   ]
  },
  {
   "cell_type": "code",
   "execution_count": 7,
   "metadata": {},
   "outputs": [
    {
     "name": "stdout",
     "output_type": "stream",
     "text": [
      "\n",
      "Fit statistic  : Chi-Squared                  845.91     using 125 bins.\n",
      "\n",
      "Test statistic : Chi-Squared                  845.91     using 125 bins.\n",
      " Null hypothesis probability of 1.09e-108 with 122 degrees of freedom\n",
      " Current data and model not fit yet.\n"
     ]
    }
   ],
   "source": [
    "Fit.renorm()"
   ]
  },
  {
   "cell_type": "markdown",
   "metadata": {},
   "source": [
    "We are not quite ready to fit the data (and obtain a better $\\chi^2$), because not all of the 125 PHA bins should be included in the fitting: some are below the lower discriminator of the instrument and therefore do not contain valid data; some have imperfect background subtraction at the margins of the pass band; and some may not contain enough counts for $\\chi^2$ to be strictly meaningful. To find out which channels to discard (ignore in XSPEC terminology), consult mission-specific documentation that will include information about discriminator settings, background subtraction problems and other issues. For the mature missions in the HEASARC archives, this information already has been encoded in the headers of the spectral files as a list of bad channels. To remove the bad channels from the spectrum that we read into s:"
   ]
  },
  {
   "cell_type": "code",
   "execution_count": 8,
   "metadata": {},
   "outputs": [
    {
     "name": "stdout",
     "output_type": "stream",
     "text": [
      "\n",
      "ignore:    40 channels ignored from  source number 1\n",
      "Fit statistic  : Chi-Squared                  793.46     using 85 bins.\n",
      "\n",
      "Test statistic : Chi-Squared                  793.46     using 85 bins.\n",
      " Null hypothesis probability of 5.97e-117 with 82 degrees of freedom\n",
      " Current data and model not fit yet.\n",
      "\n"
     ]
    }
   ],
   "source": [
    "AllData.ignore(\"bad\")"
   ]
  },
  {
   "cell_type": "markdown",
   "metadata": {},
   "source": [
    "Note that PyXspec doesn't allow us to ignore \"bad\" channels for individual spectra but does it for all loaded spectra. AllData is a special object which allows operations on all current spectra. Now plot again:"
   ]
  },
  {
   "cell_type": "code",
   "execution_count": 9,
   "metadata": {},
   "outputs": [
    {
     "name": "stdout",
     "output_type": "stream",
     "text": [
      "***Warning: Fit is not current.\n"
     ]
    }
   ],
   "source": [
    "Plot(\"ldata chi\")\n",
    "energies = Plot.x()\n",
    "edeltas = Plot.xErr()\n",
    "rates = Plot.y(1,1)\n",
    "errors = Plot.yErr(1,1)\n",
    "foldedmodel = Plot.model()\n",
    "dataLabels = Plot.labels(1)\n",
    "chiLabels = Plot.labels(2)\n",
    "# note that for matplotlib step plots we need an x-axis array which includes the start and end value for each\n",
    "# bin and the y-axis has to be the same size with an extra value added equal to the value of the last bin\n",
    "nE = len(energies)\n",
    "stepenergies = list()\n",
    "for i in range(nE):\n",
    "    stepenergies.append(energies[i] - edeltas[i])\n",
    "stepenergies.append(energies[-1]+edeltas[-1])\n",
    "foldedmodel.append(foldedmodel[-1])\n",
    "chi = Plot.y(1,2)\n",
    "chi.append(chi[-1])"
   ]
  },
  {
   "cell_type": "code",
   "execution_count": 10,
   "metadata": {},
   "outputs": [
    {
     "data": {
      "text/plain": [
       "<matplotlib.collections.LineCollection at 0x144784240>"
      ]
     },
     "execution_count": 10,
     "metadata": {},
     "output_type": "execute_result"
    },
    {
     "data": {
      "image/png": "[encoded data removed]",
      "text/plain": [
       "<Figure size 432x288 with 2 Axes>"
      ]
     },
     "metadata": {
      "needs_background": "light"
     },
     "output_type": "display_data"
    }
   ],
   "source": [
    "plt.subplot(211)\n",
    "plt.xscale('log')\n",
    "plt.yscale('log')\n",
    "plt.ylabel(dataLabels[1])\n",
    "plt.title(dataLabels[2])\n",
    "plt.errorbar(energies,rates,xerr=edeltas,yerr=errors,fmt='.')\n",
    "plt.step(stepenergies,foldedmodel,where='post')\n",
    "plt.subplot(212)\n",
    "plt.xscale('log')\n",
    "plt.xlabel(chiLabels[0])\n",
    "plt.ylabel(chiLabels[1])\n",
    "plt.step(stepenergies,chi,where='post')\n",
    "plt.hlines(0.0,stepenergies[0],stepenergies[-1],linestyles='dashed')"
   ]
  },
  {
   "cell_type": "markdown",
   "metadata": {},
   "source": [
    "We get a warning that the fit is not current because no fit has been performed yet. \n",
    "\n",
    "Giving two options for the Plot command generates a plot with vertically stacked windows. Up to six options can be given to the Plot command at a time. Forty channels were rejected because they were flagged as bad - but do we need to ignore any more? This figure shows the result of plotting the data and the model (in the upper window) and the contributions to $\\chi^2$ (in the lower window). We see that above about 15 keV the S/N becomes small. We also see, comparing with the earlier figure, which bad channels were ignored. Although visual inspection is not the most rigorous method for deciding which channels to ignore (more on this subject later), it's good enough for now, and will at least prevent us from getting grossly misleading results from the fitting. To ignore energies above 15 keV: "
   ]
  },
  {
   "cell_type": "code",
   "execution_count": 11,
   "metadata": {},
   "outputs": [
    {
     "name": "stdout",
     "output_type": "stream",
     "text": [
      "    78 channels (48-125) ignored in spectrum #     1\n",
      "\n",
      "Fit statistic  : Chi-Squared                  715.30     using 45 bins.\n",
      "\n",
      "Test statistic : Chi-Squared                  715.30     using 45 bins.\n",
      " Null hypothesis probability of 2.42e-123 with 42 degrees of freedom\n",
      " Current data and model not fit yet.\n",
      "\n"
     ]
    }
   ],
   "source": [
    "s1.ignore(\"15.0-**\")"
   ]
  },
  {
   "cell_type": "markdown",
   "metadata": {},
   "source": [
    "Note that ignore (and notice) interpret integers as channel numbers and real numbers as energies. The double star is a special indicator which just means the extreme value in the spectrum.\n",
    "\n",
    "We are now ready to fit the data. Fitting is initiated by the command Fit.perform(). As the fit proceeds, the screen displays the status of the fit for each iteration until either the fit converges to the minimum $\\chi^2$, or the maximum number of iterations is exceeded. The maximum number of iterations is Fit.nIterations."
   ]
  },
  {
   "cell_type": "code",
   "execution_count": 12,
   "metadata": {},
   "outputs": [
    {
     "name": "stdout",
     "output_type": "stream",
     "text": [
      "10\n"
     ]
    }
   ],
   "source": [
    "print(Fit.nIterations)"
   ]
  },
  {
   "cell_type": "code",
   "execution_count": 13,
   "metadata": {},
   "outputs": [
    {
     "name": "stdout",
     "output_type": "stream",
     "text": [
      "                                   Parameters\n",
      "Chi-Squared  |beta|/N    Lvl          1:nH    2:PhoIndex        3:norm\n",
      "450.421      150.593      -3     0.0916817       1.61266    0.00388600\n",
      "412.275      63000.6      -3      0.283518       2.30662    0.00911916\n",
      "53.9571      27976.3      -4      0.529631       2.14207     0.0121535\n",
      "43.8301      4648.87      -5      0.565375       2.23873     0.0130851\n",
      "43.8179      125.675      -6      0.552335       2.23611     0.0130313\n",
      "43.8179      0.622244     -7      0.551351       2.23578     0.0130239\n",
      "========================================\n",
      " Variances and Principal Axes\n",
      "                 1        2        3  \n",
      " 4.7830E-08| -0.0025  -0.0151   0.9999  \n",
      " 2.3114E-03|  0.3929  -0.9195  -0.0129  \n",
      " 9.0741E-02|  0.9196   0.3928   0.0082  \n",
      "----------------------------------------\n",
      "\n",
      "====================================\n",
      "  Covariance Matrix\n",
      "        1           2           3   \n",
      "   7.709e-02   3.194e-02   6.736e-04\n",
      "   3.194e-02   1.595e-02   3.201e-04\n",
      "   6.736e-04   3.201e-04   6.553e-06\n",
      "------------------------------------\n",
      "\n",
      "========================================================================\n",
      "Model phabs<1>*powerlaw<2> Source No.: 1   Active/On\n",
      "Model Model Component  Parameter  Unit     Value\n",
      " par  comp\n",
      "   1    1   phabs      nH         10^22    0.551351     +/-  0.277654     \n",
      "   2    2   powerlaw   PhoIndex            2.23578      +/-  0.126308     \n",
      "   3    2   powerlaw   norm                1.30239E-02  +/-  2.55995E-03  \n",
      "________________________________________________________________________\n",
      "\n",
      "\n",
      "Fit statistic  : Chi-Squared                   43.82     using 45 bins.\n",
      "\n",
      "Test statistic : Chi-Squared                   43.82     using 45 bins.\n",
      " Null hypothesis probability of 3.94e-01 with 42 degrees of freedom\n"
     ]
    }
   ],
   "source": [
    "Fit.perform()"
   ]
  },
  {
   "cell_type": "markdown",
   "metadata": {},
   "source": [
    "There is a fair amount of information here so we will unpack it a bit at a time. One line is written out after each fit iteration. The columns labeled Chi-Squared and Parameters are obvious. The other two provide additional information on fit convergence. At each step in the fit a numerical derivative of the statistic with respect to the parameters is calculated. We call the vector of these derivatives beta. At the best-fit the norm of beta should be zero so we write out |beta| divided by the number of parameters as a check. The actual default convergence criterion is when the fit statistic does not change significantly between iterations so it is possible for the fit to end while |beta| is still significantly different from zero. The |beta|/N column helps us spot this case. The Lvl column also indicates how the fit is converging and should generally decrease. Note that on the first iteration only the powerlaw norm is varied. While not necessary this simple model, for more complicated models only varying the norms on the first iteration helps the fit proper get started in a reasonable region of parameter space.\n",
    "\n",
    "At the end of the fit PyXspec writes out the Variances and Principal Axes and Covariance Matrix sections. These are both based on the second derivatives of the statistic with respect to the parameters. Generally, the larger these second derivatives, the better determined the parameter (think of the case of a parabola in 1-D). The Covariance Matrix is the inverse of the matrix of second derivatives. The Variances and Principal Axes section is based on an eigenvector decomposition of the matrix of second derivatives and indicates which parameters are correlated. We can see in this case that the first eigenvector depends almost entirely on the powerlaw norm while the other two are combinations of the nH and powerlaw PhoIndex. This tells us that the norm is independent but the other two parameters are correlated.\n",
    "\n",
    "The next section shows the best-fit parameters and error estimates. The latter are just the square roots of the diagonal elements of the covariance matrix so implicitly assume that the parameter space is multidimensional Gaussian with all parameters independent. We already know in this case that the parameters are not independent so these error estimates should only be considered guidelines to help us determine the true errors later.\n",
    "\n",
    "The final section shows the statistic values at the end of the fit. PyXspec defines a fit statistic, used to determine the best-fit parameters and errors, and test statistic, used to decide whether this model and parameters provide a good fit to the data. By default, both statistics are $\\chi^2$. When the test statistic is $\\chi^2$ we can also calculate the null hypothesis probability. This is the probability of getting a value of $\\chi^2$ as large or larger than observed if the model is correct. If this probability is small then the model is not a good fit. The null hypothesis probability can be calculated analytically for $\\chi^2$ but not for some other test statistics so PyXspec provides another way of determining the meaning of the statistic value. The Fit.goodness() method performs simulations of the data based on the current model and parameters and compares the statistic values calculated with that for the real data. If the observed statistic is larger than the values for the simulated data this implies that the real data do not come from the model. To see how this works we will use the command for this case (where it is not necessary):"
   ]
  },
  {
   "cell_type": "code",
   "execution_count": 14,
   "metadata": {},
   "outputs": [
    {
     "name": "stdout",
     "output_type": "stream",
     "text": [
      "62.80% of realizations are < best test statistic 43.82  (nosim)  (fit)\n"
     ]
    },
    {
     "data": {
      "text/plain": [
       "62.8"
      ]
     },
     "execution_count": 14,
     "metadata": {},
     "output_type": "execute_result"
    }
   ],
   "source": [
    "Fit.goodness(1000)"
   ]
  },
  {
   "cell_type": "markdown",
   "metadata": {},
   "source": [
    "Approximately 60% of the simulations give a statistic value less than that observed, consistent with this being a good fit. We can plot a histogram of the $\\chi^2$ values from the simulations with the observed value shown by the vertical dotted line. "
   ]
  },
  {
   "cell_type": "code",
   "execution_count": 15,
   "metadata": {},
   "outputs": [],
   "source": [
    "Plot(\"goodness\")\n",
    "statvals = Plot.x()\n",
    "statdeltas = Plot.xErr()\n",
    "probvals = Plot.y()\n",
    "labels = Plot.labels()\n",
    "nBins = len(statvals)\n",
    "statstepvals = list()\n",
    "for i in range(nBins):\n",
    "    statstepvals.append(statvals[i] - statdeltas[i])\n",
    "statstepvals.append(statvals[-1]+statdeltas[-1])\n",
    "probvals.append(probvals[-1])\n",
    "maxprob = 0\n",
    "for i in range(nBins):\n",
    "    if probvals[i] > maxprob: maxprob = probvals[i]"
   ]
  },
  {
   "cell_type": "code",
   "execution_count": 16,
   "metadata": {},
   "outputs": [
    {
     "data": {
      "text/plain": [
       "<matplotlib.collections.LineCollection at 0x1448d8b38>"
      ]
     },
     "execution_count": 16,
     "metadata": {},
     "output_type": "execute_result"
    },
    {
     "data": {
      "image/png": "[encoded data removed]",
      "text/plain": [
       "<Figure size 432x288 with 1 Axes>"
      ]
     },
     "metadata": {
      "needs_background": "light"
     },
     "output_type": "display_data"
    }
   ],
   "source": [
    "plt.xlabel(labels[0])\n",
    "plt.ylabel(labels[1])\n",
    "plt.step(statstepvals,probvals,where='post')\n",
    "plt.vlines(Fit.testStatistic,0.0,maxprob,linestyles='dashed')"
   ]
  },
  {
   "cell_type": "markdown",
   "metadata": {},
   "source": [
    "So the statistic implies the fit is good but it is still always a good idea to look at the data and residuals to check for any systematic differences that may not be caught by the test. "
   ]
  },
  {
   "cell_type": "code",
   "execution_count": 17,
   "metadata": {},
   "outputs": [],
   "source": [
    "Plot(\"data resid\")\n",
    "energies = Plot.x()\n",
    "edeltas = Plot.xErr()\n",
    "rates = Plot.y(1,1)\n",
    "errors = Plot.yErr(1,1)\n",
    "foldedmodel = Plot.model()\n",
    "dataLabels = Plot.labels(1)\n",
    "residLabels = Plot.labels(2)\n",
    "# note that for matplotlib step plots we need an x-axis array which includes the start and end value for each\n",
    "# bin and the y-axis has to be the same size with an extra value added equal to the value of the last bin\n",
    "nE = len(energies)\n",
    "stepenergies = list()\n",
    "for i in range(nE):\n",
    "    stepenergies.append(energies[i] - edeltas[i])\n",
    "stepenergies.append(energies[-1]+edeltas[-1])\n",
    "foldedmodel.append(foldedmodel[-1])\n",
    "resid = Plot.y(1,2)\n",
    "residerr = Plot.yErr(1,2)"
   ]
  },
  {
   "cell_type": "code",
   "execution_count": 18,
   "metadata": {},
   "outputs": [
    {
     "data": {
      "text/plain": [
       "<matplotlib.collections.LineCollection at 0x1449e9f98>"
      ]
     },
     "execution_count": 18,
     "metadata": {},
     "output_type": "execute_result"
    },
    {
     "data": {
      "image/png": "[encoded data removed]",
      "text/plain": [
       "<Figure size 432x288 with 2 Axes>"
      ]
     },
     "metadata": {
      "needs_background": "light"
     },
     "output_type": "display_data"
    }
   ],
   "source": [
    "plt.subplot(211)\n",
    "plt.xscale('log')\n",
    "plt.yscale('log')\n",
    "plt.ylabel(dataLabels[1])\n",
    "plt.title(dataLabels[2])\n",
    "plt.errorbar(energies,rates,xerr=edeltas,yerr=errors,fmt='.')\n",
    "plt.step(stepenergies,foldedmodel,where='post')\n",
    "plt.subplot(212)\n",
    "plt.xscale('log')\n",
    "plt.xlabel(residLabels[0])\n",
    "plt.ylabel(residLabels[1])\n",
    "plt.errorbar(energies,resid,xerr=edeltas,yerr=residerr,fmt='.')\n",
    "plt.hlines(0.0,stepenergies[0],stepenergies[-1],linestyles='dashed')"
   ]
  },
  {
   "cell_type": "markdown",
   "metadata": {},
   "source": [
    "Now that we think we have the correct model we need to determine how well the parameters are determined. The screen output at the end of the fit shows the best-fitting parameter values, as well as approximations to their errors. These errors should be regarded as indications of the uncertainties in the parameters and should not be quoted in publications. The true errors, i.e. the confidence ranges, are obtained using the Fit.error() command. We want to run error on all three parameters which is an intrinsically parallel operation so we can use PyXspec's support for multiple cores and run the error estimations in parallel:"
   ]
  },
  {
   "cell_type": "code",
   "execution_count": 19,
   "metadata": {},
   "outputs": [
    {
     "name": "stdout",
     "output_type": "stream",
     "text": [
      " Parameter   Confidence Range (2.706)\n",
      "     1     0.109538      1.03334    (-0.441798,0.482)\n",
      "     2      2.03728      2.44823    (-0.198507,0.212446)\n",
      "     3   0.00953569    0.0181504    (-0.00348823,0.00512647)\n"
     ]
    }
   ],
   "source": [
    "Xset.parallel.error = 3\n",
    "Fit.error(\"1-3\")"
   ]
  },
  {
   "cell_type": "markdown",
   "metadata": {},
   "source": [
    "Here, the numbers 1, 2, 3 refer to the parameter numbers in the Model par column of the output at the end of the fit. For the first parameter, the column of absorbing hydrogen atoms, the 90% confidence range is 0.110 to 1.033. This corresponds to an excursion in $\\chi^2$ of 2.706. The reason these better errors are not given automatically as part of the fit output is that they entail further fitting. When the model is simple, this does not require much CPU, but for complicated models the extra time can be considerable. The error for each parameter is determined allowing the other two parameters to vary freely. If the parameters are uncorrelated this is all the information we need to know. However, we have an indication from the covariance matrix at the end of the fit that the column and photon index are correlated. To investigate this further we can use the Fit.steppar() to run a grid over these two parameters: "
   ]
  },
  {
   "cell_type": "code",
   "execution_count": 20,
   "metadata": {},
   "outputs": [
    {
     "name": "stdout",
     "output_type": "stream",
     "text": [
      "\n",
      "     Chi-Squared    Delta               nH      PhoIndex\n",
      "                 Chi-Squared             1             2\n",
      "\n",
      "          162.65      118.83    0           0    0         1.5\n",
      "          171.34      127.53    1        0.06    0         1.5\n",
      "          180.35      136.53    2        0.12    0         1.5\n",
      "          189.64      145.82    3        0.18    0         1.5\n",
      "           199.2      155.38    4        0.24    0         1.5\n",
      "             209      165.18    5         0.3    0         1.5\n",
      "          219.03      175.21    6        0.36    0         1.5\n",
      "          229.27      185.45    7        0.42    0         1.5\n",
      "           239.7      195.88    8        0.48    0         1.5\n",
      "           250.3      206.49    9        0.54    0         1.5\n",
      "          261.08      217.26   10         0.6    0         1.5\n",
      "          271.99      228.18   11        0.66    0         1.5\n",
      "          283.05      239.23   12        0.72    0         1.5\n",
      "          294.22      250.41   13        0.78    0         1.5\n",
      "          305.51      261.69   14        0.84    0         1.5\n",
      "           316.9      273.08   15         0.9    0         1.5\n",
      "          328.37      284.55   16        0.96    0         1.5\n",
      "          339.92      296.11   17        1.02    0         1.5\n",
      "          351.55      307.73   18        1.08    0         1.5\n",
      "          363.23      319.41   19        1.14    0         1.5\n",
      "          374.96      331.15   20         1.2    0         1.5\n",
      "          386.74      342.93   21        1.26    0         1.5\n",
      "          398.56      354.74   22        1.32    0         1.5\n",
      "          410.41      366.59   23        1.38    0         1.5\n",
      "          422.27      378.46   24        1.44    0         1.5\n",
      "          434.16      390.34   25         1.5    0         1.5\n",
      "           395.1      351.28   25         1.5    1        1.56\n",
      "          383.48      339.66   24        1.44    1        1.56\n",
      "           371.9      328.08   23        1.38    1        1.56\n",
      "          360.35      316.53   22        1.32    1        1.56\n",
      "          348.85      305.04   21        1.26    1        1.56\n",
      "          337.41      293.59   20         1.2    1        1.56\n",
      "          326.04      282.22   19        1.14    1        1.56\n",
      "          314.73      270.91   18        1.08    1        1.56\n",
      "          303.51      259.69   17        1.02    1        1.56\n",
      "          292.37      248.56   16        0.96    1        1.56\n",
      "          281.34      237.53   15         0.9    1        1.56\n",
      "          270.43      226.61   14        0.84    1        1.56\n",
      "          259.63      215.82   13        0.78    1        1.56\n",
      "          248.98      205.16   12        0.72    1        1.56\n",
      "          238.47      194.65   11        0.66    1        1.56\n",
      "          228.12       184.3   10         0.6    1        1.56\n",
      "          217.95      174.14    9        0.54    1        1.56\n",
      "          207.98      164.16    8        0.48    1        1.56\n",
      "          198.21      154.39    7        0.42    1        1.56\n",
      "          188.66      144.85    6        0.36    1        1.56\n",
      "          179.36      135.54    5         0.3    1        1.56\n",
      "          170.32       126.5    4        0.24    1        1.56\n",
      "          161.56      117.75    3        0.18    1        1.56\n",
      "          153.11      109.29    2        0.12    1        1.56\n",
      "          144.97      101.15    1        0.06    1        1.56\n",
      "          137.19      93.368    0           0    1        1.56\n",
      "          114.89      71.072    0           0    2        1.62\n",
      "          121.71      77.888    1        0.06    2        1.62\n",
      "          128.91       85.09    2        0.12    2        1.62\n",
      "          136.47      92.654    3        0.18    2        1.62\n",
      "          144.38      100.56    4        0.24    2        1.62\n",
      "           152.6      108.78    5         0.3    2        1.62\n",
      "          161.11      117.29    6        0.36    2        1.62\n",
      "          169.91      126.09    7        0.42    2        1.62\n",
      "          178.96      135.14    8        0.48    2        1.62\n",
      "          188.25      144.43    9        0.54    2        1.62\n",
      "          197.76      153.94   10         0.6    2        1.62\n",
      "          207.48      163.66   11        0.66    2        1.62\n",
      "          217.39      173.57   12        0.72    2        1.62\n",
      "          227.47      183.66   13        0.78    2        1.62\n",
      "          237.72      193.91   14        0.84    2        1.62\n",
      "          248.12       204.3   15         0.9    2        1.62\n",
      "          258.66      214.84   16        0.96    2        1.62\n",
      "          269.32       225.5   17        1.02    2        1.62\n",
      "           280.1      236.28   18        1.08    2        1.62\n",
      "          290.98      247.16   19        1.14    2        1.62\n",
      "          301.95      258.14   20         1.2    2        1.62\n",
      "          313.01      269.19   21        1.26    2        1.62\n",
      "          324.15      280.33   22        1.32    2        1.62\n",
      "          335.35      291.53   23        1.38    2        1.62\n",
      "          346.61      302.79   24        1.44    2        1.62\n",
      "          357.92       314.1   25         1.5    2        1.62\n",
      "          322.68      278.86   25         1.5    3        1.68\n",
      "          311.72       267.9   24        1.44    3        1.68\n",
      "          300.83      257.01   23        1.38    3        1.68\n",
      "          290.01      246.19   22        1.32    3        1.68\n",
      "          279.28      235.46   21        1.26    3        1.68\n",
      "          268.65      224.83   20         1.2    3        1.68\n",
      "          258.12      214.31   19        1.14    3        1.68\n",
      "          247.71       203.9   18        1.08    3        1.68\n",
      "          237.43      193.61   17        1.02    3        1.68\n",
      "          227.29      183.47   16        0.96    3        1.68\n",
      "          217.29      173.47   15         0.9    3        1.68\n",
      "          207.46      163.64   14        0.84    3        1.68\n",
      "           197.8      153.99   13        0.78    3        1.68\n",
      "          188.34      144.52   12        0.72    3        1.68\n",
      "          179.08      135.26   11        0.66    3        1.68\n",
      "          170.04      126.22   10         0.6    3        1.68\n",
      "          161.24      117.42    9        0.54    3        1.68\n",
      "          152.69      108.87    8        0.48    3        1.68\n",
      "          144.41      100.59    7        0.42    3        1.68\n",
      "          136.42      92.605    6        0.36    3        1.68\n",
      "          128.75      84.929    5         0.3    3        1.68\n",
      "           121.4      77.584    4        0.24    3        1.68\n",
      "          114.41      70.592    3        0.18    3        1.68\n",
      "           107.8      63.977    2        0.12    3        1.68\n",
      "          101.58      57.763    1        0.06    3        1.68\n",
      "          95.793      51.975    0           0    3        1.68\n",
      "          79.913      36.095    0           0    4        1.74\n",
      "          84.621      40.803    1        0.06    4        1.74\n",
      "          89.795      45.977    2        0.12    4        1.74\n",
      "          95.408       51.59    3        0.18    4        1.74\n",
      "          101.43      57.616    4        0.24    4        1.74\n",
      "          107.85      64.033    5         0.3    4        1.74\n",
      "          114.63      70.816    6        0.36    4        1.74\n",
      "          121.76      77.945    7        0.42    4        1.74\n",
      "          129.22      85.397    8        0.48    4        1.74\n",
      "          136.97      93.154    9        0.54    4        1.74\n",
      "          145.01       101.2   10         0.6    4        1.74\n",
      "          153.32      109.51   11        0.66    4        1.74\n",
      "          161.88      118.07   12        0.72    4        1.74\n",
      "          170.68      126.86   13        0.78    4        1.74\n",
      "          179.69      135.87   14        0.84    4        1.74\n",
      "           188.9      145.09   15         0.9    4        1.74\n",
      "          198.31      154.49   16        0.96    4        1.74\n",
      "          207.89      164.07   17        1.02    4        1.74\n",
      "          217.63      173.81   18        1.08    4        1.74\n",
      "          227.53      183.71   19        1.14    4        1.74\n",
      "          237.56      193.74   20         1.2    4        1.74\n",
      "          247.72       203.9   21        1.26    4        1.74\n",
      "             258      214.18   22        1.32    4        1.74\n",
      "          268.39      224.57   23        1.38    4        1.74\n",
      "          278.87      235.05   24        1.44    4        1.74\n",
      "          289.45      245.63   25         1.5    4        1.74\n",
      "          258.26      214.45   25         1.5    5         1.8\n",
      "          248.12       204.3   24        1.44    5         1.8\n",
      "          238.08      194.27   23        1.38    5         1.8\n",
      "          228.17      184.35   22        1.32    5         1.8\n",
      "          218.38      174.56   21        1.26    5         1.8\n",
      "          208.73      164.92   20         1.2    5         1.8\n",
      "          199.24      155.42   19        1.14    5         1.8\n",
      "          189.91      146.09   18        1.08    5         1.8\n",
      "          180.75      136.93   17        1.02    5         1.8\n",
      "          171.78      127.96   16        0.96    5         1.8\n",
      "          163.01      119.19   15         0.9    5         1.8\n",
      "          154.46      110.64   14        0.84    5         1.8\n",
      "          146.14      102.32   13        0.78    5         1.8\n",
      "          138.06      94.245   12        0.72    5         1.8\n",
      "          130.25      86.434   11        0.66    5         1.8\n",
      "          122.72      78.903   10         0.6    5         1.8\n",
      "          115.49      71.671    9        0.54    5         1.8\n",
      "          108.57      64.756    8        0.48    5         1.8\n",
      "             102      58.177    7        0.42    5         1.8\n",
      "          95.775      51.957    6        0.36    5         1.8\n",
      "          89.934      46.116    5         0.3    5         1.8\n",
      "          84.496      40.678    4        0.24    5         1.8\n",
      "          79.483      35.665    3        0.18    5         1.8\n",
      "          74.922      31.104    2        0.12    5         1.8\n",
      "          70.837      27.019    1        0.06    5         1.8\n",
      "          67.257      23.439    0           0    5         1.8\n",
      "          57.817          14    0           0    6        1.86\n",
      "          60.226      16.408    1        0.06    6        1.86\n",
      "          63.177      19.359    2        0.12    6        1.86\n",
      "          66.642      22.824    3        0.18    6        1.86\n",
      "          70.595      26.777    4        0.24    6        1.86\n",
      "           75.01      31.192    5         0.3    6        1.86\n",
      "          79.862      36.044    6        0.36    6        1.86\n",
      "          85.128       41.31    7        0.42    6        1.86\n",
      "          90.786      46.968    8        0.48    6        1.86\n",
      "          96.812      52.995    9        0.54    6        1.86\n",
      "          103.19      59.371   10         0.6    6        1.86\n",
      "          109.89      66.076   11        0.66    6        1.86\n",
      "          116.91      73.092   12        0.72    6        1.86\n",
      "          124.22      80.401   13        0.78    6        1.86\n",
      "           131.8      87.985   14        0.84    6        1.86\n",
      "          139.65      95.828   15         0.9    6        1.86\n",
      "          147.73      103.91   16        0.96    6        1.86\n",
      "          156.05      112.23   17        1.02    6        1.86\n",
      "          164.58      120.76   18        1.08    6        1.86\n",
      "           173.3      129.49   19        1.14    6        1.86\n",
      "          182.22       138.4   20         1.2    6        1.86\n",
      "          191.31      147.49   21        1.26    6        1.86\n",
      "          200.56      156.74   22        1.32    6        1.86\n",
      "          209.97      166.15   23        1.38    6        1.86\n",
      "          219.51      175.69   24        1.44    6        1.86\n",
      "          229.18      185.37   25         1.5    6        1.86\n",
      "          202.25      158.43   25         1.5    7        1.92\n",
      "          193.09      149.27   24        1.44    7        1.92\n",
      "          184.07      140.26   23        1.38    7        1.92\n",
      "          175.22       131.4   22        1.32    7        1.92\n",
      "          166.54      122.73   21        1.26    7        1.92\n",
      "          158.05      114.23   20         1.2    7        1.92\n",
      "          149.76      105.94   19        1.14    7        1.92\n",
      "          141.68       97.86   18        1.08    7        1.92\n",
      "          133.82      90.004   17        1.02    7        1.92\n",
      "          126.21      82.387   16        0.96    7        1.92\n",
      "          118.84      75.026   15         0.9    7        1.92\n",
      "          111.75      67.935   14        0.84    7        1.92\n",
      "          104.95      61.131   13        0.78    7        1.92\n",
      "          98.449      54.631   12        0.72    7        1.92\n",
      "          92.272      48.454   11        0.66    7        1.92\n",
      "          86.435      42.617   10         0.6    7        1.92\n",
      "          80.959      37.141    9        0.54    7        1.92\n",
      "          75.864      32.046    8        0.48    7        1.92\n",
      "          71.171      27.353    7        0.42    7        1.92\n",
      "          66.902      23.084    6        0.36    7        1.92\n",
      "          63.081      19.263    5         0.3    7        1.92\n",
      "          59.731      15.913    4        0.24    7        1.92\n",
      "          56.879      13.061    3        0.18    7        1.92\n",
      "          54.549      10.732    2        0.12    7        1.92\n",
      "          52.771      8.9532    1        0.06    7        1.92\n",
      "          51.572      7.7542    0           0    7        1.92\n",
      "          48.487      4.6688    0           0    8        1.98\n",
      "          48.444      4.6256    1        0.06    8        1.98\n",
      "          49.015      5.1975    2        0.12    8        1.98\n",
      "          50.173      6.3552    3        0.18    8        1.98\n",
      "          51.889      8.0709    4        0.24    8        1.98\n",
      "          54.136      10.318    5         0.3    8        1.98\n",
      "          56.888       13.07    6        0.36    8        1.98\n",
      "          60.121      16.303    7        0.42    8        1.98\n",
      "           63.81      19.993    8        0.48    8        1.98\n",
      "          67.934      24.116    9        0.54    8        1.98\n",
      "           72.47      28.652   10         0.6    8        1.98\n",
      "          77.397      33.579   11        0.66    8        1.98\n",
      "          82.695      38.877   12        0.72    8        1.98\n",
      "          88.345      44.527   13        0.78    8        1.98\n",
      "          94.327      50.509   14        0.84    8        1.98\n",
      "          100.62      56.807   15         0.9    8        1.98\n",
      "          107.22      63.402   16        0.96    8        1.98\n",
      "           114.1      70.279   17        1.02    8        1.98\n",
      "          121.24      77.423   18        1.08    8        1.98\n",
      "          128.63      84.817   19        1.14    8        1.98\n",
      "          136.27      92.447   20         1.2    8        1.98\n",
      "          144.12       100.3   21        1.26    8        1.98\n",
      "          152.18      108.36   22        1.32    8        1.98\n",
      "          160.44      116.62   23        1.38    8        1.98\n",
      "          168.89      125.07   24        1.44    8        1.98\n",
      "           177.5      133.68   25         1.5    8        1.98\n",
      "          154.97      111.15   25         1.5    9        2.04\n",
      "          146.93      103.12   24        1.44    9        2.04\n",
      "           139.1       95.28   23        1.38    9        2.04\n",
      "          131.47       87.65   22        1.32    9        2.04\n",
      "          124.06       80.24   21        1.26    9        2.04\n",
      "          116.88      73.064   20         1.2    9        2.04\n",
      "          109.95      66.134   19        1.14    9        2.04\n",
      "          103.28      59.466   18        1.08    9        2.04\n",
      "          96.893      53.075   17        1.02    9        2.04\n",
      "          90.793      46.975   16        0.96    9        2.04\n",
      "          85.002      41.184   15         0.9    9        2.04\n",
      "          79.536      35.718   14        0.84    9        2.04\n",
      "          74.414      30.596   13        0.78    9        2.04\n",
      "          69.652      25.835   12        0.72    9        2.04\n",
      "          65.272      21.454   11        0.66    9        2.04\n",
      "          61.292      17.474   10         0.6    9        2.04\n",
      "          57.733      13.915    9        0.54    9        2.04\n",
      "          54.617      10.799    8        0.48    9        2.04\n",
      "          51.966      8.1479    7        0.42    9        2.04\n",
      "          49.803      5.9856    6        0.36    9        2.04\n",
      "          48.154       4.336    5         0.3    9        2.04\n",
      "          47.042      3.2243    4        0.24    9        2.04\n",
      "          46.495      2.6768    3        0.18    9        2.04\n",
      "          46.538      2.7205    2        0.12    9        2.04\n",
      "          47.202      3.3838    1        0.06    9        2.04\n",
      "          48.514      4.6959    0           0    9        2.04\n",
      "          51.594      7.7759    0           0   10         2.1\n",
      "          48.992      5.1737    1        0.06   10         2.1\n",
      "           47.07      3.2525    2        0.12   10         2.1\n",
      "          45.801      1.9827    3        0.18   10         2.1\n",
      "          45.154      1.3359    4        0.24   10         2.1\n",
      "          45.103      1.2848    5         0.3   10         2.1\n",
      "          45.621      1.8028    6        0.36   10         2.1\n",
      "          46.682      2.8645    7        0.42   10         2.1\n",
      "          48.263      4.4454    8        0.48   10         2.1\n",
      "           50.34      6.5217    9        0.54   10         2.1\n",
      "          52.889      9.0706   10         0.6   10         2.1\n",
      "          55.888       12.07   11        0.66   10         2.1\n",
      "          59.317      15.499   12        0.72   10         2.1\n",
      "          63.155      19.338   13        0.78   10         2.1\n",
      "          67.383      23.565   14        0.84   10         2.1\n",
      "          71.981      28.163   15         0.9   10         2.1\n",
      "          76.932      33.114   16        0.96   10         2.1\n",
      "          82.218        38.4   17        1.02   10         2.1\n",
      "          87.821      44.003   18        1.08   10         2.1\n",
      "          93.727      49.909   19        1.14   10         2.1\n",
      "          99.919      56.101   20         1.2   10         2.1\n",
      "          106.38      62.564   21        1.26   10         2.1\n",
      "           113.1      69.284   22        1.32   10         2.1\n",
      "          120.07      76.248   23        1.38   10         2.1\n",
      "          127.26      83.441   24        1.44   10         2.1\n",
      "          134.67      90.852   25         1.5   10         2.1\n",
      "          116.63      72.813   25         1.5   11        2.16\n",
      "          109.88      66.058   24        1.44   11        2.16\n",
      "          103.36      59.542   23        1.38   11        2.16\n",
      "          97.097      53.279   22        1.32   11        2.16\n",
      "          91.101      47.283   21        1.26   11        2.16\n",
      "          85.385      41.567   20         1.2   11        2.16\n",
      "          79.965      36.147   19        1.14   11        2.16\n",
      "          74.856      31.038   18        1.08   11        2.16\n",
      "          70.074      26.256   17        1.02   11        2.16\n",
      "          65.635      21.818   16        0.96   11        2.16\n",
      "          61.558       17.74   15         0.9   11        2.16\n",
      "           57.86      14.042   14        0.84   11        2.16\n",
      "          54.559      10.741   13        0.78   11        2.16\n",
      "          51.676      7.8577   12        0.72   11        2.16\n",
      "          49.229      5.4108   11        0.66   11        2.16\n",
      "          47.239      3.4215   10         0.6   11        2.16\n",
      "          45.729      1.9113    9        0.54   11        2.16\n",
      "          44.721     0.90261    8        0.48   11        2.16\n",
      "          44.236     0.41847    7        0.42   11        2.16\n",
      "          44.301      0.4828    6        0.36   11        2.16\n",
      "          44.938      1.1204    5         0.3   11        2.16\n",
      "          46.175      2.3569    4        0.24   11        2.16\n",
      "          48.037      4.2189    3        0.18   11        2.16\n",
      "          50.552      6.7339    2        0.12   11        2.16\n",
      "          53.748      9.9303    1        0.06   11        2.16\n",
      "          57.655      13.838    0           0   11        2.16\n",
      "          66.617      22.799    0           0   12        2.22\n",
      "          61.395      17.577    1        0.06   12        2.22\n",
      "          56.912      13.094    2        0.12   12        2.22\n",
      "          53.139      9.3207    3        0.18   12        2.22\n",
      "          50.046       6.228    4        0.24   12        2.22\n",
      "          47.607      3.7887    5         0.3   12        2.22\n",
      "          45.794      1.9765    6        0.36   12        2.22\n",
      "          44.583     0.76546    7        0.42   12        2.22\n",
      "          43.949     0.13082    8        0.48   12        2.22\n",
      "          43.866    0.048488    9        0.54   12        2.22\n",
      "          44.313      0.4952   10         0.6   12        2.22\n",
      "          45.266      1.4484   11        0.66   12        2.22\n",
      "          46.704      2.8865   12        0.72   12        2.22\n",
      "          48.606      4.7882   13        0.78   12        2.22\n",
      "          50.951      7.1335   14        0.84   12        2.22\n",
      "           53.72      9.9025   15         0.9   12        2.22\n",
      "          56.894      13.076   16        0.96   12        2.22\n",
      "          60.455      16.637   17        1.02   12        2.22\n",
      "          64.384      20.566   18        1.08   12        2.22\n",
      "          68.665      24.848   19        1.14   12        2.22\n",
      "          73.282      29.464   20         1.2   12        2.22\n",
      "          78.218      34.401   21        1.26   12        2.22\n",
      "          83.459      39.641   22        1.32   12        2.22\n",
      "          88.989      45.171   23        1.38   12        2.22\n",
      "          94.795      50.977   24        1.44   12        2.22\n",
      "          100.86      57.044   25         1.5   12        2.22\n",
      "          87.369      43.551   25         1.5   13        2.28\n",
      "           82.02      38.202   24        1.44   13        2.28\n",
      "          76.955      33.137   23        1.38   13        2.28\n",
      "          72.187      28.369   22        1.32   13        2.28\n",
      "          67.732      23.914   21        1.26   13        2.28\n",
      "          63.605      19.787   20         1.2   13        2.28\n",
      "           59.82      16.002   19        1.14   13        2.28\n",
      "          56.395      12.577   18        1.08   13        2.28\n",
      "          53.346      9.5283   17        1.02   13        2.28\n",
      "          50.691      6.8727   16        0.96   13        2.28\n",
      "          48.446      4.6286   15         0.9   13        2.28\n",
      "          46.632      2.8144   14        0.84   13        2.28\n",
      "          45.267      1.4494   13        0.78   13        2.28\n",
      "          44.371     0.55347   12        0.72   13        2.28\n",
      "          43.965     0.14707   11        0.66   13        2.28\n",
      "          44.069     0.25143   10         0.6   13        2.28\n",
      "          44.706     0.88841    9        0.54   13        2.28\n",
      "          45.899      2.0806    8        0.48   13        2.28\n",
      "          47.669      3.8514    7        0.42   13        2.28\n",
      "          50.043      6.2248    6        0.36   13        2.28\n",
      "          53.044      9.2257    5         0.3   13        2.28\n",
      "          56.698       12.88    4        0.24   13        2.28\n",
      "          61.031      17.213    3        0.18   13        2.28\n",
      "          66.072      22.254    2        0.12   13        2.28\n",
      "          71.847      28.029    1        0.06   13        2.28\n",
      "          78.386      34.568    0           0   13        2.28\n",
      "          92.861      49.043    0           0   14        2.34\n",
      "          85.007       41.19    1        0.06   14        2.34\n",
      "           77.94      34.122    2        0.12   14        2.34\n",
      "          71.631      27.813    3        0.18   14        2.34\n",
      "          66.052      22.234    4        0.24   14        2.34\n",
      "          61.176      17.358    5         0.3   14        2.34\n",
      "          56.978       13.16    6        0.36   14        2.34\n",
      "          53.431       9.613    7        0.42   14        2.34\n",
      "          50.511      6.6935    8        0.48   14        2.34\n",
      "          48.195      4.3772    9        0.54   14        2.34\n",
      "          46.459      2.6407   10         0.6   14        2.34\n",
      "          45.279      1.4615   11        0.66   14        2.34\n",
      "          44.636      0.8177   12        0.72   14        2.34\n",
      "          44.506       0.688   13        0.78   14        2.34\n",
      "           44.87      1.0518   14        0.84   14        2.34\n",
      "          45.707      1.8891   15         0.9   14        2.34\n",
      "          46.998      3.1805   16        0.96   14        2.34\n",
      "          48.725      4.9073   17        1.02   14        2.34\n",
      "          50.869      7.0513   18        1.08   14        2.34\n",
      "          53.413      9.5949   19        1.14   14        2.34\n",
      "          56.339      12.521   20         1.2   14        2.34\n",
      "          59.631      15.813   21        1.26   14        2.34\n",
      "          63.274      19.456   22        1.32   14        2.34\n",
      "          67.251      23.433   23        1.38   14        2.34\n",
      "          71.548       27.73   24        1.44   14        2.34\n",
      "           76.15      32.332   25         1.5   14        2.34\n",
      "          67.199      23.381   25         1.5   15         2.4\n",
      "          63.369      19.551   24        1.44   15         2.4\n",
      "          59.865      16.047   23        1.38   15         2.4\n",
      "          56.703      12.885   22        1.32   15         2.4\n",
      "          53.898       10.08   21        1.26   15         2.4\n",
      "          51.464      7.6463   20         1.2   15         2.4\n",
      "          49.419      5.6013   19        1.14   15         2.4\n",
      "          47.779      3.9613   18        1.08   15         2.4\n",
      "          46.561      2.7436   17        1.02   15         2.4\n",
      "          45.784      1.9658   16        0.96   15         2.4\n",
      "          45.464      1.6464   15         0.9   15         2.4\n",
      "          45.622      1.8042   14        0.84   15         2.4\n",
      "          46.277      2.4587   13        0.78   15         2.4\n",
      "          47.448      3.6298   12        0.72   15         2.4\n",
      "          49.156      5.3381   11        0.66   15         2.4\n",
      "          51.423       7.605   10         0.6   15         2.4\n",
      "           54.27      10.452    9        0.54   15         2.4\n",
      "           57.72      13.902    8        0.48   15         2.4\n",
      "          61.796      17.978    7        0.42   15         2.4\n",
      "          66.522      22.704    6        0.36   15         2.4\n",
      "          71.922      28.104    5         0.3   15         2.4\n",
      "          78.021      34.203    4        0.24   15         2.4\n",
      "          84.844      41.027    3        0.18   15         2.4\n",
      "           92.42      48.602    2        0.12   15         2.4\n",
      "          100.77      56.956    1        0.06   15         2.4\n",
      "          109.93      66.117    0           0   15         2.4\n",
      "          129.49      85.672    0           0   16        2.46\n",
      "          119.04      75.218    1        0.06   16        2.46\n",
      "          109.41      65.588    2        0.12   16        2.46\n",
      "          100.57      56.755    3        0.18   16        2.46\n",
      "           92.51      48.692    4        0.24   16        2.46\n",
      "          85.191      41.373    5         0.3   16        2.46\n",
      "          78.591      34.773    6        0.36   16        2.46\n",
      "          72.685      28.867    7        0.42   16        2.46\n",
      "           67.45      23.632    8        0.48   16        2.46\n",
      "          62.861      19.043    9        0.54   16        2.46\n",
      "          58.896      15.078   10         0.6   16        2.46\n",
      "          55.533      11.715   11        0.66   16        2.46\n",
      "           52.75      8.9323   12        0.72   16        2.46\n",
      "          50.526      6.7082   13        0.78   16        2.46\n",
      "           48.84      5.0225   14        0.84   16        2.46\n",
      "          47.673      3.8553   15         0.9   16        2.46\n",
      "          47.005       3.187   16        0.96   16        2.46\n",
      "          46.817      2.9989   17        1.02   16        2.46\n",
      "           47.09      3.2726   18        1.08   16        2.46\n",
      "          47.808      3.9902   19        1.14   16        2.46\n",
      "          48.952      5.1344   20         1.2   16        2.46\n",
      "          50.506      6.6884   21        1.26   16        2.46\n",
      "          52.454      8.6358   22        1.32   16        2.46\n",
      "          54.779      10.961   23        1.38   16        2.46\n",
      "          57.466      13.648   24        1.44   16        2.46\n",
      "          60.501      16.683   25         1.5   16        2.46\n",
      "          56.035      12.218   25         1.5   17        2.52\n",
      "          53.817      9.9988   24        1.44   17        2.52\n",
      "          51.965      8.1475   23        1.38   17        2.52\n",
      "          50.496      6.6785   22        1.32   17        2.52\n",
      "          49.425      5.6074   21        1.26   17        2.52\n",
      "          48.768      4.9502   20         1.2   17        2.52\n",
      "          48.541      4.7232   19        1.14   17        2.52\n",
      "          48.761      4.9434   18        1.08   17        2.52\n",
      "          49.446      5.6281   17        1.02   17        2.52\n",
      "          50.613      6.7951   16        0.96   17        2.52\n",
      "          52.281      8.4628   15         0.9   17        2.52\n",
      "          54.468       10.65   14        0.84   17        2.52\n",
      "          57.194      13.376   13        0.78   17        2.52\n",
      "          60.478       16.66   12        0.72   17        2.52\n",
      "          64.342      20.524   11        0.66   17        2.52\n",
      "          68.805      24.987   10         0.6   17        2.52\n",
      "           73.89      30.072    9        0.54   17        2.52\n",
      "          79.617        35.8    8        0.48   17        2.52\n",
      "          86.011      42.193    7        0.42   17        2.52\n",
      "          93.093      49.275    6        0.36   17        2.52\n",
      "          100.89      57.069    5         0.3   17        2.52\n",
      "          109.42      65.599    4        0.24   17        2.52\n",
      "          118.71      74.891    3        0.18   17        2.52\n",
      "          128.79      84.968    2        0.12   17        2.52\n",
      "          139.68      95.858    1        0.06   17        2.52\n",
      "           151.4      107.59    0           0   17        2.52\n",
      "          175.55      131.73    0           0   18        2.58\n",
      "          162.57      118.76    1        0.06   18        2.58\n",
      "          150.44      106.63    2        0.12   18        2.58\n",
      "          139.14      95.322    3        0.18   18        2.58\n",
      "          128.64      84.818    4        0.24   18        2.58\n",
      "          118.91      75.089    5         0.3   18        2.58\n",
      "          109.93      66.111    6        0.36   18        2.58\n",
      "          101.68      57.861    7        0.42   18        2.58\n",
      "          94.134      50.316    8        0.48   18        2.58\n",
      "          87.272      43.454    9        0.54   18        2.58\n",
      "          81.069      37.252   10         0.6   18        2.58\n",
      "          75.506      31.688   11        0.66   18        2.58\n",
      "           70.56      26.742   12        0.72   18        2.58\n",
      "          66.212      22.394   13        0.78   18        2.58\n",
      "          62.441      18.623   14        0.84   18        2.58\n",
      "          59.227      15.409   15         0.9   18        2.58\n",
      "          56.552      12.734   16        0.96   18        2.58\n",
      "          54.397      10.579   17        1.02   18        2.58\n",
      "          52.743      8.9252   18        1.08   18        2.58\n",
      "          51.573      7.7553   19        1.14   18        2.58\n",
      "           50.87      7.0519   20         1.2   18        2.58\n",
      "          50.616      6.7983   21        1.26   18        2.58\n",
      "          50.796      6.9779   22        1.32   18        2.58\n",
      "          51.393      7.5748   23        1.38   18        2.58\n",
      "          52.391      8.5733   24        1.44   18        2.58\n",
      "          53.776      9.9585   25         1.5   18        2.58\n",
      "          53.691      9.8728   25         1.5   19        2.64\n",
      "          53.154       9.336   24        1.44   19        2.64\n",
      "          53.022      9.2041   23        1.38   19        2.64\n",
      "           53.31      9.4923   22        1.32   19        2.64\n",
      "          54.034      10.216   21        1.26   19        2.64\n",
      "          55.209      11.391   20         1.2   19        2.64\n",
      "          56.853      13.035   19        1.14   19        2.64\n",
      "          58.981      15.163   18        1.08   19        2.64\n",
      "           61.61      17.793   17        1.02   19        2.64\n",
      "           64.76      20.942   16        0.96   19        2.64\n",
      "          68.447      24.629   15         0.9   19        2.64\n",
      "          72.689      28.871   14        0.84   19        2.64\n",
      "          77.507      33.689   13        0.78   19        2.64\n",
      "          82.918        39.1   12        0.72   19        2.64\n",
      "          88.943      45.126   11        0.66   19        2.64\n",
      "          95.603      51.785   10         0.6   19        2.64\n",
      "          102.92      59.098    9        0.54   19        2.64\n",
      "          110.91      67.088    8        0.48   19        2.64\n",
      "          119.59      75.774    7        0.42   19        2.64\n",
      "             129      85.179    6        0.36   19        2.64\n",
      "          139.14      95.325    5         0.3   19        2.64\n",
      "          150.05      106.23    4        0.24   19        2.64\n",
      "          161.75      117.93    3        0.18   19        2.64\n",
      "          174.26      130.44    2        0.12   19        2.64\n",
      "           187.6      143.78    1        0.06   19        2.64\n",
      "           201.8      157.98    0           0   19        2.64\n",
      "          230.02       186.2    0           0   20         2.7\n",
      "          214.63      170.81    1        0.06   20         2.7\n",
      "           200.1      156.28    2        0.12   20         2.7\n",
      "          186.42       142.6    3        0.18   20         2.7\n",
      "          173.55      129.73    4        0.24   20         2.7\n",
      "          161.48      117.66    5         0.3   20         2.7\n",
      "          150.19      106.37    6        0.36   20         2.7\n",
      "          139.64      95.825    7        0.42   20         2.7\n",
      "          129.83      86.013    8        0.48   20         2.7\n",
      "          120.73       76.91    9        0.54   20         2.7\n",
      "          112.31      68.495   10         0.6   20         2.7\n",
      "          104.57      60.749   11        0.66   20         2.7\n",
      "          97.468       53.65   12        0.72   20         2.7\n",
      "          90.998       47.18   13        0.78   20         2.7\n",
      "          85.137      41.319   14        0.84   20         2.7\n",
      "          79.867      36.049   15         0.9   20         2.7\n",
      "          75.168       31.35   16        0.96   20         2.7\n",
      "          71.022      27.204   17        1.02   20         2.7\n",
      "          67.413      23.595   18        1.08   20         2.7\n",
      "          64.322      20.504   19        1.14   20         2.7\n",
      "          61.732      17.914   20         1.2   20         2.7\n",
      "          59.628       15.81   21        1.26   20         2.7\n",
      "          57.992      14.174   22        1.32   20         2.7\n",
      "          56.809      12.991   23        1.38   20         2.7\n",
      "          56.063      12.245   24        1.44   20         2.7\n",
      "           55.74      11.922   25         1.5   20         2.7\n",
      "          59.879      16.061   25         1.5   21        2.76\n",
      "          61.072      17.254   24        1.44   21        2.76\n",
      "          62.703      18.885   23        1.38   21        2.76\n",
      "          64.787      20.969   22        1.32   21        2.76\n",
      "          67.341      23.523   21        1.26   21        2.76\n",
      "          70.379      26.561   20         1.2   21        2.76\n",
      "          73.917      30.099   19        1.14   21        2.76\n",
      "          77.973      34.155   18        1.08   21        2.76\n",
      "          82.562      38.744   17        1.02   21        2.76\n",
      "          87.702      43.884   16        0.96   21        2.76\n",
      "           93.41      49.592   15         0.9   21        2.76\n",
      "          99.704      55.886   14        0.84   21        2.76\n",
      "           106.6      62.784   13        0.78   21        2.76\n",
      "          114.12      70.304   12        0.72   21        2.76\n",
      "          122.28      78.465   11        0.66   21        2.76\n",
      "           131.1      87.286   10         0.6   21        2.76\n",
      "          140.61      96.788    9        0.54   21        2.76\n",
      "          150.81      106.99    8        0.48   21        2.76\n",
      "          161.73      117.91    7        0.42   21        2.76\n",
      "          173.39      129.57    6        0.36   21        2.76\n",
      "          185.81      141.99    5         0.3   21        2.76\n",
      "          199.01      155.19    4        0.24   21        2.76\n",
      "          213.02       169.2    3        0.18   21        2.76\n",
      "          227.85      184.03    2        0.12   21        2.76\n",
      "          243.53      199.71    1        0.06   21        2.76\n",
      "          260.08      216.26    0           0   21        2.76\n",
      "          291.83      248.01    0           0   22        2.82\n",
      "          274.17      230.35    1        0.06   22        2.82\n",
      "          257.37      213.55    2        0.12   22        2.82\n",
      "          241.43      197.61    3        0.18   22        2.82\n",
      "          226.31      182.49    4        0.24   22        2.82\n",
      "             212      168.19    5         0.3   22        2.82\n",
      "          198.48      154.67    6        0.36   22        2.82\n",
      "          185.73      141.91    7        0.42   22        2.82\n",
      "          173.72      129.91    8        0.48   22        2.82\n",
      "          162.45      118.63    9        0.54   22        2.82\n",
      "          151.88      108.06   10         0.6   22        2.82\n",
      "             142      98.177   11        0.66   22        2.82\n",
      "          132.79      88.967   12        0.72   22        2.82\n",
      "          124.23      80.409   13        0.78   22        2.82\n",
      "           116.3      72.485   14        0.84   22        2.82\n",
      "          108.99      65.176   15         0.9   22        2.82\n",
      "          102.28      58.466   16        0.96   22        2.82\n",
      "          96.154      52.337   17        1.02   22        2.82\n",
      "          90.589      46.771   18        1.08   22        2.82\n",
      "          85.571      41.753   19        1.14   22        2.82\n",
      "          81.084      37.266   20         1.2   22        2.82\n",
      "          77.111      33.294   21        1.26   22        2.82\n",
      "          73.638       29.82   22        1.32   22        2.82\n",
      "          70.649      26.831   23        1.38   22        2.82\n",
      "          68.127      24.309   24        1.44   22        2.82\n",
      "           66.06      22.242   25         1.5   22        2.82\n",
      "          74.227      30.409   25         1.5   23        2.88\n",
      "          77.172      33.355   24        1.44   23        2.88\n",
      "          80.586      36.768   23        1.38   23        2.88\n",
      "          84.481      40.663   22        1.32   23        2.88\n",
      "          88.873      45.055   21        1.26   23        2.88\n",
      "          93.778       49.96   20         1.2   23        2.88\n",
      "           99.21      55.392   19        1.14   23        2.88\n",
      "          105.19      61.367   18        1.08   23        2.88\n",
      "          111.72      67.902   17        1.02   23        2.88\n",
      "          118.83      75.013   16        0.96   23        2.88\n",
      "          126.53      82.715   15         0.9   23        2.88\n",
      "          134.84      91.027   14        0.84   23        2.88\n",
      "          143.78      99.964   13        0.78   23        2.88\n",
      "          153.36      109.54   12        0.72   23        2.88\n",
      "           163.6      119.79   11        0.66   23        2.88\n",
      "          174.52      130.71   10         0.6   23        2.88\n",
      "          186.14      142.32    9        0.54   23        2.88\n",
      "          198.47      154.66    8        0.48   23        2.88\n",
      "          211.54      167.72    7        0.42   23        2.88\n",
      "          225.36      181.54    6        0.36   23        2.88\n",
      "          239.95      196.13    5         0.3   23        2.88\n",
      "          255.33      211.51    4        0.24   23        2.88\n",
      "          271.52       227.7    3        0.18   23        2.88\n",
      "          288.54      244.72    2        0.12   23        2.88\n",
      "          306.41      262.59    1        0.06   23        2.88\n",
      "          325.15      281.33    0           0   23        2.88\n",
      "           359.9      316.08    0           0   24        2.94\n",
      "          340.13      296.31    1        0.06   24        2.94\n",
      "          321.22       277.4    2        0.12   24        2.94\n",
      "          303.16      259.35    3        0.18   24        2.94\n",
      "          285.94      242.12    4        0.24   24        2.94\n",
      "          269.52       225.7    5         0.3   24        2.94\n",
      "          253.89      210.07    6        0.36   24        2.94\n",
      "          239.04      195.22    7        0.42   24        2.94\n",
      "          224.94      181.13    8        0.48   24        2.94\n",
      "          211.58      167.77    9        0.54   24        2.94\n",
      "          198.94      155.13   10         0.6   24        2.94\n",
      "          187.01      143.19   11        0.66   24        2.94\n",
      "          175.75      131.94   12        0.72   24        2.94\n",
      "          165.17      121.35   13        0.78   24        2.94\n",
      "          155.24      111.42   14        0.84   24        2.94\n",
      "          145.94      102.12   15         0.9   24        2.94\n",
      "          137.26      93.437   16        0.96   24        2.94\n",
      "          129.18      85.357   17        1.02   24        2.94\n",
      "          121.68      77.863   18        1.08   24        2.94\n",
      "          114.76      70.938   19        1.14   24        2.94\n",
      "          108.39      64.568   20         1.2   24        2.94\n",
      "          102.55      58.737   21        1.26   24        2.94\n",
      "          97.247      53.429   22        1.32   24        2.94\n",
      "          92.449      48.631   23        1.38   24        2.94\n",
      "          88.145      44.327   24        1.44   24        2.94\n",
      "          84.322      40.504   25         1.5   24        2.94\n",
      "          96.281      52.463   25         1.5   25           3\n",
      "          100.98      57.162   24        1.44   25           3\n",
      "          106.17      62.352   23        1.38   25           3\n",
      "          111.87      68.048   22        1.32   25           3\n",
      "          118.08      74.264   21        1.26   25           3\n",
      "          124.83      81.014   20         1.2   25           3\n",
      "          132.13      88.312   19        1.14   25           3\n",
      "          139.99      96.175   18        1.08   25           3\n",
      "          148.43      104.62   17        1.02   25           3\n",
      "          157.47      113.65   16        0.96   25           3\n",
      "          167.11      123.29   15         0.9   25           3\n",
      "          177.38      133.56   14        0.84   25           3\n",
      "          188.29      144.47   13        0.78   25           3\n",
      "          199.86      156.04   12        0.72   25           3\n",
      "           212.1      168.28   11        0.66   25           3\n",
      "          225.03      181.21   10         0.6   25           3\n",
      "          238.66      194.84    9        0.54   25           3\n",
      "          253.02       209.2    8        0.48   25           3\n",
      "          268.12       224.3    7        0.42   25           3\n",
      "          283.97      240.15    6        0.36   25           3\n",
      "           300.6      256.78    5         0.3   25           3\n",
      "          318.01       274.2    4        0.24   25           3\n",
      "          336.24      292.42    3        0.18   25           3\n",
      "          355.29      311.47    2        0.12   25           3\n",
      "          375.18      331.37    1        0.06   25           3\n",
      "          395.94      352.12    0           0   25           3\n"
     ]
    }
   ],
   "source": [
    "Fit.steppar(\"1 0.0 1.5 25 2 1.5 3.0 25\")"
   ]
  },
  {
   "cell_type": "markdown",
   "metadata": {},
   "source": [
    "The results can be understood more clearly by plotting confidence contours:"
   ]
  },
  {
   "cell_type": "code",
   "execution_count": 21,
   "metadata": {},
   "outputs": [
    {
     "data": {
      "text/plain": [
       "<matplotlib.legend.Legend at 0x144bf5dd8>"
      ]
     },
     "execution_count": 21,
     "metadata": {},
     "output_type": "execute_result"
    },
    {
     "data": {
      "image/png": "[encoded data removed]",
      "text/plain": [
       "<Figure size 432x288 with 1 Axes>"
      ]
     },
     "metadata": {
      "needs_background": "light"
     },
     "output_type": "display_data"
    }
   ],
   "source": [
    "Plot.addCommand(\"image off\")\n",
    "Plot(\"contour\")\n",
    "Plot.delCommand(1)\n",
    "labels = Plot.labels()\n",
    "x = Plot.x()\n",
    "y = Plot.y()\n",
    "z = Plot.z()\n",
    "levelvals = Plot.contourLevels()\n",
    "statval = Fit.statistic\n",
    "plt.contour(x,y,z,levelvals)\n",
    "plt.ylabel(labels[0])\n",
    "plt.xlabel(labels[1])\n",
    "plt.errorbar(m1.phabs.nH.values[0],m1.powerlaw.PhoIndex.values[0],fmt='.')\n",
    "legendstring = f\"min={statval:{10}.{4}}, levels={levelvals[0]:{10}.{4}},{levelvals[1]:{10}.{4}},{levelvals[2]:{10}.{4}}\"\n",
    "plt.legend([legendstring], loc='upper left')"
   ]
  },
  {
   "cell_type": "markdown",
   "metadata": {},
   "source": [
    "The contours shown are for one, two, and three sigma. The dot marks the best-fit position.\n",
    "\n",
    "What else can we do with the fit? One thing is to derive the flux of the model. The data by themselves only give the instrument-dependent count rate. The model, on the other hand, is an estimate of the true spectrum emitted. In PyXspec, the model is defined in physical units independent of the instrument. AllModels.calcFlux() integrates the current model over the range specified by the user: "
   ]
  },
  {
   "cell_type": "code",
   "execution_count": 22,
   "metadata": {},
   "outputs": [
    {
     "name": "stdout",
     "output_type": "stream",
     "text": [
      " Model Flux 0.0035392 photons (2.2323e-11 ergs/cm^2/s) range (2.0000 - 10.000 keV)\n"
     ]
    }
   ],
   "source": [
    "AllModels.calcFlux(\"2.0 10.0\")"
   ]
  },
  {
   "cell_type": "markdown",
   "metadata": {},
   "source": [
    "AllModels is the way of operating on all Model objects in the same way as AllData on all Spectrum objects.\n",
    "\n",
    "Here we have chosen the range of 2-10 keV and find that the energy flux is $2.2\\times10^{-11}$ ergs/cm$^2$/s. Note that calcFlux will integrate only within the energy range of the current response matrix. If the model flux outside this range is desired - in effect, an extrapolation beyond the data - then the method setEnergies should be used. This method defines a set of energies on which the models will be calculated. The resulting models are then remapped onto the response energies for convolution with the response matrix. For example, if we want to know the flux of our model in the ROSAT PSPC band of 0.2-2 keV, we enter: "
   ]
  },
  {
   "cell_type": "code",
   "execution_count": 23,
   "metadata": {},
   "outputs": [
    {
     "name": "stdout",
     "output_type": "stream",
     "text": [
      "\n",
      "Models will use response energies extended to:\n",
      "   Low:  0.2 in 100 log bins\n",
      "\n",
      "Fit statistic  : Chi-Squared                   43.82     using 45 bins.\n",
      "\n",
      "Test statistic : Chi-Squared                   43.82     using 45 bins.\n",
      " Null hypothesis probability of 3.94e-01 with 42 degrees of freedom\n",
      " Current data and model not fit yet.\n",
      " Model Flux  0.004288 photons (8.7862e-12 ergs/cm^2/s) range (0.20000 - 2.0000 keV)\n"
     ]
    }
   ],
   "source": [
    "AllModels.setEnergies(\"extend\",\"low,0.2,100\")\n",
    "AllModels.calcFlux(\"0.2 2.0\")"
   ]
  },
  {
   "cell_type": "markdown",
   "metadata": {},
   "source": [
    "The energy flux, at $8.8\\times10^{-12}$ ergs/cm$^2$/s is lower in this band but the photon flux is higher. The model energies can be reset to the response energies using AllModels.setEnergies(\"reset\"). Calculating the flux is not usually enough, we want its uncertainty as well. The best way to do this is to use the cflux model. Suppose further that what we really want is the flux without the absorption then we redefine the model by"
   ]
  },
  {
   "cell_type": "code",
   "execution_count": 24,
   "metadata": {},
   "outputs": [
    {
     "name": "stdout",
     "output_type": "stream",
     "text": [
      "\n",
      "========================================================================\n",
      "Model phabs<1>*cflux<2>*powerlaw<3> Source No.: 1   Active/On\n",
      "Model Model Component  Parameter  Unit     Value\n",
      " par  comp\n",
      "   1    1   phabs      nH         10^22    1.00000      +/-  0.0          \n",
      "   2    2   cflux      Emin       keV      0.500000     frozen\n",
      "   3    2   cflux      Emax       keV      10.0000      frozen\n",
      "   4    2   cflux      lg10Flux   cgs      -12.0000     +/-  0.0          \n",
      "   5    3   powerlaw   PhoIndex            1.00000      +/-  0.0          \n",
      "   6    3   powerlaw   norm                1.00000      +/-  0.0          \n",
      "________________________________________________________________________\n",
      "\n",
      "\n",
      "Fit statistic  : Chi-Squared                 3439.22     using 45 bins.\n",
      "\n",
      "Test statistic : Chi-Squared                 3439.22     using 45 bins.\n",
      " Null hypothesis probability of 0.00e+00 with 41 degrees of freedom\n",
      " Current data and model not fit yet.\n",
      "\n",
      "Fit statistic  : Chi-Squared                   51.70     using 45 bins.\n",
      "\n",
      "Test statistic : Chi-Squared                   51.70     using 45 bins.\n",
      " Null hypothesis probability of 1.22e-01 with 41 degrees of freedom\n",
      " Current data and model not fit yet.\n",
      "\n",
      "========================================================================\n",
      "Model phabs<1>*cflux<2>*powerlaw<3> Source No.: 1   Active/On\n",
      "Model Model Component  Parameter  Unit     Value\n",
      " par  comp\n",
      "   1    1   phabs      nH         10^22    0.551404     +/-  0.0          \n",
      "   2    2   cflux      Emin       keV      0.200000     frozen\n",
      "   3    2   cflux      Emax       keV      2.00000      frozen\n",
      "   4    2   cflux      lg10Flux   cgs      -10.3000     +/-  0.0          \n",
      "   5    3   powerlaw   PhoIndex            2.23578      +/-  0.0          \n",
      "   6    3   powerlaw   norm                1.30240E-02  +/-  0.0          \n",
      "________________________________________________________________________\n",
      "\n"
     ]
    }
   ],
   "source": [
    "parVals = m1(1).values[0], m1(2).values[0], m1(3).values[0]\n",
    "m1 = Model(\"pha*cflux(pow)\",setPars=(parVals[0],0.2,2.0,-10.3,parVals[1],parVals[2]))"
   ]
  },
  {
   "cell_type": "markdown",
   "metadata": {},
   "source": [
    "The Emin and Emax parameters are set to the energy range over which we want the flux to be calculated. We also have to fix the norm of the powerlaw because the normalization of the model will now be determined by the lg10Flux parameter. "
   ]
  },
  {
   "cell_type": "code",
   "execution_count": 25,
   "metadata": {},
   "outputs": [
    {
     "name": "stdout",
     "output_type": "stream",
     "text": [
      "\n",
      "Fit statistic  : Chi-Squared                   51.70     using 45 bins.\n",
      "\n",
      "Test statistic : Chi-Squared                   51.70     using 45 bins.\n",
      " Null hypothesis probability of 1.45e-01 with 42 degrees of freedom\n",
      " Current data and model not fit yet.\n"
     ]
    }
   ],
   "source": [
    "m1.powerlaw.norm.frozen = True"
   ]
  },
  {
   "cell_type": "code",
   "execution_count": 26,
   "metadata": {},
   "outputs": [
    {
     "name": "stdout",
     "output_type": "stream",
     "text": [
      " Warning: renorm - no variable model to allow  renormalization\n",
      "                                   Parameters\n",
      "Chi-Squared  |beta|/N    Lvl          1:nH    4:lg10Flux    5:PhoIndex\n",
      "43.821       153.637      -3      0.542833      -10.2824       2.23171\n",
      "43.8179      2.64635      -4      0.550971      -10.2792       2.23570\n",
      "========================================\n",
      " Variances and Principal Axes\n",
      "                 1        4        5  \n",
      " 3.3544E-05|  0.0629  -0.8010   0.5954  \n",
      " 3.1521E-03|  0.5045  -0.4892  -0.7114  \n",
      " 1.0233E-01|  0.8611   0.3451   0.3733  \n",
      "----------------------------------------\n",
      "\n",
      "====================================\n",
      "  Covariance Matrix\n",
      "        1           2           3   \n",
      "   7.668e-02   2.963e-02   3.177e-02\n",
      "   2.963e-02   1.296e-02   1.427e-02\n",
      "   3.177e-02   1.427e-02   1.587e-02\n",
      "------------------------------------\n",
      "\n",
      "========================================================================\n",
      "Model phabs<1>*cflux<2>*powerlaw<3> Source No.: 1   Active/On\n",
      "Model Model Component  Parameter  Unit     Value\n",
      " par  comp\n",
      "   1    1   phabs      nH         10^22    0.550971     +/-  0.276920     \n",
      "   2    2   cflux      Emin       keV      0.200000     frozen\n",
      "   3    2   cflux      Emax       keV      2.00000      frozen\n",
      "   4    2   cflux      lg10Flux   cgs      -10.2792     +/-  0.113859     \n",
      "   5    3   powerlaw   PhoIndex            2.23570      +/-  0.125972     \n",
      "   6    3   powerlaw   norm                1.30240E-02  frozen\n",
      "________________________________________________________________________\n",
      "\n",
      "\n",
      "Fit statistic  : Chi-Squared                   43.82     using 45 bins.\n",
      "\n",
      "Test statistic : Chi-Squared                   43.82     using 45 bins.\n",
      " Null hypothesis probability of 3.94e-01 with 42 degrees of freedom\n",
      " Parameter   Confidence Range (2.706)\n",
      "     4     -10.4578     -10.0801    (-0.178719,0.198981)\n"
     ]
    }
   ],
   "source": [
    "Fit.perform()\n",
    "Fit.error(\"4\")"
   ]
  },
  {
   "cell_type": "markdown",
   "metadata": {},
   "source": [
    "for a 90% confidence range on the 0.2-2 keV unabsorbed flux of $3.49\\times10^{-11}$ - $8.33\\times10^{-11}$ ergs/cm$^2$/s.\n",
    "\n",
    "The fit, as we've remarked, is good, and the parameters are constrained. But unless the purpose of our investigation is merely to measure a photon index, it's a good idea to check whether alternative models can fit the data just as well. We also should derive upper limits to components such as iron emission lines and additional continua, which, although not evident in the data nor required for a good fit, are nevertheless important to constrain. First, let's try an absorbed black body: "
   ]
  },
  {
   "cell_type": "code",
   "execution_count": 27,
   "metadata": {},
   "outputs": [
    {
     "name": "stdout",
     "output_type": "stream",
     "text": [
      "\n",
      "========================================================================\n",
      "Model phabs<1>*bbody<2> Source No.: 1   Active/On\n",
      "Model Model Component  Parameter  Unit     Value\n",
      " par  comp\n",
      "   1    1   phabs      nH         10^22    1.00000      +/-  0.0          \n",
      "   2    2   bbody      kT         keV      3.00000      +/-  0.0          \n",
      "   3    2   bbody      norm                1.00000      +/-  0.0          \n",
      "________________________________________________________________________\n",
      "\n",
      "\n",
      "Fit statistic  : Chi-Squared              3.379668e+09     using 45 bins.\n",
      "\n",
      "Test statistic : Chi-Squared              3.379668e+09     using 45 bins.\n",
      " Null hypothesis probability of 0.000000e+00 with 42 degrees of freedom\n",
      " Current data and model not fit yet.\n",
      "                                   Parameters\n",
      "Chi-Squared  |beta|/N    Lvl          1:nH          2:kT        3:norm\n",
      "1532.94      63.1918       0      0.332069       3.01550   0.000673517\n",
      "1521.42      111571        0      0.153909       2.96509   0.000613317\n",
      "1490.16      170627        0     0.0624033       2.87563   0.000569789\n",
      "1443.32      204857        0     0.0178739       2.76602   0.000534628\n",
      "1388.24      227421        0    0.00734630       2.64698   0.000503822\n",
      "1324.93      244501        0    0.00243756       2.52364   0.000475538\n",
      "1254.69      259287        0   0.000178082       2.39808   0.000449095\n",
      "1178.52      272841        0   5.59277e-05       2.27059   0.000423584\n",
      "1085.63      287146        0   2.59575e-05       2.13543   0.000401354\n",
      "985.199      290402        0   1.33741e-06       1.99739   0.000379210\n",
      "Number of trials exceeded: continue fitting? 544.372      293829       -1   5.27802e-07       1.08605   0.000197920\n",
      "366.221      1.24177e+06  -2   1.02109e-07       1.18511   0.000249555\n",
      "238.592      623208       -3   1.85341e-08       1.08146   0.000257752\n",
      "127.072      436440       -4   6.35802e-09      0.900422   0.000270710\n",
      "***Warning: Zero alpha-matrix diagonal element for parameter 1\n",
      " Parameter 1 is pegged at 6.35802e-09 due to zero or negative pivot element, likely\n",
      " caused by the fit being insensitive to the parameter.\n",
      "123.784      183600       -5   6.35802e-09      0.892257   0.000278644\n",
      "123.773      424.202      -6   6.35802e-09      0.890659   0.000278609\n",
      "123.773      23.7694      -7   6.35802e-09      0.890290   0.000278598\n",
      "***Warning: Zero alpha-matrix diagonal element for parameter 1\n",
      " Parameter 1 is pegged at 6.35802e-09 due to zero or negative pivot element, likely\n",
      " caused by the fit being insensitive to the parameter.\n",
      "123.773      0.374813     -3   6.35802e-09      0.890204   0.000278596\n",
      "==============================\n",
      " Variances and Principal Axes\n",
      "                 2        3  \n",
      " 2.2370E-11| -0.0000   1.0000  \n",
      " 2.8677E-04|  1.0000   0.0000  \n",
      "------------------------------\n",
      "\n",
      "========================\n",
      "  Covariance Matrix\n",
      "        1           2   \n",
      "   2.868e-04   9.336e-09\n",
      "   9.336e-09   2.267e-11\n",
      "------------------------\n",
      "\n",
      "========================================================================\n",
      "Model phabs<1>*bbody<2> Source No.: 1   Active/On\n",
      "Model Model Component  Parameter  Unit     Value\n",
      " par  comp\n",
      "   1    1   phabs      nH         10^22    6.35802E-09  +/-  -1.00000     \n",
      "   2    2   bbody      kT         keV      0.890204     +/-  1.69342E-02  \n",
      "   3    2   bbody      norm                2.78596E-04  +/-  4.76175E-06  \n",
      "________________________________________________________________________\n",
      "\n",
      "\n",
      "Fit statistic  : Chi-Squared                  123.77     using 45 bins.\n",
      "\n",
      "Test statistic : Chi-Squared                  123.77     using 45 bins.\n",
      " Null hypothesis probability of 5.42e-10 with 42 degrees of freedom\n"
     ]
    }
   ],
   "source": [
    "m1 = Model(\"phabs*bb\")\n",
    "Fit.perform()"
   ]
  },
  {
   "cell_type": "markdown",
   "metadata": {},
   "source": [
    "Note that the fit has written out a warning about the first parameter and its estimated error is written as -1. This indicates that the fit is unable to constrain the parameter and it should be considered indeterminate. This usually indicates that the model is not appropriate. One thing to check in this case is that the model component has any contribution within the energy range being calculated.\n",
    "\n",
    "The black body fit is obviously not a good one. Not only is $\\chi^2$ large, but the best-fitting N$_{\\rm H}$ is indeterminate. Inspection of the residuals confirms this: the pronounced wave-like shape is indicative of a bad choice of overall continuum. "
   ]
  },
  {
   "cell_type": "code",
   "execution_count": 28,
   "metadata": {
    "scrolled": true
   },
   "outputs": [],
   "source": [
    "Plot(\"data resid\")\n",
    "energies = Plot.x()\n",
    "edeltas = Plot.xErr()\n",
    "rates = Plot.y(1,1)\n",
    "errors = Plot.yErr(1,1)\n",
    "foldedmodel = Plot.model()\n",
    "dataLabels = Plot.labels(1)\n",
    "residLabels = Plot.labels(2)\n",
    "# note that for matplotlib step plots we need an x-axis array which includes the start and end value for each\n",
    "# bin and the y-axis has to be the same size with an extra value added equal to the value of the last bin\n",
    "nE = len(energies)\n",
    "stepenergies = list()\n",
    "for i in range(nE):\n",
    "    stepenergies.append(energies[i] - edeltas[i])\n",
    "stepenergies.append(energies[-1]+edeltas[-1])\n",
    "foldedmodel.append(foldedmodel[-1])\n",
    "resid = Plot.y(1,2)\n",
    "residerr = Plot.yErr(1,2)"
   ]
  },
  {
   "cell_type": "code",
   "execution_count": 29,
   "metadata": {},
   "outputs": [
    {
     "data": {
      "text/plain": [
       "<matplotlib.collections.LineCollection at 0x144b8f198>"
      ]
     },
     "execution_count": 29,
     "metadata": {},
     "output_type": "execute_result"
    },
    {
     "data": {
      "image/png": "[encoded data removed]",
      "text/plain": [
       "<Figure size 432x288 with 2 Axes>"
      ]
     },
     "metadata": {
      "needs_background": "light"
     },
     "output_type": "display_data"
    }
   ],
   "source": [
    "plt.subplot(211)\n",
    "plt.xscale('log')\n",
    "plt.yscale('log')\n",
    "plt.ylabel(dataLabels[1])\n",
    "plt.title(dataLabels[2])\n",
    "plt.errorbar(energies,rates,xerr=edeltas,yerr=errors,fmt='.')\n",
    "plt.step(stepenergies,foldedmodel,where='post')\n",
    "plt.subplot(212)\n",
    "plt.xscale('log')\n",
    "plt.xlabel(residLabels[0])\n",
    "plt.ylabel(residLabels[1])\n",
    "plt.errorbar(energies,resid,xerr=edeltas,yerr=residerr,fmt='.')\n",
    "plt.hlines(0.0,stepenergies[0],stepenergies[-1],linestyles='dashed')"
   ]
  },
  {
   "cell_type": "markdown",
   "metadata": {},
   "source": [
    "Note the wave-like shape of the residuals which indicates how poor the fit is, i.e. that the continuum is obviously not a black body.\n",
    "\n",
    "Let's try thermal bremsstrahlung next:"
   ]
  },
  {
   "cell_type": "code",
   "execution_count": 30,
   "metadata": {},
   "outputs": [
    {
     "name": "stdout",
     "output_type": "stream",
     "text": [
      "\n",
      "========================================================================\n",
      "Model phabs<1>*bremss<2> Source No.: 1   Active/On\n",
      "Model Model Component  Parameter  Unit     Value\n",
      " par  comp\n",
      "   1    1   phabs      nH         10^22    1.00000      +/-  0.0          \n",
      "   2    2   bremss     kT         keV      7.00000      +/-  0.0          \n",
      "   3    2   bremss     norm                1.00000      +/-  0.0          \n",
      "________________________________________________________________________\n",
      "\n",
      "\n",
      "Fit statistic  : Chi-Squared              4.561670e+07     using 45 bins.\n",
      "\n",
      "Test statistic : Chi-Squared              4.561670e+07     using 45 bins.\n",
      " Null hypothesis probability of 0.000000e+00 with 42 degrees of freedom\n",
      " Current data and model not fit yet.\n",
      "                                   Parameters\n",
      "Chi-Squared  |beta|/N    Lvl          1:nH          2:kT        3:norm\n",
      "102.905      23.3691      -3      0.274774       6.15759    0.00726465\n",
      "46.547       16309.7      -4     0.0366323       5.60534    0.00785786\n",
      "43.1796      5581.18      -5     0.0168094       5.64491    0.00792020\n",
      "42.7227      3582.86      -6    0.00835105       5.64192    0.00792319\n",
      "42.3475      3344.98      -7   0.000464254       5.64164    0.00792379\n",
      "42.3441      3135.61      -8   1.65741e-06       5.64294    0.00792237\n",
      "========================================\n",
      " Variances and Principal Axes\n",
      "                 1        2        3  \n",
      " 1.8456E-08| -0.0015   0.0006   1.0000  \n",
      " 1.3122E-02|  0.9776   0.2103   0.0013  \n",
      " 6.6860E-01| -0.2103   0.9776  -0.0009  \n",
      "----------------------------------------\n",
      "\n",
      "====================================\n",
      "  Covariance Matrix\n",
      "        1           2           3   \n",
      "   4.211e-02  -1.348e-01   1.388e-04\n",
      "  -1.348e-01   6.396e-01  -5.632e-04\n",
      "   1.388e-04  -5.632e-04   5.441e-07\n",
      "------------------------------------\n",
      "\n",
      "========================================================================\n",
      "Model phabs<1>*bremss<2> Source No.: 1   Active/On\n",
      "Model Model Component  Parameter  Unit     Value\n",
      " par  comp\n",
      "   1    1   phabs      nH         10^22    1.65741E-06  +/-  0.205196     \n",
      "   2    2   bremss     kT         keV      5.64294      +/-  0.799757     \n",
      "   3    2   bremss     norm                7.92237E-03  +/-  7.37654E-04  \n",
      "________________________________________________________________________\n",
      "\n",
      "\n",
      "Fit statistic  : Chi-Squared                   42.34     using 45 bins.\n",
      "\n",
      "Test statistic : Chi-Squared                   42.34     using 45 bins.\n",
      " Null hypothesis probability of 4.56e-01 with 42 degrees of freedom\n"
     ]
    }
   ],
   "source": [
    "m1 = Model(\"phabs*br\")\n",
    "Fit.perform()"
   ]
  },
  {
   "cell_type": "markdown",
   "metadata": {},
   "source": [
    "Bremsstrahlung is a better fit than the black body - and is as good as the power law - although it shares the low absorption column. With two good fits, the power law and the bremsstrahlung, it's time to scrutinize their parameters in more detail.\n",
    "\n",
    "From the EXOSAT database on HEASARC, we know that the target in question, 1E1048.1-5937, is almost on the plane of the Galaxy. In fact, the database also provides the value of the Galactic N$_{\\rm H}$ based on 21-cm radio observations. At $4\\times10^{22}$ cm$^{-2}$, it is higher than the 90 percent-confidence upper limit from the power-law fit. Perhaps, then, the power-law fit is not so good after all. What we can do is fix (freeze in XSPEC terminology) the value of N$_{\\rm H}$ at the Galactic value and refit the power law. Although we won't get a good fit, the shape of the residuals might give us a clue to what is missing."
   ]
  },
  {
   "cell_type": "code",
   "execution_count": 31,
   "metadata": {},
   "outputs": [
    {
     "name": "stdout",
     "output_type": "stream",
     "text": [
      "\n",
      "========================================================================\n",
      "Model phabs<1>*powerlaw<2> Source No.: 1   Active/On\n",
      "Model Model Component  Parameter  Unit     Value\n",
      " par  comp\n",
      "   1    1   phabs      nH         10^22    1.00000      +/-  0.0          \n",
      "   2    2   powerlaw   PhoIndex            1.00000      +/-  0.0          \n",
      "   3    2   powerlaw   norm                1.00000      +/-  0.0          \n",
      "________________________________________________________________________\n",
      "\n",
      "\n",
      "Fit statistic  : Chi-Squared              4.869991e+08     using 45 bins.\n",
      "\n",
      "Test statistic : Chi-Squared              4.869991e+08     using 45 bins.\n",
      " Null hypothesis probability of 0.000000e+00 with 42 degrees of freedom\n",
      " Current data and model not fit yet.\n",
      "\n",
      "Fit statistic  : Chi-Squared              3.225015e+08     using 45 bins.\n",
      "\n",
      "Test statistic : Chi-Squared              3.225015e+08     using 45 bins.\n",
      " Null hypothesis probability of 0.000000e+00 with 42 degrees of freedom\n",
      " Current data and model not fit yet.\n",
      "\n",
      "Fit statistic  : Chi-Squared              3.225015e+08     using 45 bins.\n",
      "\n",
      "Test statistic : Chi-Squared              3.225015e+08     using 45 bins.\n",
      " Null hypothesis probability of 0.000000e+00 with 43 degrees of freedom\n",
      " Current data and model not fit yet.\n",
      "                                   Parameters\n",
      "Chi-Squared  |beta|/N    Lvl    2:PhoIndex        3:norm\n",
      "1098.58      196.058      -1       1.29293    0.00381157\n",
      "926.241      40262        -1       1.56259    0.00581623\n",
      "756.536      31535.1      -1       1.80247    0.00871229\n",
      "612.975      19947.5      -1       2.01547     0.0124451\n",
      "498.989      12180.7      -1       2.20535     0.0169285\n",
      "410.308      7552.7       -1       2.37477     0.0220568\n",
      "404.968      4816.15      -2       3.04355     0.0435211\n",
      "295.235      7484.92      -3       3.56968     0.0870410\n",
      "131.867      3398.98      -4       3.55436      0.109641\n",
      "131.817      60.3622      -5       3.55519      0.109335\n",
      "Number of trials exceeded: continue fitting? 131.817      0.0616735    -6       3.55535      0.109355\n",
      "==============================\n",
      " Variances and Principal Axes\n",
      "                 2        3  \n",
      " 3.3978E-06| -0.1269   0.9919  \n",
      " 4.5900E-03|  0.9919   0.1269  \n",
      "------------------------------\n",
      "\n",
      "========================\n",
      "  Covariance Matrix\n",
      "        1           2   \n",
      "   4.516e-03   5.774e-04\n",
      "   5.774e-04   7.727e-05\n",
      "------------------------\n",
      "\n",
      "========================================================================\n",
      "Model phabs<1>*powerlaw<2> Source No.: 1   Active/On\n",
      "Model Model Component  Parameter  Unit     Value\n",
      " par  comp\n",
      "   1    1   phabs      nH         10^22    4.00000      frozen\n",
      "   2    2   powerlaw   PhoIndex            3.55535      +/-  6.72023E-02  \n",
      "   3    2   powerlaw   norm                0.109355     +/-  8.79060E-03  \n",
      "________________________________________________________________________\n",
      "\n",
      "\n",
      "Fit statistic  : Chi-Squared                  131.82     using 45 bins.\n",
      "\n",
      "Test statistic : Chi-Squared                  131.82     using 45 bins.\n",
      " Null hypothesis probability of 5.99e-11 with 43 degrees of freedom\n"
     ]
    }
   ],
   "source": [
    "m1 = Model(\"phabs*po\")\n",
    "m1.phabs.nH = 4.0\n",
    "m1.phabs.nH.frozen = True\n",
    "Fit.perform()"
   ]
  },
  {
   "cell_type": "code",
   "execution_count": 32,
   "metadata": {},
   "outputs": [],
   "source": [
    "Plot()\n",
    "energies = Plot.x()\n",
    "edeltas = Plot.xErr()\n",
    "rates = Plot.y(1,1)\n",
    "errors = Plot.yErr(1,1)\n",
    "foldedmodel = Plot.model()\n",
    "dataLabels = Plot.labels(1)\n",
    "residLabels = Plot.labels(2)\n",
    "# note that for matplotlib step plots we need an x-axis array which includes the start and end value for each\n",
    "# bin and the y-axis has to be the same size with an extra value added equal to the value of the last bin\n",
    "nE = len(energies)\n",
    "stepenergies = list()\n",
    "for i in range(nE):\n",
    "    stepenergies.append(energies[i] - edeltas[i])\n",
    "stepenergies.append(energies[-1]+edeltas[-1])\n",
    "foldedmodel.append(foldedmodel[-1])\n",
    "resid = Plot.y(1,2)\n",
    "residerr = Plot.yErr(1,2)"
   ]
  },
  {
   "cell_type": "code",
   "execution_count": 33,
   "metadata": {},
   "outputs": [
    {
     "data": {
      "text/plain": [
       "<matplotlib.collections.LineCollection at 0x144d86f28>"
      ]
     },
     "execution_count": 33,
     "metadata": {},
     "output_type": "execute_result"
    },
    {
     "data": {
      "image/png": "[encoded data removed]",
      "text/plain": [
       "<Figure size 432x288 with 2 Axes>"
      ]
     },
     "metadata": {
      "needs_background": "light"
     },
     "output_type": "display_data"
    }
   ],
   "source": [
    "plt.subplot(211)\n",
    "plt.xscale('log')\n",
    "plt.yscale('log')\n",
    "plt.ylabel(dataLabels[1])\n",
    "plt.title(dataLabels[2])\n",
    "plt.errorbar(energies,rates,xerr=edeltas,yerr=errors,fmt='.')\n",
    "plt.step(stepenergies,foldedmodel,where='post')\n",
    "plt.subplot(212)\n",
    "plt.xscale('log')\n",
    "plt.xlabel(residLabels[0])\n",
    "plt.ylabel(residLabels[1])\n",
    "plt.errorbar(energies,resid,xerr=edeltas,yerr=residerr,fmt='.')\n",
    "plt.hlines(0.0,stepenergies[0],stepenergies[-1],linestyles='dashed')"
   ]
  },
  {
   "cell_type": "markdown",
   "metadata": {},
   "source": [
    "There appears to be a surplus of softer photons, perhaps indicating a second continuum component. To investigate this possibility we can add a component to our model. Here, we'll add a black body component. Note that we freeze the temperature parameter of the black body to 2 keV(the canonical temperature for nuclear burning on the surface of a neutron star in a low-mass X-ray binary) using an xspec trick that setting the delta for a parameter to zero switches its freeze/thaw status. We also set the normalization of the component to a small number to start the fit off in a sensible place since we are looking for a small change to the model."
   ]
  },
  {
   "cell_type": "code",
   "execution_count": 34,
   "metadata": {},
   "outputs": [
    {
     "name": "stdout",
     "output_type": "stream",
     "text": [
      "\n",
      "========================================================================\n",
      "Model phabs<1>(powerlaw<2> + bbody<3>) Source No.: 1   Active/On\n",
      "Model Model Component  Parameter  Unit     Value\n",
      " par  comp\n",
      "   1    1   phabs      nH         10^22    1.00000      +/-  0.0          \n",
      "   2    2   powerlaw   PhoIndex            1.00000      +/-  0.0          \n",
      "   3    2   powerlaw   norm                1.00000      +/-  0.0          \n",
      "   4    3   bbody      kT         keV      3.00000      +/-  0.0          \n",
      "   5    3   bbody      norm                1.00000      +/-  0.0          \n",
      "________________________________________________________________________\n",
      "\n",
      "\n",
      "Fit statistic  : Chi-Squared              6.337778e+09     using 45 bins.\n",
      "\n",
      "Test statistic : Chi-Squared              6.337778e+09     using 45 bins.\n",
      " Null hypothesis probability of 0.000000e+00 with 40 degrees of freedom\n",
      " Current data and model not fit yet.\n",
      "\n",
      "Fit statistic  : Chi-Squared                  128.71     using 45 bins.\n",
      "\n",
      "Test statistic : Chi-Squared                  128.71     using 45 bins.\n",
      " Null hypothesis probability of 5.48e-11 with 41 degrees of freedom\n",
      " Current data and model not fit yet.\n",
      "\n",
      "========================================================================\n",
      "Model phabs<1>(powerlaw<2> + bbody<3>) Source No.: 1   Active/On\n",
      "Model Model Component  Parameter  Unit     Value\n",
      " par  comp\n",
      "   1    1   phabs      nH         10^22    4.00000      +/-  0.0          \n",
      "   2    2   powerlaw   PhoIndex            3.55535      +/-  0.0          \n",
      "   3    2   powerlaw   norm                0.109355     +/-  0.0          \n",
      "   4    3   bbody      kT         keV      2.00000      frozen\n",
      "   5    3   bbody      norm                1.00000E-05  +/-  0.0          \n",
      "________________________________________________________________________\n",
      "\n",
      "\n",
      "Fit statistic  : Chi-Squared                  128.71     using 45 bins.\n",
      "\n",
      "Test statistic : Chi-Squared                  128.71     using 45 bins.\n",
      " Null hypothesis probability of 9.88e-11 with 42 degrees of freedom\n",
      " Current data and model not fit yet.\n"
     ]
    }
   ],
   "source": [
    "parVals = m1(1).values[0], m1(2).values[0], m1(3).values[0]\n",
    "m1 = Model(\"phabs(pow+bb)\",setPars=(parVals[0],parVals[1],parVals[2],\"2.0,0.0\",1.0e-5))\n",
    "m1.phabs.nH.frozen = True"
   ]
  },
  {
   "cell_type": "code",
   "execution_count": 35,
   "metadata": {},
   "outputs": [
    {
     "name": "stdout",
     "output_type": "stream",
     "text": [
      "                                   Parameters\n",
      "Chi-Squared  |beta|/N    Lvl    2:PhoIndex        3:norm        5:norm\n",
      "126.369      52634.5      -3       4.44901      0.191640   0.000242936\n",
      "88.7273      6318.39      -4       4.83559      0.304037   0.000224283\n",
      "68.4503      82867.1      -5       4.82979      0.334239   0.000227892\n",
      "68.4497      514.395      -6       4.82939      0.333962   0.000227796\n",
      "========================================\n",
      " Variances and Principal Axes\n",
      "                 2        3        5  \n",
      " 1.1806E-10| -0.0003   0.0008   1.0000  \n",
      " 7.0700E-05|  0.2855  -0.9584   0.0009  \n",
      " 2.7644E-02|  0.9584   0.2855   0.0001  \n",
      "----------------------------------------\n",
      "\n",
      "====================================\n",
      "  Covariance Matrix\n",
      "        1           2           3   \n",
      "   2.540e-02   7.545e-03   2.570e-06\n",
      "   7.545e-03   2.318e-03   7.020e-07\n",
      "   2.570e-06   7.020e-07   4.273e-10\n",
      "------------------------------------\n",
      "\n",
      "========================================================================\n",
      "Model phabs<1>(powerlaw<2> + bbody<3>) Source No.: 1   Active/On\n",
      "Model Model Component  Parameter  Unit     Value\n",
      " par  comp\n",
      "   1    1   phabs      nH         10^22    4.00000      frozen\n",
      "   2    2   powerlaw   PhoIndex            4.82939      +/-  0.159361     \n",
      "   3    2   powerlaw   norm                0.333962     +/-  4.81488E-02  \n",
      "   4    3   bbody      kT         keV      2.00000      frozen\n",
      "   5    3   bbody      norm                2.27796E-04  +/-  2.06724E-05  \n",
      "________________________________________________________________________\n",
      "\n",
      "\n",
      "Fit statistic  : Chi-Squared                   68.45     using 45 bins.\n",
      "\n",
      "Test statistic : Chi-Squared                   68.45     using 45 bins.\n",
      " Null hypothesis probability of 6.11e-03 with 42 degrees of freedom\n"
     ]
    }
   ],
   "source": [
    "Fit.perform()"
   ]
  },
  {
   "cell_type": "markdown",
   "metadata": {},
   "source": [
    "The fit is better than the one with just a power law and the fixed Galactic column, but it is still not good. Thawing the black body temperature and fitting does of course improve the fit but the powerl law index becomes even steeper. Looking at this odd model with the command "
   ]
  },
  {
   "cell_type": "code",
   "execution_count": 36,
   "metadata": {},
   "outputs": [],
   "source": [
    "Plot(\"model\")\n",
    "energies = Plot.x()\n",
    "edeltas = Plot.xErr()\n",
    "modelvals = Plot.model()\n",
    "modelcomp1 = Plot.addComp(1)\n",
    "modelcomp2 = Plot.addComp(2)\n",
    "labels = Plot.labels()\n",
    "nE = len(energies)\n",
    "stepenergies = list()\n",
    "for i in range(nE):\n",
    "    stepenergies.append(energies[i] - edeltas[i])\n",
    "stepenergies.append(energies[-1]+edeltas[-1])\n",
    "modelvals.append(modelvals[-1])\n",
    "modelcomp1.append(modelcomp1[-1])\n",
    "modelcomp2.append(modelcomp2[-1])"
   ]
  },
  {
   "cell_type": "code",
   "execution_count": 37,
   "metadata": {},
   "outputs": [
    {
     "data": {
      "text/plain": [
       "[<matplotlib.lines.Line2D at 0x14505f780>]"
      ]
     },
     "execution_count": 37,
     "metadata": {},
     "output_type": "execute_result"
    },
    {
     "data": {
      "image/png": "[encoded data removed]",
      "text/plain": [
       "<Figure size 432x288 with 1 Axes>"
      ]
     },
     "metadata": {
      "needs_background": "light"
     },
     "output_type": "display_data"
    }
   ],
   "source": [
    "plt.xscale('log')\n",
    "plt.yscale('log')\n",
    "plt.ylim(3.0e-6,3.0e-3)\n",
    "plt.title(labels[2])\n",
    "plt.xlabel(labels[0])\n",
    "plt.ylabel(labels[1])\n",
    "plt.step(stepenergies,modelvals,where='post')\n",
    "plt.step(stepenergies,modelcomp1,where='post',linestyle='dashed')\n",
    "plt.step(stepenergies,modelcomp2,where='post',linestyle='dotted')"
   ]
  },
  {
   "cell_type": "markdown",
   "metadata": {},
   "source": [
    " We see that the black body and the power law have changed places, in that the power law provides the soft photons required by the high absorption, while the black body provides the harder photons. We could continue to search for a plausible, well-fitting model, but the data, with their limited signal-to-noise and energy resolution, probably don't warrant it (the original investigators published only the power law fit).\n",
    "\n",
    "There is, however, one final, useful thing to do with the data: derive an upper limit to the presence of a fluorescent iron emission line. We return to our original model and add a gaussian emission line of fixed energy and width then fit to get: "
   ]
  },
  {
   "cell_type": "code",
   "execution_count": 38,
   "metadata": {},
   "outputs": [
    {
     "name": "stdout",
     "output_type": "stream",
     "text": [
      "\n",
      "========================================================================\n",
      "Model phabs<1>(powerlaw<2> + gaussian<3>) Source No.: 1   Active/On\n",
      "Model Model Component  Parameter  Unit     Value\n",
      " par  comp\n",
      "   1    1   phabs      nH         10^22    1.00000      +/-  0.0          \n",
      "   2    2   powerlaw   PhoIndex            1.00000      +/-  0.0          \n",
      "   3    2   powerlaw   norm                1.00000      +/-  0.0          \n",
      "   4    3   gaussian   LineE      keV      6.50000      +/-  0.0          \n",
      "   5    3   gaussian   Sigma      keV      0.100000     +/-  0.0          \n",
      "   6    3   gaussian   norm                1.00000      +/-  0.0          \n",
      "________________________________________________________________________\n",
      "\n",
      "\n",
      "Fit statistic  : Chi-Squared              1.879034e+09     using 45 bins.\n",
      "\n",
      "Test statistic : Chi-Squared              1.879034e+09     using 45 bins.\n",
      " Null hypothesis probability of 0.000000e+00 with 39 degrees of freedom\n",
      " Current data and model not fit yet.\n",
      "\n",
      "Fit statistic  : Chi-Squared              4.870628e+08     using 45 bins.\n",
      "\n",
      "Test statistic : Chi-Squared              4.870628e+08     using 45 bins.\n",
      " Null hypothesis probability of 0.000000e+00 with 41 degrees of freedom\n",
      " Current data and model not fit yet.\n",
      "\n",
      "========================================================================\n",
      "Model phabs<1>(powerlaw<2> + gaussian<3>) Source No.: 1   Active/On\n",
      "Model Model Component  Parameter  Unit     Value\n",
      " par  comp\n",
      "   1    1   phabs      nH         10^22    1.00000      +/-  0.0          \n",
      "   2    2   powerlaw   PhoIndex            1.00000      +/-  0.0          \n",
      "   3    2   powerlaw   norm                1.00000      +/-  0.0          \n",
      "   4    3   gaussian   LineE      keV      6.40000      frozen\n",
      "   5    3   gaussian   Sigma      keV      0.100000     frozen\n",
      "   6    3   gaussian   norm                1.00000E-04  +/-  0.0          \n",
      "________________________________________________________________________\n",
      "\n",
      "                                   Parameters\n",
      "Chi-Squared  |beta|/N    Lvl          1:nH    2:PhoIndex        3:norm        6:norm\n",
      "482.561      64354.8      -3      0.109007       1.69169    0.00412571   9.05519e-05\n",
      "123.864      46244.3      -2     0.0215107       1.90303    0.00682086   4.21443e-05\n",
      "50.0903      16465        -2     0.0414859       2.01912    0.00889773   1.47693e-05\n",
      "45.1458      4965.3       -2      0.229112       2.10190     0.0103051   2.95367e-05\n",
      "43.3078      1778.77      -2      0.356740       2.16762     0.0114492   4.04672e-05\n",
      "42.3893      883.231      -2      0.453419       2.21736     0.0123788   4.85844e-05\n",
      "42.2299      474.809      -3      0.692656       2.34379     0.0147684   6.99068e-05\n",
      "41.2523      2044.85      -4      0.771175       2.38102     0.0158606   7.48874e-05\n",
      "41.2309      320.748      -5      0.772482       2.38039     0.0158929   7.46152e-05\n",
      "41.2309      0.270583     -6      0.773073       2.38068     0.0158998   7.46586e-05\n",
      "==================================================\n",
      " Variances and Principal Axes\n",
      "                 1        2        3        6  \n",
      " 1.2085E-09| -0.0000  -0.0010   0.0353   0.9994  \n",
      " 7.8342E-08|  0.0033   0.0175  -0.9992   0.0353  \n",
      " 3.1813E-03|  0.4358  -0.8999  -0.0143  -0.0003  \n",
      " 1.3237E-01|  0.9000   0.4357   0.0106   0.0001  \n",
      "--------------------------------------------------\n",
      "\n",
      "================================================\n",
      "  Covariance Matrix\n",
      "        1           2           3           4   \n",
      "   1.078e-01   5.066e-02   1.240e-03   7.355e-06\n",
      "   5.066e-02   2.771e-02   6.508e-04   4.772e-06\n",
      "   1.240e-03   6.508e-04   1.552e-05   1.049e-07\n",
      "   7.355e-06   4.772e-06   1.049e-07   2.250e-09\n",
      "------------------------------------------------\n",
      "\n",
      "========================================================================\n",
      "Model phabs<1>(powerlaw<2> + gaussian<3>) Source No.: 1   Active/On\n",
      "Model Model Component  Parameter  Unit     Value\n",
      " par  comp\n",
      "   1    1   phabs      nH         10^22    0.773073     +/-  0.328380     \n",
      "   2    2   powerlaw   PhoIndex            2.38068      +/-  0.166456     \n",
      "   3    2   powerlaw   norm                1.58998E-02  +/-  3.94011E-03  \n",
      "   4    3   gaussian   LineE      keV      6.40000      frozen\n",
      "   5    3   gaussian   Sigma      keV      0.100000     frozen\n",
      "   6    3   gaussian   norm                7.46586E-05  +/-  4.74382E-05  \n",
      "________________________________________________________________________\n",
      "\n",
      "\n",
      "Fit statistic  : Chi-Squared                   41.23     using 45 bins.\n",
      "\n",
      "Test statistic : Chi-Squared                   41.23     using 45 bins.\n",
      " Null hypothesis probability of 4.61e-01 with 41 degrees of freedom\n"
     ]
    }
   ],
   "source": [
    "m1 = Model(\"phabs*(po + ga)\", setPars=(1.0,1.0,1.0,\"6.4,0.0\",\"0.1,0.0\",1.0e-4))\n",
    "Fit.perform()"
   ]
  },
  {
   "cell_type": "markdown",
   "metadata": {},
   "source": [
    "The energy and width have to be frozen because, in the absence of an obvious line in the data, the fit would be completely unable to converge on meaningful values. Besides, our aim is to see how bright a line at 6.4 keV can be and still not ruin the fit. To do this, we fit first and then use the error command to derive the maximum allowable iron line normalization. We then set the normalization at this maximum value with and, finally, derive the equivalent width. That is: "
   ]
  },
  {
   "cell_type": "code",
   "execution_count": 39,
   "metadata": {},
   "outputs": [
    {
     "name": "stderr",
     "output_type": "stream",
     "text": [
      "***Warning: Parameter pegged at hard limit: 0\n"
     ]
    },
    {
     "name": "stdout",
     "output_type": "stream",
     "text": [
      " Parameter   Confidence Range (2.706)\n",
      "     6            0  0.000151075    (-7.46547e-05,7.64201e-05)\n"
     ]
    }
   ],
   "source": [
    "Fit.error(\"6\")"
   ]
  },
  {
   "cell_type": "markdown",
   "metadata": {},
   "source": [
    "Note that the true minimum value of the gaussian normalization is less than zero, but the error search stopped when the minimum value hit zero, the \"hard\" lower limit of the parameter. "
   ]
  },
  {
   "cell_type": "code",
   "execution_count": 40,
   "metadata": {},
   "outputs": [
    {
     "name": "stdout",
     "output_type": "stream",
     "text": [
      "\n",
      "Fit statistic  : Chi-Squared                   46.06     using 45 bins.\n",
      "\n",
      "Test statistic : Chi-Squared                   46.06     using 45 bins.\n",
      " Null hypothesis probability of 2.71e-01 with 41 degrees of freedom\n",
      " Current data and model not fit yet.\n"
     ]
    }
   ],
   "source": [
    "m1.gaussian.norm = m1.gaussian.norm.error[1]"
   ]
  },
  {
   "cell_type": "code",
   "execution_count": 41,
   "metadata": {},
   "outputs": [
    {
     "name": "stdout",
     "output_type": "stream",
     "text": [
      "\n",
      "Data group number: 1\n",
      "Additive group equiv width for Component 3:  0.782911 keV\n"
     ]
    }
   ],
   "source": [
    "AllModels.eqwidth(\"3\")"
   ]
  },
  {
   "cell_type": "markdown",
   "metadata": {},
   "source": [
    "The eqwidth method takes the component number as its argument."
   ]
  }
 ],
 "metadata": {
  "kernelspec": {
   "display_name": "Python 3",
   "language": "python",
   "name": "python3"
  },
  "language_info": {
   "codemirror_mode": {
    "name": "ipython",
    "version": 3
   },
   "file_extension": ".py",
   "mimetype": "text/x-python",
   "name": "python",
   "nbconvert_exporter": "python",
   "pygments_lexer": "ipython3",
   "version": "3.6.12"
  }
 },
 "nbformat": 4,
 "nbformat_minor": 2
}
