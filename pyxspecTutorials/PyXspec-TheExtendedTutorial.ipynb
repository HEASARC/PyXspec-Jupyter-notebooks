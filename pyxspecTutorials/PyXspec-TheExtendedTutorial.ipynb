{
 "cells": [
  {
   "cell_type": "code",
   "execution_count": 142,
   "metadata": {
    "collapsed": true
   },
   "outputs": [],
   "source": [
    "#\n",
    "# some standard python imports\n",
    "#\n",
    "\n",
    "%matplotlib inline\n",
    "\n",
    "import matplotlib\n",
    "import numpy as np\n",
    "import matplotlib.pyplot as plt\n",
    "\n",
    "import xspec # this imports the xspec package \n",
    "\n",
    "xspec.Xset.allowPrompting = False # keeps pyxspec from hanging, waiting for a response to a prompt\n"
   ]
  },
  {
   "cell_type": "markdown",
   "metadata": {},
   "source": [
    "----\n",
    "\n",
    "## Data\n",
    "\n",
    "### Background, Response, and Arf\n",
    "\n",
    "When a Spectrum object is created from a spectral data file, PyXspec also reads the file's BACKFILE, RESPFILE, and ANCRFILE keywords and will load the corresponding background, response, and arf files. The spectrum's Background and Response objects are then available as attributes of the Spectrum class, while the arf file name becomes an attribute of the Response class.  Note that you never create Background and Response objects directly. They are accessible only through the Spectrum class attributes.\n",
    "\n"
   ]
  },
  {
   "cell_type": "code",
   "execution_count": 143,
   "metadata": {},
   "outputs": [],
   "source": [
    "s1 = xspec.Spectrum(\"data/spec\")\n",
    "try:\n",
    "    b1 = s1.background\n",
    "except Exception:\n",
    "    b1 = ''\n",
    "b1='' # spectrum has no background\n",
    "try: \n",
    "    r1 = s1.response\n",
    "except Exception:\n",
    "    r1='' # no response defined\n",
    "try:\n",
    "    arfFileName = r1.arf\n",
    "except Exception:\n",
    "    arfFileName = '' # no arf defined either"
   ]
  },
  {
   "cell_type": "markdown",
   "metadata": {},
   "source": [
    "Use these attributes if you need to add or change a response, arf or background file, for example:"
   ]
  },
  {
   "cell_type": "code",
   "execution_count": 144,
   "metadata": {},
   "outputs": [
    {
     "name": "stdout",
     "output_type": "stream",
     "text": [
      "New background = data/spec_bkg.pha\n",
      "New Response = data/spec.rmf\n"
     ]
    }
   ],
   "source": [
    "# Add a background files:\n",
    "\n",
    "if not b1:\n",
    "    s1.background = \"data/spec_bkg.pha\"\n",
    "    print \"New background = {0}\".format(s1.background.fileName)\n",
    "\n",
    "# Add a response\n",
    "if not r1:\n",
    "    s1.response = \"data/spec.rmf\"\n",
    "    print \"New Response = {0}\".format(s1.response.rmf)\n",
    "\n"
   ]
  },
  {
   "cell_type": "code",
   "execution_count": 19,
   "metadata": {},
   "outputs": [
    {
     "data": {
      "text/plain": [
       "'data/spec.rmf'"
      ]
     },
     "execution_count": 19,
     "metadata": {},
     "output_type": "execute_result"
    }
   ],
   "source": [
    "s1.response.rmf"
   ]
  },
  {
   "cell_type": "markdown",
   "metadata": {},
   "source": [
    "#### To add an ARF:\n",
    "\n",
    "`s1.response.arf = \"newArf.pha\"`\n",
    "\n",
    "#### To remove backgrounds, etc:\n",
    "\n",
    "```\n",
    "s1.response = None\n",
    "s1.background = \"\"\n",
    "```\n",
    "\n",
    "Background and Spectrum files store their original file names in their `fileName` attribute. This means that while you SET the Spectrum.background object by assigning it a file name (as shown above), to GET the file name you must access its fileName attribute, as shown above.\n",
    "\n",
    "Response stores its RMF and optional ARF file names in its `rmf` and `arf` attributes respectively.\n",
    "\n",
    "```\n",
    "rmfFileName = r1.rmf\n",
    "arfFileName = r1.arf\n",
    "```\n",
    "\n",
    "Background objects have some of the same attributes as Spectrum objects, such as areaScale, exposure, energies, and values. The Spectrum object's values array (actually a tuple) does NOT include contributions from the background. Those are stored separately in the associated Background object. *Please see the Classes reference guide or call the Python help function for the full class descriptions.*\n",
    "\n",
    "The Spectrum class also provides a multiresponse array attribute for assigning multiple detectors (or sources) to a spectrum. The standard 0-based Python array indices corresponding to the 1-based XSPEC source numbers:\n",
    "\n",
    "```\n",
    "# Set a response for source 2\n",
    "s1.multiresponse[1] = \"resp2.rsp\"\n",
    "# Get the response object for source 2\n",
    "r2 = s1.multiresponse[1]\n",
    "# Remove the response from source 2\n",
    "s1.multiresponse[1] = None\n",
    "# This is the same as doing s1.response = \"resp1.rsp\"\n",
    "s1.multiresponse[0] = \"resp1.rsp\"\n",
    "\n",
    "```\n",
    "\n",
    "The rule is: when doing single-source analysis (typical of most XSPEC sessions) use the response attribute, otherwise use the multiresponse array.\n",
    "\n",
    "----\n",
    "### Ignore/Notice\n",
    "\n",
    "To ignore channels for a SINGLE spectrum, call the Spectrum object's ignore method passing a string following the same syntax as for Standard XSPEC's ignore command:\n",
    "\n",
    "\n"
   ]
  },
  {
   "cell_type": "code",
   "execution_count": 43,
   "metadata": {},
   "outputs": [
    {
     "name": "stdout",
     "output_type": "stream",
     "text": [
      "Noticed Channels:\n",
      "6 7 8 9 10 11 12 13 14 15 16 17 18 19 31 32 33 34 35 36 37 38 39 40 41 42 43 44 45 46 47 48 49\n"
     ]
    }
   ],
   "source": [
    "s1.ignore(\"20-30\") # ignore channels 20 to 30 and all channels above 50 keV\n",
    "s1.ignore(\"**-5\")\n",
    "print \"Noticed Channels:\"\n",
    "for no in s1.noticed:\n",
    "    print no,\n"
   ]
  },
  {
   "cell_type": "markdown",
   "metadata": {},
   "source": [
    "Similarly, to notice channels in a single spectrum:"
   ]
  },
  {
   "cell_type": "code",
   "execution_count": 44,
   "metadata": {},
   "outputs": [
    {
     "name": "stdout",
     "output_type": "stream",
     "text": [
      "Noticed Channels:\n",
      "6 7 8 9 10 11 12 13 14 15 16 17 18 19 20 21 22 23 24 25 31 32 33 34 35 36 37 38 39 40 41 42 43 44 45 46 47 48 49\n"
     ]
    }
   ],
   "source": [
    "s1.notice(\"20-25\")\n",
    "# s1.notice(\"all\")\n",
    "print \"Noticed Channels:\"\n",
    "for no in s1.noticed:\n",
    "    print no,\n"
   ]
  },
  {
   "cell_type": "markdown",
   "metadata": {},
   "source": [
    "As with Standard XSPEC, if the x-axis plot units are set to energies or wavelengths, ignore and notice will accept floating-point input assumed to be in those same units:\n",
    "\n",
    "```\n",
    "# Ignore channel bins corresponding to 15.0 to 20.0 nm wavelengths:\n",
    "Plot.xAxis = \"nm\"\n",
    "s1.ignore(\"15.-20.\")\n",
    "```\n",
    "\n",
    "The currently noticed channel ranges are displayed for each spectrum in the AllData.show() output. You can also get a list of the individual noticed channel numbers from Spectrum's noticed attribute, as shown above.\n",
    "\n",
    "\n",
    "To apply ignore and notice commands to ALL loaded spectra, call the methods from the global AllData object. To apply to a subset of loaded spectra, add a range specifier to the left of the colon:\n",
    "\n",
    "```\n",
    "# These apply to all loaded spectra\n",
    "AllData.ignore(\"100-120, 150-200\")\n",
    "AllData.notice(\"all\")\n",
    "AllData.ignore(\"bad\")\n",
    "# These apply to a subset of loaded spectra\n",
    "AllData.ignore(\"1-3: 60-65\")\n",
    "AllData.notice(\"2-**:50-60\")\n",
    "```\n",
    "\n"
   ]
  },
  {
   "cell_type": "markdown",
   "metadata": {},
   "source": [
    "----\n",
    "\n",
    "### Models\n",
    "\n",
    "#### Model With Multiple Data Groups\n",
    "\n",
    "When a model is defined and spectra are assigned to multiple data groups, PyXspec will generate a Model object copy for each data group (assuming the spectra also have responses attached). So if:\n"
   ]
  },
  {
   "cell_type": "code",
   "execution_count": 67,
   "metadata": {},
   "outputs": [],
   "source": [
    "#\n",
    "# Load 2 spectra, spec.pha and spec_sim.pha, into 2 separate data groups\n",
    "#\n",
    "xspec.AllData.clear()\n",
    "xspec.AllData += \"data/spec.pha\" # read spectrum into first data group\n",
    "# Explicitly specify the response if necessary\n",
    "xspec.AllData(1).response = \"data/spec.rmf\" # this response include the effective area (ARF) information\n",
    "\n",
    "xspec.AllData(\"2:2 data/spec_sim.pha\") # read spectrum into data group 2\n",
    "# Explicitly specify the response, if necessary\n",
    "xspec.AllData(2).response = \"data/spec3.rmf\" # response includes the ARF already\n",
    "\n",
    "m1 = xspec.Model(\"tbabs*pow\")\n",
    "m2 = xspec.AllModels(2)\n",
    "\n"
   ]
  },
  {
   "cell_type": "markdown",
   "metadata": {},
   "source": [
    "then there are 2 Model objects for the model definition `tbabs*pow`. The variable `m1` is set to the object belonging to data group 1, and `m2` the object for data group 2, and `m1` and `m2` will each have the same set of Component and Parameter objects.\n"
   ]
  },
  {
   "cell_type": "markdown",
   "metadata": {},
   "source": [
    "Parameters can be accessed directly by index from the Model objects, and these indices are numbered from 1 to nParameters for ALL data group copies. So for the \"Tbabs*pow\" example above:\n",
    "\n",
    "```\n",
    "p = m1(2) # Returns the 2nd parameter from m1, the model for data group 1.\n",
    "p = m2(2) # Returns the 2nd parameter from m2, the model for data group 2. \n",
    "```\n",
    "\n",
    "#### Defining Multiple Models\n",
    "\n",
    "Beginning with XSPEC12, it became possible to assign multiple sources to spectra, and each source may have its own model function definition. To keep track of multiple model definitions, XSPEC requires that you assign them names. In PyXspec, the model name and source number are supplied as additional arguments to the Model __init__ function.\n",
    "\n",
    "As with Standard XSPEC, to define a model for source numbers > 1 you first must load a detector response for the source. See \"Background, Response, and Arf\" in the previous section.\n",
    "\n",
    "\n"
   ]
  },
  {
   "cell_type": "code",
   "execution_count": 80,
   "metadata": {},
   "outputs": [],
   "source": [
    "xspec.AllData.clear() # clear previously loaded data\n",
    "s1 = xspec.Spectrum(\"data/spec\")\n",
    "# Set a response for source 2\n",
    "s1.multiresponse[1] = \"data/spec.rmf\"\n",
    "# Define a model named \"alpha\" assigned to source 1\n",
    "m_1_1 = xspec.Model(\"wa*po\",\"alpha\")\n",
    "# Define a model named \"beta\" assigned to source 2\n",
    "m_2_1 = xspec.Model(\"tbabs*po\",\"beta\", sourceNum=2)\n",
    "# (In both of these cases, the returned object belongs to data group 1)\n"
   ]
  },
  {
   "cell_type": "markdown",
   "metadata": {},
   "source": [
    "Note that in all previous examples in this tutorial, we have been using unnamed models which were assigned to source 1. Named models and source numbers may also be defined directly into the AllModels container by passing in a tuple:\n",
    "\n"
   ]
  },
  {
   "cell_type": "code",
   "execution_count": 89,
   "metadata": {},
   "outputs": [],
   "source": [
    "xspec.AllModels.clear() # clear previous models\n",
    "# Define a model named \"defn1\" assigned to source 1\n",
    "xspec.AllModels += (\"wa*po\", \"defn1\")\n",
    "# Define a model named \"defn2\" assigned to source 2\n",
    "xspec.AllModels += (\"const*bbody\", \"defn2\", 2)\n",
    "# This replaces \"defn1\" with an unnamed model for source 1\n",
    "xspec.AllModels += \"wa*gaussian\"\n",
    "\n"
   ]
  },
  {
   "cell_type": "markdown",
   "metadata": {},
   "source": [
    "and from which Model objects can be retrieved:"
   ]
  },
  {
   "cell_type": "code",
   "execution_count": 106,
   "metadata": {},
   "outputs": [
    {
     "name": "stdout",
     "output_type": "stream",
     "text": [
      "Model applied to data group 1, source 1='wabs*powerlaw'; Model applied to data group 2, source 2='constant*bbody'\n"
     ]
    }
   ],
   "source": [
    "#\n",
    "# Load 2 spectra, spec.pha and spec_sim.pha, into 2 separate data groups\n",
    "#\n",
    "xspec.AllData.clear()\n",
    "s1 = xspec.Spectrum(\"data/spec\")\n",
    "# Set a response for source 2\n",
    "xspec.AllData(1).response = \"data/spec.rmf\" # this response include the effective area (ARF) information\n",
    "s1.multiresponse[1] = \"data/spec.rmf\"\n",
    "\n",
    "xspec.AllData(\"2:2 data/spec_sim.pha\") # read spectrum into data group 2\n",
    "# Explicitly specify the response, if necessary\n",
    "xspec.AllData(2).response = \"data/spec3.rmf\" # response includes the ARF already\n",
    "s2=xspec.AllData(2)\n",
    "s2.multiresponse[1] = \"data/spec3.rmf\"\n",
    "\n",
    "xspec.AllModels.clear() # clear previous models\n",
    "xspec.AllModels += (\"wa*po\", \"defn1\") # Define a model named \"defn1\" assigned to source 1\n",
    "xspec.AllModels += (\"const*bbody\", \"defn2\", 2) # Define a model named \"defn2\" assigned to source 2\n",
    "\n",
    "\n",
    "# Get the \"defn2\" Model object for data group 1\n",
    "m_2_1 = xspec.AllModels(1,\"defn1\")\n",
    "# ...and for data group 2\n",
    "m_2_2 = xspec.AllModels(2,\"defn2\")\n",
    "\n",
    "\n",
    "print \"Model applied to data group 1, source 1='{0}'; Model applied to data group 2, source 2='{1}'\".format(m_2_1.expression, m_2_2.expression)"
   ]
  },
  {
   "cell_type": "markdown",
   "metadata": {},
   "source": [
    "To view all current source number and model assignments, see the AllModels.sources attribute, which displays a dictionary of the [source number]:[model name] pairs:\n",
    "\n"
   ]
  },
  {
   "cell_type": "code",
   "execution_count": 107,
   "metadata": {},
   "outputs": [
    {
     "data": {
      "text/plain": [
       "{1: 'defn1', 2: 'defn2'}"
      ]
     },
     "execution_count": 107,
     "metadata": {},
     "output_type": "execute_result"
    }
   ],
   "source": [
    "xspec.AllModels.sources"
   ]
  },
  {
   "cell_type": "markdown",
   "metadata": {},
   "source": [
    "To remove model definitions:"
   ]
  },
  {
   "cell_type": "code",
   "execution_count": 108,
   "metadata": {},
   "outputs": [],
   "source": [
    "# Remove all data group copies of \"defn2\"\n",
    "xspec.AllModels -= \"defn2\"\n",
    "# Remove all data group copies of the unnamed model (defined above as \"wa*gaussian\")\n",
    "#xspec.AllModels -= \"\"\n",
    "# Remove all copies of ALL model definitions\n",
    "xspec.AllModels.clear()\n",
    "\n"
   ]
  },
  {
   "cell_type": "markdown",
   "metadata": {},
   "source": [
    "#### Component And Parameter Access Part 2\n",
    "\n",
    "When PyXspec constructs a Model object, it immediately adds to it an attribute of type Component for every component in the model expression. The attribute has the same (full) name as the component in the original expression, allowing you to access it as:\n",
    "\n",
    "\n"
   ]
  },
  {
   "cell_type": "code",
   "execution_count": 112,
   "metadata": {},
   "outputs": [
    {
     "data": {
      "text/plain": [
       "'powerlaw'"
      ]
     },
     "execution_count": 112,
     "metadata": {},
     "output_type": "execute_result"
    }
   ],
   "source": [
    "m = xspec.Model(\"wa*pow\")\n",
    "c2 = m.powerlaw\n",
    "c2.name"
   ]
  },
  {
   "cell_type": "raw",
   "metadata": {},
   "source": [
    "\n",
    "However when a model contains multiple copies of the same component, this type of access becomes ambiguous. So to distinguish among copies, for any component making its 2nd or more appearance (from left to right), PyXspec will append \"_n\" to the attribute name where n refers to the component's position in the expression (again from left to right). For example:\n",
    "\n"
   ]
  },
  {
   "cell_type": "code",
   "execution_count": 114,
   "metadata": {},
   "outputs": [],
   "source": [
    "m = xspec.Model(\"wa*po + po\")\n",
    "# This gets the leftmost powerlaw component\n",
    "pow1 = m.powerlaw\n",
    "# This gets the rightmost, which is the 3rd component in the expression.\n",
    "pow2 = m.powerlaw_3\n",
    "\n"
   ]
  },
  {
   "cell_type": "markdown",
   "metadata": {},
   "source": [
    "\n",
    "The Model object also stores an attribute which is a just a list of the names of its constituent Component attributes:\n",
    "\n"
   ]
  },
  {
   "cell_type": "code",
   "execution_count": 115,
   "metadata": {},
   "outputs": [
    {
     "data": {
      "text/plain": [
       "['wabs', 'powerlaw', 'powerlaw_3']"
      ]
     },
     "execution_count": 115,
     "metadata": {},
     "output_type": "execute_result"
    }
   ],
   "source": [
    "m.componentNames"
   ]
  },
  {
   "cell_type": "markdown",
   "metadata": {},
   "source": [
    "This may be useful, for example, if writing a loop to access each of a model's components. Similarly `Component` objects have a `parameterNames` attribute, listing the names of their constituent Parameter attributes:\n"
   ]
  },
  {
   "cell_type": "code",
   "execution_count": 117,
   "metadata": {},
   "outputs": [
    {
     "data": {
      "text/plain": [
       "['PhoIndex', 'norm']"
      ]
     },
     "execution_count": 117,
     "metadata": {},
     "output_type": "execute_result"
    }
   ],
   "source": [
    "m.powerlaw.parameterNames"
   ]
  },
  {
   "cell_type": "markdown",
   "metadata": {},
   "source": [
    "#### Gain Parameters (Response Models)\n",
    "\n",
    "Response Models differ from the regular kind in that they act on a Response rather than directly calculating a flux. At present there is only one kind of Response Model in Xspec, and this is `gain`. `gain` is a built-in attribute of all Response objects, and is of the class type `RModel`. It has 2 parameters for adjusting the energies of a Response: slope and offset. Gain parameters are initially off by default, but may be turned on simply by setting either one. For example:"
   ]
  },
  {
   "cell_type": "code",
   "execution_count": 126,
   "metadata": {},
   "outputs": [
    {
     "name": "stdout",
     "output_type": "stream",
     "text": [
      "The offset is 0.03 and the slope is 0.99\n"
     ]
    }
   ],
   "source": [
    "s = xspec.Spectrum(\"data/spec\")\n",
    "s.response = \"data/spec.rmf\"\n",
    "\n",
    "# The spectrum's response has a gain attribute that is not in use,\n",
    "# which is the equivalent of having a slope fixed at 1.0 and offset = 0.0.\n",
    "\n",
    "r = s.response\n",
    "# Setting either the slope or offset turns the gain on for this response.\n",
    "# Both slope and offset will now be fit parameters.\n",
    "r.gain.slope = 1.05\n",
    "# The previous setting leaves the offset at 0.0. Now we'll change it.\n",
    "r.gain.offset = .05\n",
    "# You can set slope and offset at the same time using Response's setPars method.\n",
    "r.setPars(.99, .03)\n",
    "\n",
    "print \"The offset is {0} and the slope is {1}\".format(s.response.gain.offset.values[0],s.response.gain.slope.values[0])"
   ]
  },
  {
   "cell_type": "code",
   "execution_count": 127,
   "metadata": {},
   "outputs": [],
   "source": [
    "# Modify the parameter's auxilliary values\n",
    "r.gain.offset = \".08,,.01,.01,.5,.5\"\n",
    "# Set a parameter link\n",
    "r.gain.offset.link = \".005*1\"\n",
    "\n"
   ]
  },
  {
   "cell_type": "markdown",
   "metadata": {},
   "source": [
    "To remove the response fit parameters and return the Response back to its original state, call the gain.off() method:\n",
    "\n"
   ]
  },
  {
   "cell_type": "code",
   "execution_count": 128,
   "metadata": {
    "collapsed": true
   },
   "outputs": [],
   "source": [
    "# This deletes the slope and offset parameters.\n",
    "# Any references to them become invalid.\n",
    "r.gain.off()\n",
    "\n"
   ]
  },
  {
   "cell_type": "markdown",
   "metadata": {},
   "source": [
    "### Flux Calculations\n",
    "\n",
    "To perform a Standard XSPEC flux or lumin calculation, call the AllModels methods calcFlux or calcLumin respectively:\n"
   ]
  },
  {
   "cell_type": "code",
   "execution_count": 129,
   "metadata": {
    "collapsed": true
   },
   "outputs": [],
   "source": [
    "xspec.AllModels.calcFlux(\".3 1.0\")\n",
    "xspec.AllModels.calcFlux(\".1 10.0 err\")\n",
    "xspec.AllModels.calcLumin(\".1 10. .05 err\")\n"
   ]
  },
  {
   "cell_type": "markdown",
   "metadata": {},
   "source": [
    "As in Standard XSPEC the results will be stored with the currently loaded spectra:"
   ]
  },
  {
   "cell_type": "code",
   "execution_count": 133,
   "metadata": {},
   "outputs": [
    {
     "name": "stdout",
     "output_type": "stream",
     "text": [
      "Flux =  (2.861965511334301e-08, 0.0, 0.0, 6.341347715278822, 0.0, 0.0)\n",
      "Luminosity = (1604.845391020328, 0.0, 0.0, 6.2919213498135145, 0.0, 0.0)\n"
     ]
    }
   ],
   "source": [
    "s1 = xspec.AllData(1)\n",
    "print 'Flux = ',s1.flux\n",
    "print 'Luminosity =',s1.lumin\n",
    "\n"
   ]
  },
  {
   "cell_type": "markdown",
   "metadata": {},
   "source": [
    "unless there are no spectra, in which case the results are stored with the model object:\n",
    "\n"
   ]
  },
  {
   "cell_type": "code",
   "execution_count": 136,
   "metadata": {},
   "outputs": [
    {
     "name": "stdout",
     "output_type": "stream",
     "text": [
      "Model Flux -  (0.0, 0.0, 0.0, 0.0, 0.0, 0.0)\n"
     ]
    }
   ],
   "source": [
    "xspec.AllData.clear()\n",
    "print \"Model Flux - \",xspec.AllModels(1).flux\n"
   ]
  },
  {
   "cell_type": "markdown",
   "metadata": {},
   "source": [
    "----\n",
    "\n",
    "### Local Models in C/C++/Fortran\n",
    "\n",
    "In Standard XSPEC, local model libraries are built with the initpackage comamnd and then loaded with lmod. The AllModels container supplies both of these functions for doing the same thing in PyXspec:\n",
    "\n",
    "AllModels.initpackage(\"myLocalMods\",\"lmodel.dat\")\n",
    "AllModels.lmod(\"myLocalMods\")\n",
    "\n",
    "By default this looks in the directory set by the LOCAL_MODEL_DIRECTORY variable in your ~/.xspec/Xspec.init start-up file. You can override this by giving these functions an absolute or relative path as a dirPath keyword argument (see the Class guide for details).\n",
    "\n",
    "Local Models in Python\n",
    "\n",
    "You can also write model functions in Python and insert them into the XSPEC library with the AllModels addPyMod method. You simply define a function with 3 arguments for energies, parameters, and flux. For example a powerlaw model function might look like:\n"
   ]
  },
  {
   "cell_type": "code",
   "execution_count": 137,
   "metadata": {
    "collapsed": true
   },
   "outputs": [],
   "source": [
    "def lpow(engs, params, flux):\n",
    "  for i in range(len(engs)-1):\n",
    "     pconst = 1.0 - params[0]\n",
    "     val = math.pow(engs[i+1],pconst)/pconst - math.pow(engs[i],pconst)/pconst\n",
    "     flux[i] = val\n",
    "\n"
   ]
  },
  {
   "cell_type": "markdown",
   "metadata": {},
   "source": [
    "XSPEC will pass tuples containing the energy and parameter values to your function. For the flux array, it will pass a list pre-sized to nE-1, where nE is the size of the energies array. Your model function should fill in this list with the proper flux values. (For additional optional arguments to your model function, please see the documentation for the addPyMod function.)\n",
    "\n",
    "The second thing you must define is a tuple containing the parameters' information strings, one string for each parameter in your model. This is equivalent to the parameter strings you would define in a 'model.dat' file when adding local models in standard XSPEC, and it requires the same format. (See Appendix C of the XSPEC manual for more details.) So with the powerlaw function above which takes just 1 parameter, you might define a tuple as:\n",
    "\n",
    "`powInfo = (\"phoIndex \\\"\" 1.1 -3. -2. 9. 10. 0.01\",)`\n",
    "\n",
    "Note the need for the **trailing comma** when there's just one parameter string. This is to let Python know that powInfo is a tuple type and not a string.\n",
    "\n",
    "Once you've defined your function and parameter information, simply call:\n",
    "\n",
    "`AllModels.addPyMod(lpow, powInfo, 'add')`\n",
    "\n",
    "The 3rd argument tells XSPEC the type of your model function ('add', 'mul', or 'con'). After this call your function will be added to the list of available model components, which you can see by doing 'Model.showList()'. Your model will show up with the same name as your original Python function ('lpow'), and is ready for use in future Model definitions.\n",
    "\n",
    "\n"
   ]
  },
  {
   "cell_type": "markdown",
   "metadata": {},
   "source": [
    "----\n",
    "\n",
    "### Fitting\n",
    "\n",
    "#### Error\n",
    "\n",
    "The error command is implemented through Fit, and the results are stored with the chosen Parameter object(s). The error attribute stores a tuple containing the low and high range values for the parameter, and the 9-letter status string to report problems incurred during the error calculation.\n",
    "\n",
    "```\n",
    "# Estimate the 90% confidence range for the 4th parameter\n",
    "xspec.Fit.error(\"2.706 4\")\n",
    "xspec.par4 = AllModels(1)(4)\n",
    "xspec.par4.error\n",
    "(0.11350354517707145, 0.14372981075906774, 'FFFFFFFFF')\n",
    "```"
   ]
  },
  {
   "cell_type": "markdown",
   "metadata": {},
   "source": [
    "#### Query\n",
    "\n",
    "During an xspec.Fit.perform() operation, the default is to query the user whenever the fit has run the maximum number of iterations, as set by the Fit.nIterations attribute. You can change this behavior with the query attribute:\n"
   ]
  },
  {
   "cell_type": "code",
   "execution_count": 140,
   "metadata": {},
   "outputs": [],
   "source": [
    "# When nIterations is reached, continue the fit without stopping to query.\n",
    "xspec.Fit.query = \"yes\"\n",
    "# Stop fit at nIterations and do not query.\n",
    "xspec.Fit.query = \"no\"\n",
    "# Query the user when nIterations is reached.\n",
    "xspec.Fit.query = \"on\"\n"
   ]
  },
  {
   "cell_type": "markdown",
   "metadata": {},
   "source": [
    "\n",
    "#### Steppar\n",
    "\n",
    "The Standard XSPEC steppar command is also implemented through the global Fit object. You supply it with a string following the same steppar command syntax rules. For example:\n",
    "\n",
    "```\n",
    "# Step parameters 1 and 2 through the given range values\n",
    "# over a 10x10 2-D grid.\n",
    "Fit.steppar(\"1 20. 30. 10 2 .05 .08 10\")\n",
    "```\n",
    "\n",
    "### Fakeit\n",
    "\n",
    "PyXspec provides access to standard XSPEC's fakeit command, which is for creating spectra with simulated data. It is called through the AllData fakeit method:\n",
    "\n",
    "AllData.fakeit(nSpectra=1, settings=None, applyStats=True, filePrefix=\"\")\n",
    "\n",
    "NOTE: If AllData.fakeit is run when spectra are currently loaded, it will follow the same rules as the standard XSPEC fakeit function: It will REMOVE ALL pre-existing spectra and replace each one with a simulated spectrum (even if nSpectra is less than the number originally loaded).\n",
    "\n",
    "As those familiar with standard fakeit know, the user is normally prompted for quite a bit of additional information needed to generate the fakeit files. However the goal here is to have NO additional prompting, and that requires that all information must be entered as arguments to the AllData fakeit method call. This is done by passing objects of the FakeitSettings class to AllData.fakeit, as we'll show further below.\n",
    "\n",
    "NOTE: Unless stated otherwise, assume all spectra are OGIP type-1 (1 spectrum per file).\n",
    "\n",
    "For the simplest of cases, you don't need to create any FakeitSettings objects. Just pass in the number of fake spectra you'd like to create:\n",
    "\n"
   ]
  },
  {
   "cell_type": "code",
   "execution_count": 141,
   "metadata": {
    "collapsed": true
   },
   "outputs": [],
   "source": [
    "# Create 3 fake spectra using only default settings.\n",
    "xspec.AllData.fakeit(3)"
   ]
  },
  {
   "cell_type": "markdown",
   "metadata": {},
   "source": [
    "The fakeit function will then create a default `FakeitSettings` object for each of the 3 spectra. By default, a FakeitSettings object will have empty strings for all of its attributes, and these are handled differently depending on whether the fake spectrum is replacing a currently loaded spectrum, or creating one from scratch.\n",
    "\n",
    "#### From Existing Spectra\n",
    "\n",
    "When replacing an existing spectrum, FakeitSettings attributes with empty strings will simply take their value from the original spectrum. Also note that the response and arf settings for the original spectrum CANNOT be modified for the fakeit spectrum. If a name is filled in for either of these attributes, it will be ignored. If you wish to modify these, you can make the change to the original spectrum prior to calling fakeit. [The one exception is when the original spectrum has no response, in which case the response attribute MUST be filled in.] If the fileName attribute is empty, XSPEC will generate a default output name derived from the original file name.\n",
    "\n",
    "#### From Scratch\n",
    "\n",
    "When creating from scratch, an empty string implies \"none\" for the arf and background, 1.0 for exposure and correction, and XSPEC's default dummy response for the response attribute. If the fileName attribute is empty, XSPEC will generate a default output file name based on the response name, and it will include an auto-incremented index to prevent multiple output files from overwriting each other.\n",
    "\n",
    "FakeitSettings Objects\n",
    "\n",
    "To create a fake spectrum with anything other than default settings, you must supply a FakeitSettings object for that spectrum. The FakeitSettings attributes are: response, arf, background, exposure, correction, backExposure, and fileName. All are string types, though exposure, backExposure, and correction can also be entered as floats. Attributes can be set upon object construction, or anytime afterwards:\n",
    "\n",
    "fs1 = FakeitSettings(\"response1.rsp\", exposure = 1500.0)\n",
    "\n",
    "fs1.background = \"back1.pha\"\n",
    "\n",
    "A new FakeitSettings object can also be made by copying an existing one:\n",
    "\n",
    "fs2 = FakeitSettings(fs1)\n",
    "\n",
    "And now pass the objects to the fakeit method, either in a list, dictionary, or as a single object:\n",
    "\n",
    "```\n",
    "# Apply settings to fakeit spectra 1 and 2:\n",
    "AllData.fakeit(2,[fs1,fs2])\n",
    "# Apply setting to fakeit spectrum 1, use defaults for spectrum 2:\n",
    "AllData.fakeit(2, fs1)\n",
    "# Apply settings to fakeit spectra 2 and 4, use defaults for 1 and 3:\n",
    "settingsDict = {2:fs1, 4:fs2}\n",
    "AllData.fakeit(4, settingsDict)\n",
    "# Create 4 fakeit spectra from the same settings object:\n",
    "settingsList = 4*[fs1]\n",
    "AllData.fakeit(4, settingsList)\n",
    "```\n",
    "\n",
    "The remaining 2 arguments to the AllData.fakeit function are for choosing whether to apply statistical fluctuations (default = True), and whether to add an optional prefix string to the names of all output files.\n",
    "\n",
    "### OGIP Type-2 Files\n",
    "\n",
    "With OGIP type-2 files, multiple spectra may be placed in a single file. The important thing to recognize when generating type-2 fakeit files is that the exposure, correction, backExposure, and fileName attributes apply to the output files and not the individual spectra. Therefore these settings will be ignored for all but the first spectrum in a file. For example:\n",
    "\n",
    "```\n",
    "# Start with 4 spectra loaded, in 2 type-2 files:\n",
    "AllData(\"myDataFile1.pha{1-2} myDataFile2.pha{7-8}\")\n",
    "# Create settings for the 4 fake spectra that will be generated from these:\n",
    "fs1 = FakeitSettings(background=\"back1.pha\", exposure=250.) \n",
    "# The exposure setting in fs2 will be ignored!!!\n",
    "fs2 = FakeitSettings(background=\"back2.pha\", exposure 100.) \n",
    "fs3 = FakeitSettings(fileName=\"myFakeitFile_2.pha\")\n",
    "fs4 = FakeitSettings(fs3)\n",
    "# The following change will be ignored!!!\n",
    "fs4.fileName = \"myFakeitFile_3.pha\"\n",
    "# Now generate the fakeit files: AllData.fakeit(4, [fs1,fs2,fs3,fs4])\n",
    "```\n",
    "\n",
    "The above will generate 4 fakeit spectra, placed in 2 type-2 files. The exposure setting for spectrum 2 and the fileName setting for spectrum 4 will be ignored. Those values are only set by spectra 1 and 3.\n",
    "\n",
    "For more fakeit details and examples, please check:\n",
    "\n",
    "```\n",
    "help(FakeitSettings)\n",
    "help(DataManager.fakeit)\n",
    "```\n",
    "\n",
    "### Monte Carlo Markov Chains (MCMC)\n",
    "\n",
    "All MCMC operations are handled either by objects of class Chain, or the global AllChains container object. To create a new chain based on the current fit parameters, simply create a Chain object by passing it an output file name:\n",
    "\n",
    "`c1 = Chain(\"chain1.fits\")`\n",
    "\n",
    "The above call creates the file \"chain1.fits\", performs an MCMC run using the default burn, fileType, length, proposal, rand, and temperature values, and automatically places the new object in the AllChains container. These default settings are stored as attributes of AllChains:\n",
    "\n",
    "```\n",
    "# Ensure that new chains will burn the first 100 iterations, will\n",
    "# have length 1000, and will use the proposal \"gaussian fit\"\n",
    "AllChains.defBurn = 100\n",
    "AllChains.defLength = 1000\n",
    "AllChains.defProposal = \"gaussian fit\"\n",
    "c2 = Chain(\"chain2.fits\")\n",
    "```\n",
    "\n",
    "You can also override the AllChains default settings by passing additional arguments to Chain upon construction:\n",
    "\n",
    "```\n",
    "# Length will be 2000 for this chain, use defaults for all other settings.\n",
    "c3 = Chain(\"chain3.fits\", runLength = 2000)\n",
    "```\n",
    "\n",
    "The new chain objects will then store their own settings as attributes:\n",
    "\n",
    "```\n",
    "c2.burn\n",
    "100\n",
    "c2.runLength\n",
    "1000\n",
    "c3.runLength\n",
    "2000\n",
    "```\n",
    "\n",
    "All of a chain object's attributes will be displayed when calling its show() method.\n",
    "\n",
    "To append a new run to an existing chain object, call the object's run() method. The appending run will use the object's current attribute settings, and not the AllChains default settings:\n",
    "\n",
    "```\n",
    "# This will append a run of length 3000 to the c3 chain object, and with a\n",
    "# Metropolis-Hastings temperature of 50.0:\n",
    "c3.runLength = 3000\n",
    "c3.temperature = 50.0\n",
    "c3.run()\n",
    "\n",
    "c3.totalLength\n",
    "5000\n",
    "```\n",
    "To overwrite rather than append to an existing chain object, call run with its append argument set to False:\n",
    "\n",
    "```\n",
    "# This erases the results of any previous runs for object c3.\n",
    "c3.run(False)\n",
    "\n",
    "c3.totalLength\n",
    "3000\n",
    "```\n",
    "New chains are loaded into AllChains by default, but you can unload or reload them using the AllChains arithmetic operators:\n",
    "\n",
    "```\n",
    "# Chain c2 may be unloaded by passing its chain index number\n",
    "AllChains -= 2\n",
    "# OR by passing the object itself\n",
    "AllChains -= c2\n",
    "# 2 ways to remove ALL chains\n",
    "AllChains -= '*'\n",
    "AllChains.clear()\n",
    "\n",
    "\n",
    "# Reload an existing chain object\n",
    "AllChains += c2\n",
    "# Load a chain from an existing chain file\n",
    "AllChains += \"earlierChain.fits\"\n",
    "# Create a new chain, to be stored in file \"chain4.fits\"\n",
    "AllChains += \"chain4.fits\"\n",
    "```\n",
    "\n",
    "As with Standard XSPEC, unloading a chain will leave the chain's file intact. It merely removes the chain from XSPEC's calculations. To display information about the currently loaded chains, call AllChains.show().\n",
    "\n",
    "You may also get a chain object from the container at any time by passing it an index number:\n",
    "\n",
    "```\n",
    "# Retrieve a chain object for the 4th chain in the container\n",
    "c4 = AllChains(4)\n",
    "```\n",
    "\n",
    "### Plotting\n",
    "\n",
    "All of the plotting options available in Standard XSPEC's setplot command are now implemented as attributes of the Plot object. Some of these are mentioned in the Quick Version of the tutorial, and please see the PlotManager class reference for the complete guide.\n",
    "\n",
    "One setting of particular interest is the commands attribute. This is a tuple of user-entered PLT command strings which are added to XSPEC's auto-generated commands when performing a plot, and is modified through Plot's addCommand and delCommand methods. For example, to enter a PLT command to place an additional label at the specified coordinates on the plot:\n",
    "\n",
    "`Plot.addCommand(\"label 1 pos 10 .05 \\\"Another Label\"\")`\n",
    "\n",
    "To view the currently loaded commands:\n",
    "\n",
    "`print Plot.commands`\n",
    "\n",
    "and to remove the 3rd command from the tuple:\n",
    "\n",
    "`Plot.delCommand(3)`\n",
    "\n",
    "### XSPEC Settings\n",
    "\n",
    "Most of the internal switches set through Standard XSPEC's xset command are now set through attributes of the global Xset object. Examples:\n",
    "\n",
    "```\n",
    "Xset.abund = \"angr\"\n",
    "Xset.cosmo = \"50 .5 0.\"\n",
    "Xset.xsect = \"bcmc\"\n",
    "```\n",
    "\n",
    "Xset also provides the methods `addModelString` and `delModelString` to set the `<string name>,<string value>` pairs which are used by certain models. The `<string name>` argument is case-insensitive.\n",
    "\n",
    "```\n",
    "Xset.addModelString(\"APECROOT\",\"1.3.1\")\n",
    "Xset.addModelString(\"APECTHERMAL\",\"yes\")\n",
    "Xset.delModelString(\"neivers\")\n",
    "```\n",
    "\n",
    "The entire collection of `<name>,<value>` pairs may be set or retrieved with the Xset.modelStrings attribute:\n",
    "\n",
    "```\n",
    "# Replace all previous entries with a new dictionary\n",
    "Xset.modelStrings = {\"neivers\":\"1.1\", \"apecroot\":\"1.3.1\"}\n",
    "# Clear out all entries:\n",
    "Xset.modelStrings = {}\n",
    "```\n",
    "\n",
    "`Xset.show()` will display all of the current settings including the current `<string name>,<string value>` pairs.\n",
    "\n",
    "### Logging And XSPEC Output\n",
    "\n",
    "The Xset object provides attributes and methods for controlling output chatter level and for creating log files:\n",
    "\n",
    "```\n",
    "# Get/Set the console chatter level\n",
    "ch = Xset.chatter\n",
    "Xset.chatter = 10\n",
    "# Get/Set the log chatter level\n",
    "lch = Xset.logChatter\n",
    "Xset.logChatter = 20\n",
    "\n",
    "# Create and open a log file for XSPEC output\n",
    "# This returns a Python file object\n",
    "logFile = Xset.openLog(\"newLogFile.txt\")\n",
    "# Get the Python file object for the currently opened log\n",
    "logFile = Xset.log\n",
    "# Close XSPEC's currently opened log file.\n",
    "Xset.closeLog()\n",
    "```\n",
    "\n",
    "### Exceptions And Error Handling\n",
    "\n",
    "PyXspec utilizes the standard Python try/except/raise mechanism for handling and reporting errors. In this early version, only exception objects of the class Exception are ever raised. In the future other (more specific) error classes may be used, but they should always be derived from Exception. So you can catch all PyXspec exceptions with code such as:\n",
    "\n",
    "```\n",
    "    try:\n",
    "       # Only 4 spectra are currently loaded\n",
    "        s = xspec.AllData(5)\n",
    "   except Exception, msg:\n",
    "        print msg      \n",
    "```\n",
    "\n",
    "which will print the error message:\n",
    "\n",
    "`Error: Spectrum index number is out of range: 5`\n",
    "\n",
    "PyXspec raises errors in a variety of situations, such as for invalid input argument syntax, or for input which is invalid within the context of the call (as in the example above). It can also raise exceptions if you try to rebind a class attribute when such modification is not permitted.\n",
    "\n",
    "### Adding Attributes To PyXspec Objects\n",
    "\n",
    "A particularly novel feature of Python (in comparison with say C++) is that it allows you to create new attributes \"on the fly\". The attributes don't have to have been part of the original class definition:\n",
    "\n",
    "```\n",
    " class C:\n",
    "    pass\n",
    "\n",
    "\n",
    " x = C()\n",
    "x.pi = 3.1416\n",
    "```\n",
    "\n",
    "The downside of course is that spelling or case sensitive errors become much harder to detect. For example, with PyXspec's Plot object:\n",
    "\n",
    "```\n",
    "Plot.yLog = True # Correct\n",
    "Plot.ylog = True # Wrong!\n",
    "```\n",
    "\n",
    "In the second case, standard Python will simply add a new attribute named \"ylog\" to Plot, and this will have no effect on the actual plot since PyXspec is only looking at \"yLog\".\n",
    "\n",
    "So operating under the assumption that this downside outweighs the benefits, we've decided to disable the ability to add new attributes to PyXspec class objects. A misspelling or case error will instead raise an Exception object. And since some users may genuinely wish to add their own attributes to PyXspec classes, this default behavior may be overridden by toggling the Xset.allowNewAttributes flag:\n",
    "\n",
    "```\n",
    "s = Spectrum(\"dataFile.pha\")\n",
    "s.myNewIndex = 10 # Error: Will raise an exception\n",
    "Xset.allowNewAttributes = True\n",
    "s.myNewIndex = 10 # OK\n",
    ".\n",
    ". # Can add new attributes to any PyXspec object,\n",
    ". # but attribute spelling errors will go undetected.\n",
    ".\n",
    "Xset.allowNewAttributes = False\n",
    "```\n",
    "\n",
    "### Using With Other Packages\n",
    "\n",
    "One of the primary benefits of PyXspec is that it makes it much easier to use XSPEC data and results in 3rd party packages. For example you can bypass XSPEC's built-in plotting functions in favor of a Python plotting library such as Matplotlib:\n",
    "\n",
    "```\n",
    "#!/usr/bin/python\n",
    "\n",
    "from xspec import *\n",
    "import matplotlib.pyplot as plt\n",
    "\n",
    "# PyXspec operations:\n",
    "s = Spectrum(\"file1.pha\")\n",
    "m = Model(\"wa*po\")\n",
    "Fit.perform()\n",
    "\n",
    "# Plot using Matplotlib:\n",
    "plt.plot(s.noticed, s.values, 'ro', s.noticed, m.folded(1))\n",
    "plt.xlabel('channels')\n",
    "plt.ylabel('counts/cm^2/sec/chan')\n",
    "plt.savefig('myplot')\n",
    "```\n",
    "\n",
    "The above code produces a Matplotlib plot of the spectral data and folded model vs. channels (similar to what you get with Standard XSPEC's \"plot data\" command). It makes use of the Spectrum object's noticed attribute to pass a list of the channel numbers, and the values attribute (a tuple) to pass the spectral data values in counts/cm^2/s. The folded model values are obtained as a list by calling the Model object's folded method with a spectrum number argument."
   ]
  },
  {
   "cell_type": "code",
   "execution_count": null,
   "metadata": {
    "collapsed": true
   },
   "outputs": [],
   "source": []
  }
 ],
 "metadata": {
  "kernelspec": {
   "display_name": "Python 2",
   "language": "python",
   "name": "python2"
  },
  "language_info": {
   "codemirror_mode": {
    "name": "ipython",
    "version": 2
   },
   "file_extension": ".py",
   "mimetype": "text/x-python",
   "name": "python",
   "nbconvert_exporter": "python",
   "pygments_lexer": "ipython2",
   "version": "2.7.14"
  },
  "nav_menu": {},
  "toc": {
   "navigate_menu": true,
   "number_sections": true,
   "sideBar": true,
   "threshold": 6,
   "toc_cell": false,
   "toc_section_display": "block",
   "toc_window_display": true
  }
 },
 "nbformat": 4,
 "nbformat_minor": 1
}
