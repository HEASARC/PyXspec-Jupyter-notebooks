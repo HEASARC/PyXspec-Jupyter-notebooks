{
 "cells": [
  {
   "cell_type": "code",
   "execution_count": 1,
   "metadata": {},
   "outputs": [],
   "source": [
    "# uncomment the line below to make matplotlib plots dynamic\n",
    "#%matplotlib notebook\n",
    "import matplotlib\n",
    "import numpy as np\n",
    "import matplotlib.pyplot as plt\n",
    "# this ensures that all C output is redirected to the Jupyter output box\n",
    "%load_ext wurlitzer\n",
    "\n",
    "from xspec import *"
   ]
  },
  {
   "cell_type": "markdown",
   "metadata": {},
   "source": [
    "##Simultaneous Fitting\n",
    "\n",
    "XSPEC has the very useful facility of allowing models to be fitted simultaneously to more than one data file. It is even possible to group files together and to fit different models simultaneously. Reasons for fitting in this manner include:\n",
    "\n",
    "    The same target is observed at several epochs but, although the source stays constant, the response matrix has changed. When this happens, the data files cannot be added together; they have to be fitted separately. Fitting the data files simultaneously yields tighter constraints.\n",
    "    The same target is observed with different instruments. All the instruments on Suzaku, for example, observe in the same direction simultaneously. As far as XSPEC is concerned, this is just like the previous case: two data files with two responses fitted simultaneously with the same model.\n",
    "    Different targets are observed, but the user wants to fit the same model to each data file with some parameters shared and some allowed to vary separately. For example, if we have a series of spectra from a variable AGN, we might want to fit them simultaneously with a model that has the same, common photon index but separately vary the normalization and absorption.\n",
    "\n",
    "Other scenarios are possible--the important thing is to recognize the flexibility of XSPEC in this regard.\n",
    "\n",
    "As an example we will look at a case of fitting the same model to two different data files but where not all the parameters are identical. Again, this is an older dataset that provides a simpler illustration than more modern data. The massive X-ray binary Centaurus X-3 was observed with the LAC on Ginga in 1989. Its flux level before eclipse was much lower than the level after eclipse. Here, we'll use XSPEC to see whether spectra from these two phases can be fitted with the same model, which differs only in the amount of absorption. The spectra and corresponding response matrices were obtained from the HEASARC and are available from https://heasarc.gsfc.nasa.gov/docs/xanadu/xspec/walkthrough.tar.gz\n",
    "\n",
    "This kind of fitting relies on introducing an extra dimension, the group, to the indexing of the data files. The files in each group share the same model but not necessarily the same parameter values, which may be shared as common to all the groups or varied separately from group to group. Although each group may contain more than one file, there is only one file in each of the two groups in this example. Groups are specified with the data command, with the group number preceding the file number, like this: "
   ]
  },
  {
   "cell_type": "code",
   "execution_count": 2,
   "metadata": {},
   "outputs": [
    {
     "name": "stdout",
     "output_type": "stream",
     "text": [
      "/Users/karnaud/Jupyter-notebooks/data\n",
      "\n",
      "2 spectra  in use\n",
      " \n",
      "Spectral Data File: losum.pha  Spectrum 1\n",
      "Net count rate (cts/s) for Spectrum:1  1.401e+02 +/- 3.549e-01\n",
      " Assigned to Data Group 1 and Plot Group 1\n",
      "  Noticed Channels:  1-48\n",
      "  Telescope: GINGA Instrument: LAC  Channel Type: PHA\n",
      "  Exposure Time: 1 sec\n",
      " Using fit statistic: chi\n",
      " Using Response (RMF) File            ginga_lac.rsp for Source 1\n",
      "\n",
      "Spectral Data File: hisum.pha  Spectrum 2\n",
      "Net count rate (cts/s) for Spectrum:2  1.371e+03 +/- 3.123e+00\n",
      " Assigned to Data Group 2 and Plot Group 2\n",
      "  Noticed Channels:  1-48\n",
      "  Telescope: GINGA Instrument: LAC  Channel Type: PHA\n",
      "  Exposure Time: 1 sec\n",
      " Using fit statistic: chi\n",
      " Using Response (RMF) File            ginga_lac.rsp for Source 1\n",
      "\n"
     ]
    }
   ],
   "source": [
    "%cd data\n",
    "AllData(\"1:1 losum 2:2 hisum\")"
   ]
  },
  {
   "cell_type": "markdown",
   "metadata": {},
   "source": [
    "Here, the first group makes up the file losum.pha, which contains the spectrum of all the low, pre-eclipse emission. The second group makes up the second file, hisum.pha, which contains all the high, post-eclipse emission. Note that file number is \"absolute\" in the sense that it is independent of group number. Thus, if there were three files in each of the two groups (lo1.pha, lo2.pha, lo3.pha, hi1.pha, hi2.pha, and hi3.pha, say), rather than one, the six files would be specified as \"1:1 lo1 1:2 lo2 1:3 lo3 2:4 hi1 2:5 hi2 2:6 hi3\". The ignore method works on file number, and does not take group number into account. So, to ignore channels 1-3 and 37-48 of both files: "
   ]
  },
  {
   "cell_type": "code",
   "execution_count": 3,
   "metadata": {
    "scrolled": true
   },
   "outputs": [
    {
     "name": "stdout",
     "output_type": "stream",
     "text": [
      "     3 channels (1,3) ignored in spectrum #     1\n",
      "     3 channels (1,3) ignored in spectrum #     2\n",
      "    12 channels (37,48) ignored in spectrum #     1\n",
      "    12 channels (37,48) ignored in spectrum #     2\n",
      "\n"
     ]
    }
   ],
   "source": [
    "AllData.ignore(\"1-3 37-48\")"
   ]
  },
  {
   "cell_type": "markdown",
   "metadata": {},
   "source": [
    "The model we'll use at first to fit the two files is an absorbed power law with a high-energy cut-off: "
   ]
  },
  {
   "cell_type": "code",
   "execution_count": 4,
   "metadata": {},
   "outputs": [
    {
     "data": {
      "text/plain": [
       "<xspec.model.Model at 0x146819940>"
      ]
     },
     "execution_count": 4,
     "metadata": {},
     "output_type": "execute_result"
    },
    {
     "name": "stdout",
     "output_type": "stream",
     "text": [
      "\n",
      "========================================================================\n",
      "Model phabs<1>*highecut<2>*powerlaw<3> Source No.: 1   Active/On\n",
      "Model Model Component  Parameter  Unit     Value\n",
      " par  comp\n",
      "                           Data group: 1\n",
      "   1    1   phabs      nH         10^22    1.00000      +/-  0.0          \n",
      "   2    2   highecut   cutoffE    keV      10.0000      +/-  0.0          \n",
      "   3    2   highecut   foldE      keV      15.0000      +/-  0.0          \n",
      "   4    3   powerlaw   PhoIndex            1.00000      +/-  0.0          \n",
      "   5    3   powerlaw   norm                1.00000      +/-  0.0          \n",
      "                           Data group: 2\n",
      "   6    1   phabs      nH         10^22    1.00000      = p1\n",
      "   7    2   highecut   cutoffE    keV      10.0000      = p2\n",
      "   8    2   highecut   foldE      keV      15.0000      = p3\n",
      "   9    3   powerlaw   PhoIndex            1.00000      = p4\n",
      "  10    3   powerlaw   norm                1.00000      = p5\n",
      "________________________________________________________________________\n",
      "\n",
      "\n",
      "Fit statistic  : Chi-Squared              3.256708e+08     using 33 bins.\n",
      "                 Chi-Squared              4.084839e+06     using 33 bins.\n",
      "Total fit statistic                       3.297556e+08     with 61 d.o.f.\n",
      "\n",
      "Test statistic : Chi-Squared              3.297556e+08     using 66 bins.\n",
      " Null hypothesis probability of 0.000000e+00 with 61 degrees of freedom\n",
      " Current data and model not fit yet.\n"
     ]
    }
   ],
   "source": [
    "Model(\"phabs * highecut(pow)\")"
   ]
  },
  {
   "cell_type": "markdown",
   "metadata": {},
   "source": [
    "Notice how the summary of the model, displayed immediately above, is different now that we have two groups, as opposed to one. We can see that of the 10 model parameters, 5 for each data group and, by default, the parameters for the second data group are linked to those for the first. Let us suppose that we have a theory that the difference between the two spectra is a change in the absorption. We want to remove the link between parameters 1 and 6 and the fit. When there are two datagroups there are two separate model objects created so to change the sixth parameter, which is the first parameter of the model for the second datagroup we do:"
   ]
  },
  {
   "cell_type": "code",
   "execution_count": 5,
   "metadata": {},
   "outputs": [
    {
     "name": "stdout",
     "output_type": "stream",
     "text": [
      "\n",
      "Fit statistic  : Chi-Squared              3.256708e+08     using 33 bins.\n",
      "                 Chi-Squared              4.084839e+06     using 33 bins.\n",
      "Total fit statistic                       3.297556e+08     with 60 d.o.f.\n",
      "\n",
      "Test statistic : Chi-Squared              3.297556e+08     using 66 bins.\n",
      " Null hypothesis probability of 0.000000e+00 with 60 degrees of freedom\n",
      " Current data and model not fit yet.\n",
      "                                   Parameters\n",
      "Chi-Squared  |beta|/N    Lvl          1:nH     2:cutoffE       3:foldE    4:PhoIndex        5:norm          6:nH\n",
      "220543       9867.56      -3      0.333148       14.2798       36.6028      0.147414    0.00411629      0.283885\n",
      "215947       201943       -4      0.128858       13.1325       14.8783    0.00259899    0.00341326     0.0366783\n",
      "215135       171911       -5      0.368941       14.8072       7.49843     0.0640761    0.00381547    0.00600141\n",
      "214490       644803       -6      0.441643       14.5379       8.82389     0.0643614    0.00386068    0.00252599\n",
      "214432       468127       -7      0.485919       14.5043       9.02904     0.0669875    0.00388596   0.000811596\n",
      "214429       456922       -2      0.510309       14.4829       8.96366     0.0679087    0.00389913   0.000388265\n",
      "214404       463354       -3      0.514668       14.4459       9.13292     0.0667926    0.00389109   0.000175845\n",
      "214320       451243       -4      0.571311       14.4601       9.11420     0.0706216    0.00393704   7.03735e-05\n",
      "214298       428465       -1      0.586668       14.5286       9.08019     0.0723297    0.00394936   2.16957e-05\n",
      "214193       421731       -2      0.716931       14.8688       8.09433     0.0833144    0.00407428   9.80346e-06\n",
      "Number of trials exceeded: continue fitting? 214052       394059        0      0.757403       14.7708       8.38901     0.0825967    0.00409316   2.40852e-06\n",
      "213638       335202       -1       1.11498       14.5947       8.85045     0.0853738    0.00425318   2.99592e-07\n",
      "212904       85197.4      -2       2.09752       14.7079       9.38267      0.172575    0.00517626   1.05067e-07\n",
      "212806       219741       -3       4.10472       15.4754       9.83384      0.350441    0.00749112   1.94492e-08\n",
      "***Warning: Zero alpha-matrix diagonal element for parameter 6\n",
      " Parameter 6 is pegged at 1.94492e-08 due to zero or negative pivot element, likely\n",
      " caused by the fit being insensitive to the parameter.\n",
      "209758       552859       -2       6.51448       15.6778       10.0425      0.451960     0.0102006   1.94492e-08\n",
      "207240       269853       -2       10.3620       15.9862       10.4370      0.603439     0.0148987   1.94492e-08\n",
      "205214       291214       -2       17.5494       16.3449       11.1012      0.835406     0.0257588   1.94492e-08\n",
      "191984       324874       -1       23.3363       15.5371       11.0329      0.833163     0.0328918   1.94492e-08\n",
      "185862       71246        -1       30.2632       14.5910       11.2310      0.868496     0.0397037   1.94492e-08\n",
      "Number of trials exceeded: continue fitting? 177767       65291.1      -1       39.4296       13.3246       11.7797      0.908941     0.0494062   1.94492e-08\n",
      "164920       69446.3      -1       52.8504       11.2860       12.3169      0.943052     0.0642380   1.94492e-08\n",
      "138495       80667.9      -1       76.6503       7.08944       11.8128      0.928434     0.0906922   1.94492e-08\n",
      "125659       124599        0       80.1719       7.05271       11.2810      0.902787      0.100909   1.94492e-08\n",
      "120907       60996        -1       103.087       4.80632       6.79762      0.832274      0.141486   1.94492e-08\n",
      "90955.2      113861       -2       128.202       8.41987       5.95082      0.817197      0.160683   1.94492e-08\n",
      "85546.6      35356.6      -3       135.188       5.45293       6.06266      0.573823      0.122943   1.94492e-08\n",
      "84749.1      35401.1      -3       140.836       7.61059       5.85790      0.738242      0.145785   1.94492e-08\n",
      "84709.3      12048.3      -3       140.767       5.59164       5.65659      0.511520      0.114741   1.94492e-08\n",
      "84255.5      35235.5      -3       142.272       7.29392       5.75903      0.696373      0.138805   1.94492e-08\n",
      "Number of trials exceeded: continue fitting? 83193.5      19638.5      -2       140.908       6.11129       5.80183      0.603226      0.134340   1.94492e-08\n",
      "83069.3      3239.41      -3       141.654       6.84792       5.58914      0.627374      0.133392   1.94492e-08\n",
      "82939.2      437.368      -2       140.578       6.24236       5.61527      0.579925      0.129147   1.94492e-08\n",
      "82909.3      1141.99      -3       140.975       6.63680       5.52915      0.597574      0.129213   1.94492e-08\n",
      "82870.3      80.4941      -2       140.432       6.34338       5.53871      0.573720      0.127180   1.94492e-08\n",
      "82860.4      260.727      -3       140.616       6.49770       5.49369      0.577277      0.126430   1.94492e-08\n",
      "82855.3      31.242       -2       140.408       6.38373       5.49676      0.567694      0.125609   1.94492e-08\n",
      "82854.1      54.0641      -3       140.480       6.43266       5.47749      0.567343      0.125052   1.94492e-08\n",
      "82853.6      5.55634      -4       140.452       6.38186       5.46413      0.558930      0.123855   1.94492e-08\n",
      "82852.7      47.8308      -2       140.486       6.40922       5.46291      0.561266      0.124062   1.94492e-08\n",
      "Number of trials exceeded: continue fitting? 82852.4      14.8929      -3       140.471       6.40583       5.46869      0.562579      0.124368   1.94492e-08\n",
      "82852.4      2.82098       1       140.471       6.40583       5.46869      0.562579      0.124368   1.94492e-08\n",
      "***Warning: Zero alpha-matrix diagonal element for parameter 6\n",
      " Parameter 6 is pegged at 1.94492e-08 due to zero or negative pivot element, likely\n",
      " caused by the fit being insensitive to the parameter.\n",
      "82852.4      2.37912       0       140.470       6.40584       5.46869      0.562579      0.124368   1.94492e-08\n",
      "============================================================\n",
      " Variances and Principal Axes\n",
      "                 1        2        3        4        5  \n",
      " 3.5982E-08| -0.0004   0.0169   0.0181  -0.2652   0.9639  \n",
      " 8.1972E-06| -0.0017   0.1112   0.2060  -0.9359  -0.2633  \n",
      " 5.8370E-04| -0.0238   0.3414  -0.9263  -0.1545  -0.0311  \n",
      " 2.5722E-03|  0.0224  -0.9327  -0.3146  -0.1730  -0.0253  \n",
      " 1.2403E-01|  0.9995   0.0293  -0.0147  -0.0015  -0.0002  \n",
      "------------------------------------------------------------\n",
      "\n",
      "============================================================\n",
      "  Covariance Matrix\n",
      "        1           2           3           4           5   \n",
      "   1.239e-01   3.571e-03  -1.824e-03  -1.959e-04  -2.837e-05\n",
      "   3.571e-03   2.412e-03   5.172e-04   3.779e-04   5.358e-05\n",
      "  -1.824e-03   5.172e-04   7.825e-04   2.247e-04   3.727e-05\n",
      "  -1.959e-04   3.779e-04   2.247e-04   9.840e-05   1.613e-05\n",
      "  -2.837e-05   5.358e-05   3.727e-05   1.613e-05   2.824e-06\n",
      "------------------------------------------------------------\n",
      "\n",
      "========================================================================\n",
      "Model phabs<1>*highecut<2>*powerlaw<3> Source No.: 1   Active/On\n",
      "Model Model Component  Parameter  Unit     Value\n",
      " par  comp\n",
      "                           Data group: 1\n",
      "   1    1   phabs      nH         10^22    140.470      +/-  0.351989     \n",
      "   2    2   highecut   cutoffE    keV      6.40584      +/-  4.91132E-02  \n",
      "   3    2   highecut   foldE      keV      5.46869      +/-  2.79734E-02  \n",
      "   4    3   powerlaw   PhoIndex            0.562579     +/-  9.91965E-03  \n",
      "   5    3   powerlaw   norm                0.124368     +/-  1.68042E-03  \n",
      "                           Data group: 2\n",
      "   6    1   phabs      nH         10^22    1.94492E-08  +/-  -1.00000     \n",
      "   7    2   highecut   cutoffE    keV      6.40584      = p2\n",
      "   8    2   highecut   foldE      keV      5.46869      = p3\n",
      "   9    3   powerlaw   PhoIndex            0.562579     = p4\n",
      "  10    3   powerlaw   norm                0.124368     = p5\n",
      "________________________________________________________________________\n",
      "\n",
      "\n",
      "Fit statistic  : Chi-Squared                51448.96     using 33 bins.\n",
      "                 Chi-Squared                31403.45     using 33 bins.\n",
      "Total fit statistic                         82852.41     with 60 d.o.f.\n",
      "\n",
      "Test statistic : Chi-Squared                82852.41     using 66 bins.\n",
      " Null hypothesis probability of 0.00e+00 with 60 degrees of freedom\n"
     ]
    }
   ],
   "source": [
    "m1 = AllModels(1)\n",
    "m2 = AllModels(2)\n",
    "m2(1).untie()\n",
    "Fit.perform()"
   ]
  },
  {
   "cell_type": "code",
   "execution_count": 6,
   "metadata": {},
   "outputs": [],
   "source": [
    "Plot.device=\"/null\"\n",
    "Plot.xAxis=\"keV\"\n",
    "Plot(\"data resid\")\n",
    "energies = Plot.x()\n",
    "edeltas = Plot.xErr()\n",
    "rates = Plot.y(1,1)\n",
    "errors = Plot.yErr(1,1)\n",
    "rates2 = Plot.y(2,1)\n",
    "errors2 = Plot.yErr(2,1)\n",
    "foldedmodel = Plot.model()\n",
    "foldedmodel2 = Plot.model(2)\n",
    "dataLabels = Plot.labels(1)\n",
    "residLabels = Plot.labels(2)\n",
    "# note that for matplotlib step plots we need an x-axis array which includes the start and end value for each\n",
    "# bin and the y-axis has to be the same size with an extra value added equal to the value of the last bin\n",
    "nE = len(energies)\n",
    "stepenergies = list()\n",
    "for i in range(nE):\n",
    "    stepenergies.append(energies[i] - edeltas[i])\n",
    "stepenergies.append(energies[-1]+edeltas[-1])\n",
    "foldedmodel.append(foldedmodel[-1])\n",
    "foldedmodel2.append(foldedmodel2[-1])\n",
    "resid = Plot.y(1,2)\n",
    "resid.append(resid[-1])\n",
    "resid2 = Plot.y(2,2)\n",
    "resid2.append(resid2[-1])"
   ]
  },
  {
   "cell_type": "code",
   "execution_count": 7,
   "metadata": {},
   "outputs": [
    {
     "data": {
      "text/plain": [
       "<matplotlib.collections.LineCollection at 0x14692eef0>"
      ]
     },
     "execution_count": 7,
     "metadata": {},
     "output_type": "execute_result"
    },
    {
     "data": {
      "image/png": "[encoded data removed]",
      "text/plain": [
       "<Figure size 432x288 with 2 Axes>"
      ]
     },
     "metadata": {
      "needs_background": "light"
     },
     "output_type": "display_data"
    }
   ],
   "source": [
    "plt.subplot(211)\n",
    "plt.ylabel(dataLabels[1])\n",
    "plt.title(dataLabels[2])\n",
    "plt.errorbar(energies,rates,xerr=edeltas,yerr=errors,fmt='.',color='b')\n",
    "plt.errorbar(energies,rates2,xerr=edeltas,yerr=errors2,fmt='.',color='r')\n",
    "plt.step(stepenergies,foldedmodel,where='post',color='b')\n",
    "plt.step(stepenergies,foldedmodel2,where='post',color='r')\n",
    "plt.subplot(212)\n",
    "plt.xlabel(residLabels[0])\n",
    "plt.ylabel(residLabels[1])\n",
    "plt.step(stepenergies,resid,where='post',color='b')\n",
    "plt.step(stepenergies,resid2,where='post',color='r')\n",
    "plt.hlines(0.0,stepenergies[0],stepenergies[-1],linestyles='dashed')"
   ]
  },
  {
   "cell_type": "markdown",
   "metadata": {},
   "source": [
    "Clearly our assumption that only a change in absorption can account for the spectral variation before and after eclipse is clearly wrong. Perhaps scattering also plays a role in reducing the flux before eclipse. This could be modeled (simply at first) by allowing the normalization of the power law to be smaller before eclipse than after eclipse. To decouple tied parameters, we can change the parameter value in the second group to a value - any value - different from that in the first group (changing the value in the first group has the effect of changing both without decoupling)."
   ]
  },
  {
   "cell_type": "code",
   "execution_count": 8,
   "metadata": {},
   "outputs": [
    {
     "name": "stdout",
     "output_type": "stream",
     "text": [
      "\n",
      "Fit statistic  : Chi-Squared                51448.96     using 33 bins.\n",
      "                 Chi-Squared              9.949616e+06     using 33 bins.\n",
      "Total fit statistic                       1.000107e+07     with 59 d.o.f.\n",
      "\n",
      "Test statistic : Chi-Squared              1.000107e+07     using 66 bins.\n",
      " Null hypothesis probability of 0.000000e+00 with 59 degrees of freedom\n",
      " Current data and model not fit yet.\n",
      "                                   Parameters\n",
      "Chi-Squared  |beta|/N    Lvl          1:nH     2:cutoffE       3:foldE    4:PhoIndex        5:norm          6:nH       10:norm\n",
      "***Warning: Zero alpha-matrix diagonal element for parameter 6\n",
      " Parameter 6 is pegged at 1.94492e-08 due to zero or negative pivot element, likely\n",
      " caused by the fit being insensitive to the parameter.\n",
      "28403.7      173861       -3       37.3744       5.67197       8.29470      0.567248     0.0366093   1.94492e-08      0.120893\n",
      "21282.9      140465       -4       30.9428       5.14085       9.36123      0.510361     0.0227609   1.94492e-08      0.111853\n",
      "20084.6      93537.7      -3       29.4438       3.69099       8.19123      0.345370     0.0208368   1.94492e-08     0.0937947\n",
      "18713.6      53644.7      -2       26.7473       2.98087       8.12373      0.292166     0.0202251   1.94492e-08     0.0956424\n",
      "18589.2      2023.14      -2       25.4560       2.85357       7.94011      0.264508     0.0192985   1.94492e-08     0.0934280\n",
      "18522.7      1759.82      -2       24.6101       2.72212       7.82086      0.240585     0.0186062   1.94492e-08     0.0914817\n",
      "18505.2      1160.36      -3       23.6803       2.18058       7.31869      0.150112     0.0169913   1.94492e-08     0.0853591\n",
      "18421.9      20159.6      -4       23.2816       2.28459       7.29900      0.141862     0.0165769   1.94492e-08     0.0839997\n",
      "18419.5      498.919      -5       23.0436       2.18316       7.27728      0.136536     0.0165993   1.94492e-08     0.0844377\n",
      "Number of trials exceeded: continue fitting? 18418.8      113.228      -6       22.9231       2.23879       7.29215      0.139137     0.0164971   1.94492e-08     0.0840927\n",
      "18418.4      102.782      -7       22.8251       2.17674       7.28009      0.136214     0.0165320   1.94492e-08     0.0844125\n",
      "18418.4      47.6225      -8       22.7868       2.23695       7.29323      0.138827     0.0164480   1.94492e-08     0.0840383\n",
      "18418.2      75.1688      -9       22.7378       2.16879       7.27940      0.135716     0.0165080   1.94492e-08     0.0844170\n",
      "18418.2      57.0657      -3       22.7264       2.21083       7.28770      0.137469     0.0164536   1.94492e-08     0.0841571\n",
      "18418.1      24.5332      -3       22.7079       2.18439       7.28445      0.136629     0.0164854   1.94492e-08     0.0843439\n",
      "18418.1      16.3983      -3       22.7047       2.20490       7.28788      0.137394     0.0164577   1.94492e-08     0.0842082\n",
      "18418.1      3.17486      -2       22.6987       2.19951       7.28763      0.137275     0.0164644   1.94492e-08     0.0842500\n",
      "18418.1      10.0775       2       22.6987       2.19951       7.28763      0.137275     0.0164644   1.94492e-08     0.0842500\n",
      "***Warning: Zero alpha-matrix diagonal element for parameter 6\n",
      " Parameter 6 is pegged at 1.94492e-08 due to zero or negative pivot element, likely\n",
      " caused by the fit being insensitive to the parameter.\n",
      "18418.1      10.0125       3       22.6987       2.19951       7.28763      0.137275     0.0164644   1.94492e-08     0.0842500\n",
      "======================================================================\n",
      " Variances and Principal Axes\n",
      "                 1        2        3        4        5       10  \n",
      " 1.6950E-09|  0.0003  -0.0023  -0.0023   0.0359  -0.9994  -0.0005  \n",
      " 2.2525E-08|  0.0000   0.0111   0.0139  -0.1852  -0.0072   0.9825  \n",
      " 6.9749E-06| -0.0056  -0.0077  -0.1624   0.9685   0.0351   0.1852  \n",
      " 2.7695E-03| -0.0005  -0.2333   0.9597   0.1554   0.0039   0.0183  \n",
      " 2.2852E-02|  0.4732  -0.8566  -0.2018  -0.0389   0.0011   0.0052  \n",
      " 4.1543E-02|  0.8809   0.4600   0.1079   0.0272  -0.0001  -0.0016  \n",
      "----------------------------------------------------------------------\n",
      "\n",
      "========================================================================\n",
      "  Covariance Matrix\n",
      "        1           2           3           4           5           6   \n",
      "   3.736e-02   7.570e-03   1.766e-03   5.729e-04   1.046e-05  -2.535e-06\n",
      "   7.570e-03   2.571e-02   5.392e-03   1.181e-03  -2.587e-05  -1.439e-04\n",
      "   1.766e-03   5.392e-03   3.965e-03   7.133e-04   4.823e-06   1.748e-05\n",
      "   5.729e-04   1.181e-03   7.133e-04   1.388e-04   8.394e-07   2.723e-06\n",
      "   1.046e-05  -2.587e-05   4.823e-06   8.394e-07   8.228e-08   3.820e-07\n",
      "  -2.535e-06  -1.439e-04   1.748e-05   2.723e-06   3.820e-07   1.914e-06\n",
      "------------------------------------------------------------------------\n",
      "\n",
      "========================================================================\n",
      "Model phabs<1>*highecut<2>*powerlaw<3> Source No.: 1   Active/On\n",
      "Model Model Component  Parameter  Unit     Value\n",
      " par  comp\n",
      "                           Data group: 1\n",
      "   1    1   phabs      nH         10^22    22.6987      +/-  0.193277     \n",
      "   2    2   highecut   cutoffE    keV      2.19951      +/-  0.160342     \n",
      "   3    2   highecut   foldE      keV      7.28763      +/-  6.29704E-02  \n",
      "   4    3   powerlaw   PhoIndex            0.137275     +/-  1.17796E-02  \n",
      "   5    3   powerlaw   norm                1.64644E-02  +/-  2.86840E-04  \n",
      "                           Data group: 2\n",
      "   6    1   phabs      nH         10^22    1.94492E-08  +/-  -1.00000     \n",
      "   7    2   highecut   cutoffE    keV      2.19951      = p2\n",
      "   8    2   highecut   foldE      keV      7.28763      = p3\n",
      "   9    3   powerlaw   PhoIndex            0.137275     = p4\n",
      "  10    3   powerlaw   norm                8.42500E-02  +/-  1.38346E-03  \n",
      "________________________________________________________________________\n",
      "\n",
      "\n",
      "Fit statistic  : Chi-Squared                16962.33     using 33 bins.\n",
      "                 Chi-Squared                 1455.78     using 33 bins.\n",
      "Total fit statistic                         18418.11     with 59 d.o.f.\n",
      "\n",
      "Test statistic : Chi-Squared                18418.11     using 66 bins.\n",
      " Null hypothesis probability of 0.00e+00 with 59 degrees of freedom\n"
     ]
    }
   ],
   "source": [
    "m2.powerlaw.norm = 1.0\n",
    "Fit.perform()"
   ]
  },
  {
   "cell_type": "code",
   "execution_count": 9,
   "metadata": {},
   "outputs": [],
   "source": [
    "Plot(\"data resid\")\n",
    "energies = Plot.x()\n",
    "edeltas = Plot.xErr()\n",
    "rates = Plot.y(1,1)\n",
    "errors = Plot.yErr(1,1)\n",
    "rates2 = Plot.y(2,1)\n",
    "errors2 = Plot.yErr(2,1)\n",
    "foldedmodel = Plot.model()\n",
    "foldedmodel2 = Plot.model(2)\n",
    "dataLabels = Plot.labels(1)\n",
    "residLabels = Plot.labels(2)\n",
    "# note that for matplotlib step plots we need an x-axis array which includes the start and end value for each\n",
    "# bin and the y-axis has to be the same size with an extra value added equal to the value of the last bin\n",
    "nE = len(energies)\n",
    "stepenergies = list()\n",
    "for i in range(nE):\n",
    "    stepenergies.append(energies[i] - edeltas[i])\n",
    "stepenergies.append(energies[-1]+edeltas[-1])\n",
    "foldedmodel.append(foldedmodel[-1])\n",
    "foldedmodel2.append(foldedmodel2[-1])\n",
    "resid = Plot.y(1,2)\n",
    "resid.append(resid[-1])\n",
    "resid2 = Plot.y(2,2)\n",
    "resid2.append(resid2[-1])"
   ]
  },
  {
   "cell_type": "code",
   "execution_count": 10,
   "metadata": {},
   "outputs": [
    {
     "data": {
      "text/plain": [
       "<matplotlib.collections.LineCollection at 0x146b36470>"
      ]
     },
     "execution_count": 10,
     "metadata": {},
     "output_type": "execute_result"
    },
    {
     "data": {
      "image/png": "[encoded data removed]",
      "text/plain": [
       "<Figure size 432x288 with 2 Axes>"
      ]
     },
     "metadata": {
      "needs_background": "light"
     },
     "output_type": "display_data"
    }
   ],
   "source": [
    "plt.subplot(211)\n",
    "plt.yscale('log')\n",
    "plt.ylabel(dataLabels[1])\n",
    "plt.title(dataLabels[2])\n",
    "plt.errorbar(energies,rates,xerr=edeltas,yerr=errors,fmt='.',color='b')\n",
    "plt.errorbar(energies,rates2,xerr=edeltas,yerr=errors2,fmt='.',color='r')\n",
    "plt.step(stepenergies,foldedmodel,where='post',color='b')\n",
    "plt.step(stepenergies,foldedmodel2,where='post',color='r')\n",
    "plt.subplot(212)\n",
    "plt.xlabel(residLabels[0])\n",
    "plt.ylabel(residLabels[1])\n",
    "plt.step(stepenergies,resid,where='post',color='b')\n",
    "plt.step(stepenergies,resid2,where='post',color='r')\n",
    "plt.hlines(0.0,stepenergies[0],stepenergies[-1],linestyles='dashed')"
   ]
  },
  {
   "cell_type": "markdown",
   "metadata": {},
   "source": [
    "This decoupling improves the fit, but it still clearly not good. Indeed, this simple attempt to account for the spectral variability in terms of \"blanket\" cold absorption and scattering does not work. More sophisticated models, involving additional components and partial absorption, should be tried."
   ]
  }
 ],
 "metadata": {
  "kernelspec": {
   "display_name": "Python 3",
   "language": "python",
   "name": "python3"
  },
  "language_info": {
   "codemirror_mode": {
    "name": "ipython",
    "version": 3
   },
   "file_extension": ".py",
   "mimetype": "text/x-python",
   "name": "python",
   "nbconvert_exporter": "python",
   "pygments_lexer": "ipython3",
   "version": "3.6.12"
  }
 },
 "nbformat": 4,
 "nbformat_minor": 2
}
