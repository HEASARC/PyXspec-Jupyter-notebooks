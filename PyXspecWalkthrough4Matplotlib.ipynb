{
 "cells": [
  {
   "cell_type": "code",
   "execution_count": 1,
   "metadata": {},
   "outputs": [],
   "source": [
    "# uncomment the line below to make matplotlib plots dynamic\n",
    "#%matplotlib notebook\n",
    "import matplotlib\n",
    "import numpy as np\n",
    "import matplotlib.pyplot as plt\n",
    "# older versions of Jupyter may need wurlitzer in order to redirect the C output to the notebook \n",
    "#%load_ext wurlitzer\n",
    "\n",
    "from xspec import *"
   ]
  },
  {
   "cell_type": "markdown",
   "metadata": {},
   "source": [
    "## Using XSPEC to Simulate Data: an Example for Chandra\n",
    "\n",
    "In several cases, analyzing simulated data is a powerful tool to demonstrate feasibility. For example:\n",
    "\n",
    "    To support an observing proposal. That is, to demonstrate what constraints a proposed observation would yield.\n",
    "    To support a hardware proposal. If a response matrix is generated, it can be used to demonstrate what kind of science could be done with a new instrument.\n",
    "    To support a theoretical paper. A theorist could write a paper describing a model, and then show how these model spectra would appear when observed. This, of course, is very like the first case.\n",
    "\n",
    "Here, we will illustrate the first example. The first step is to define a model on which to base the simulation. The way XSPEC creates simulated data is to take the current model, convolve it with the current response matrix, while adding noise appropriate to the integration time specified. Once created, the simulated data can be analyzed in the same way as real data to derive confidence limits.\n",
    "\n",
    "Let us suppose that we want to measure the intrinsic absorption of a faint high-redshift source using Chandra. Our model is thus a power-law absorbed both by the local Galactic column and an intrinsic column. The response matrices were obtained from the HEASARC and are available from https://heasarc.gsfc.nasa.gov/docs/xanadu/xspec/walkthrough.tar.gz\n",
    "\n",
    "This version of the notebook does all plotting through matplotlib.\n",
    "\n",
    "First, we set up the model. From the literature we have the Galactic absorption column and redshift so:\n"
   ]
  },
  {
   "cell_type": "code",
   "execution_count": 2,
   "metadata": {
    "scrolled": true
   },
   "outputs": [
    {
     "name": "stdout",
     "output_type": "stream",
     "text": [
      "\n",
      "========================================================================\n",
      "Model TBabs<1>*zphabs<2>*zpowerlw<3> Source No.: 1   Active/Off\n",
      "Model Model Component  Parameter  Unit     Value\n",
      " par  comp\n",
      "   1    1   TBabs      nH         10^22    1.00000      +/-  0.0          \n",
      "   2    2   zphabs     nH         10^22    1.00000      +/-  0.0          \n",
      "   3    2   zphabs     Redshift            0.0          frozen\n",
      "   4    3   zpowerlw   PhoIndex            1.00000      +/-  0.0          \n",
      "   5    3   zpowerlw   Redshift            0.0          frozen\n",
      "   6    3   zpowerlw   norm                1.00000      +/-  0.0          \n",
      "________________________________________________________________________\n",
      "\n"
     ]
    },
    {
     "name": "stderr",
     "output_type": "stream",
     "text": [
      "tbvabs Version 2.3\n",
      "Cosmic absorption with grains and H2, modified from\n",
      "Wilms, Allen, & McCray, 2000, ApJ 542, 914-924\n",
      "Questions: Joern Wilms\n",
      "joern.wilms@sternwarte.uni-erlangen.de\n",
      "joern.wilms@fau.de\n",
      "\n",
      "http://pulsar.sternwarte.uni-erlangen.de/wilms/research/tbabs/\n",
      "\n",
      "PLEASE NOTICE:\n",
      "To get the model described by the above paper\n",
      "you will also have to set the abundances:\n",
      "   abund wilm\n",
      "\n",
      "Note that this routine ignores the current cross section setting\n",
      "as it always HAS to use the Verner cross sections as a baseline.\n"
     ]
    },
    {
     "name": "stdout",
     "output_type": "stream",
     "text": [
      "\n",
      "========================================================================\n",
      "Model TBabs<1>*zphabs<2>*zpowerlw<3> Source No.: 1   Active/Off\n",
      "Model Model Component  Parameter  Unit     Value\n",
      " par  comp\n",
      "   1    1   TBabs      nH         10^22    8.00000E-02  +/-  0.0          \n",
      "   2    2   zphabs     nH         10^22    1.00000      +/-  0.0          \n",
      "   3    2   zphabs     Redshift            5.10000      frozen\n",
      "   4    3   zpowerlw   PhoIndex            1.70000      +/-  0.0          \n",
      "   5    3   zpowerlw   Redshift            5.10000      frozen\n",
      "   6    3   zpowerlw   norm                1.00000      +/-  0.0          \n",
      "________________________________________________________________________\n",
      "\n"
     ]
    }
   ],
   "source": [
    "m1 = Model(\"tbabs*zphabs(zpow)\", setPars=(0.08,1.0,5.1,1.7,5.1,1.0))"
   ]
  },
  {
   "cell_type": "markdown",
   "metadata": {},
   "source": [
    "Now suppose that we know that the observed 0.5-2.5 keV flux is $1.1\\times10^{-13}$ ergs/cm$^2$/s. We calculate the flux in that energy range for a normalization of 1.0 and determine the new normalization and set it.\n"
   ]
  },
  {
   "cell_type": "code",
   "execution_count": 3,
   "metadata": {},
   "outputs": [
    {
     "name": "stdout",
     "output_type": "stream",
     "text": [
      "\n",
      "Models will now use energy array created from:\n",
      "   0.5 - 2.5   1000 linear bins\n",
      "\n",
      " Upper range bound          2.5 reset by matrix bound to          2.5\n",
      " Model Flux  0.053162 photons (1.0066e-10 ergs/cm^2/s) range (0.50000 - 2.5000 keV)\n",
      " Upper range bound          2.5 reset by matrix bound to          2.5\n",
      " Model Flux 5.8096e-05 photons (1.1e-13 ergs/cm^2/s) range (0.50000 - 2.5000 keV)\n"
     ]
    }
   ],
   "source": [
    "AllModels.setEnergies(\"0.5 2.5 1000\")\n",
    "AllModels.calcFlux(\"0.5 2.5\")\n",
    "newNorm = 1.1e-13/m1.flux[0]\n",
    "m1.zpowerlw.norm = newNorm\n",
    "AllModels.calcFlux(\"\")"
   ]
  },
  {
   "cell_type": "markdown",
   "metadata": {},
   "source": [
    "The simulation is set up FakeitSettings object giving the response to be used and the exposure time. We also need to reset the energies command before the fakeit to ensure that the model is calculated on the entire energy range of the response."
   ]
  },
  {
   "cell_type": "code",
   "execution_count": 4,
   "metadata": {},
   "outputs": [
    {
     "name": "stdout",
     "output_type": "stream",
     "text": [
      "/Users/karnaud/GitHub/PyXspec-Jupyter-notebooks/data\n",
      "\n",
      "All model energies will be taken from non-extended response energies.\n",
      "\n"
     ]
    }
   ],
   "source": [
    "%cd data\n",
    "fs = FakeitSettings(response=\"aciss_aimpt_cy15.rmf\", arf=\"aciss_aimpt_cy15.arf\", exposure=40000.0, fileName=\"test.fak\")\n",
    "AllModels.setEnergies(\"reset\")"
   ]
  },
  {
   "cell_type": "code",
   "execution_count": 5,
   "metadata": {},
   "outputs": [
    {
     "name": "stdout",
     "output_type": "stream",
     "text": [
      "xsFakeit cmd string:\n",
      "fakeit 1 & aciss_aimpt_cy15.rmf & aciss_aimpt_cy15.arf & y & / & test.fak & 40000.0, ,  \n",
      "\n",
      "\n",
      "No background will be applied to fake spectrum #1\n",
      "\n",
      "1 spectrum  in use\n",
      " \n",
      "\n",
      "Fit statistic  : Chi-Squared                  335.61     using 1024 bins.\n",
      "\n",
      "***Warning: Chi-square may not be valid due to bins with zero variance\n",
      "            in spectrum number: 1\n",
      "\n",
      "Test statistic : Chi-Squared                  335.61     using 1024 bins.\n",
      "\n",
      "***Warning: Chi-square may not be valid due to bins with zero variance\n",
      "            in spectrum number(s): 1 \n",
      "\n",
      " Null hypothesis probability of 1.00e+00 with 1020 degrees of freedom\n",
      " Current data and model not fit yet.\n"
     ]
    }
   ],
   "source": [
    "AllData.fakeit(1,fs)"
   ]
  },
  {
   "cell_type": "markdown",
   "metadata": {},
   "source": [
    "The first thing we should note is that the default statistics are not correct for these data. For Poisson data and no background we should use cstat for the fit statistic and pchi for the test statistic: "
   ]
  },
  {
   "cell_type": "code",
   "execution_count": 6,
   "metadata": {},
   "outputs": [
    {
     "name": "stdout",
     "output_type": "stream",
     "text": [
      "Default fit statistic is set to: C-Statistic\n",
      "   This will apply to all current and newly loaded spectra.\n",
      "\n",
      "Fit statistic  : C-Statistic                  494.29     using 1024 bins.\n",
      "\n",
      "Test statistic : Chi-Squared                  335.61     using 1024 bins.\n",
      "\n",
      "***Warning: Chi-square may not be valid due to bins with zero variance\n",
      "            in spectrum number(s): 1 \n",
      "\n",
      " Null hypothesis probability of 1.00e+00 with 1020 degrees of freedom\n",
      " Current data and model not fit yet.\n",
      "Test statistic is set to: Pearson Chi-Squared\n",
      "\n",
      "Fit statistic  : C-Statistic                  494.29     using 1024 bins.\n",
      "\n",
      "Test statistic : Pearson Chi-Squared          753.17     using 1024 bins.\n",
      "\n",
      "***Warning: Pearson Chi-square may not be valid due to bins with zero model value\n",
      "            in spectrum number(s): 1 \n",
      "\n",
      " Null hypothesis probability of 1.00e+00 with 1020 degrees of freedom\n",
      " Current data and model not fit yet.\n"
     ]
    }
   ],
   "source": [
    "Fit.statMethod = \"cstat\"\n",
    "Fit.statTest = \"pchi\""
   ]
  },
  {
   "cell_type": "markdown",
   "metadata": {},
   "source": [
    "As we can see from the warning message we need to ignore some channels where there is no effective response. Looking at a plot of the data and model indicates we should ignore below 0.15 keV and above 10 keV so: "
   ]
  },
  {
   "cell_type": "code",
   "execution_count": 7,
   "metadata": {},
   "outputs": [
    {
     "name": "stdout",
     "output_type": "stream",
     "text": [
      "***Warning: Fit is not current.\n"
     ]
    },
    {
     "data": {
      "text/plain": [
       "<ErrorbarContainer object of 3 artists>"
      ]
     },
     "execution_count": 7,
     "metadata": {},
     "output_type": "execute_result"
    },
    {
     "data": {
      "image/png": "[encoded data removed]",
      "text/plain": [
       "<Figure size 432x288 with 1 Axes>"
      ]
     },
     "metadata": {
      "needs_background": "light"
     },
     "output_type": "display_data"
    }
   ],
   "source": [
    "Plot.device = \"/null\"\n",
    "Plot.xAxis = \"keV\"\n",
    "Plot(\"data\")\n",
    "energies = Plot.x()\n",
    "edeltas = Plot.xErr()\n",
    "rates = Plot.y()\n",
    "errors = Plot.yErr()\n",
    "labels = Plot.labels()\n",
    "plt.xscale('log')\n",
    "plt.xlabel(labels[0])\n",
    "plt.ylabel(labels[1])\n",
    "plt.title(labels[2])\n",
    "plt.errorbar(energies,rates,xerr=edeltas,yerr=errors,fmt='.')"
   ]
  },
  {
   "cell_type": "markdown",
   "metadata": {},
   "source": [
    "Looking at a plot of the data and model indicates we should ignore below 0.15 keV and above 10 keV so: "
   ]
  },
  {
   "cell_type": "code",
   "execution_count": 8,
   "metadata": {},
   "outputs": [
    {
     "name": "stdout",
     "output_type": "stream",
     "text": [
      "    11 channels (1-11) ignored in spectrum #     1\n",
      "   340 channels (685-1024) ignored in spectrum #     1\n",
      "\n",
      "Fit statistic  : C-Statistic                  490.68     using 673 bins.\n",
      "\n",
      "Test statistic : Pearson Chi-Squared          747.61     using 673 bins.\n",
      " Null hypothesis probability of 1.84e-02 with 669 degrees of freedom\n",
      " Current data and model not fit yet.\n",
      "\n"
     ]
    }
   ],
   "source": [
    "AllData.ignore(\"**-0.15 10.0-**\")"
   ]
  },
  {
   "cell_type": "markdown",
   "metadata": {},
   "source": [
    "We assume that the Galactic column is known so freeze the first parameter. We then perform a fit and estimate the uncertainty in the parameters."
   ]
  },
  {
   "cell_type": "code",
   "execution_count": 9,
   "metadata": {},
   "outputs": [
    {
     "name": "stdout",
     "output_type": "stream",
     "text": [
      "\n",
      "Fit statistic  : C-Statistic                  490.68     using 673 bins.\n",
      "\n",
      "Test statistic : Pearson Chi-Squared          747.61     using 673 bins.\n",
      " Null hypothesis probability of 1.96e-02 with 670 degrees of freedom\n",
      " Current data and model not fit yet.\n",
      "                                   Parameters\n",
      "C-Statistic  |beta|/N    Lvl          2:nH    4:PhoIndex        6:norm\n",
      "488.055      8.90682      -2      0.293603       1.63324   0.000890066\n",
      "487.584      6591.14      -3      0.129188       1.60083   0.000830864\n",
      "487.532      2798.69      -4     0.0639318       1.60083   0.000833495\n",
      "487.527      655.249      -5     0.0270609       1.60179   0.000835848\n",
      "========================================\n",
      " Variances and Principal Axes\n",
      "                 2        4        6  \n",
      " 5.8428E-10| -0.0000  -0.0019   1.0000  \n",
      " 2.3976E-03|  0.0350  -0.9994  -0.0019  \n",
      " 1.5269E+00|  0.9994   0.0350   0.0001  \n",
      "----------------------------------------\n",
      "\n",
      "====================================\n",
      "  Covariance Matrix\n",
      "        1           2           3   \n",
      "   1.525e+00   5.330e-02   1.286e-04\n",
      "   5.330e-02   4.264e-03   9.100e-06\n",
      "   1.286e-04   9.100e-06   2.026e-08\n",
      "------------------------------------\n",
      "\n",
      "========================================================================\n",
      "Model TBabs<1>*zphabs<2>*zpowerlw<3> Source No.: 1   Active/On\n",
      "Model Model Component  Parameter  Unit     Value\n",
      " par  comp\n",
      "   1    1   TBabs      nH         10^22    8.00000E-02  frozen\n",
      "   2    2   zphabs     nH         10^22    2.70609E-02  +/-  1.23492      \n",
      "   3    2   zphabs     Redshift            5.10000      frozen\n",
      "   4    3   zpowerlw   PhoIndex            1.60179      +/-  6.52959E-02  \n",
      "   5    3   zpowerlw   Redshift            5.10000      frozen\n",
      "   6    3   zpowerlw   norm                8.35848E-04  +/-  1.42347E-04  \n",
      "________________________________________________________________________\n",
      "\n",
      "\n",
      "Fit statistic  : C-Statistic                  487.53     using 673 bins.\n",
      "\n",
      "Test statistic : Pearson Chi-Squared          694.68     using 673 bins.\n",
      " Null hypothesis probability of 2.47e-01 with 670 degrees of freedom\n"
     ]
    }
   ],
   "source": [
    "m1.TBabs.nH.frozen = True\n",
    "Fit.perform()"
   ]
  },
  {
   "cell_type": "code",
   "execution_count": 10,
   "metadata": {},
   "outputs": [
    {
     "name": "stdout",
     "output_type": "stream",
     "text": [
      " Parameter   Confidence Range (2.706)\n",
      "***Warning: Zero alpha-matrix diagonal element for parameter 2\n",
      " Parameter 2 is pegged at 4.22386e-07 due to zero or negative pivot element, likely\n",
      " caused by the fit being insensitive to the parameter.\n",
      "***Warning: Zero alpha-matrix diagonal element for parameter 2\n",
      " Parameter 2 is pegged at 4.22386e-07 due to zero or negative pivot element, likely\n",
      " caused by the fit being insensitive to the parameter.\n",
      "     2            0      1.96182    (-0.0433503,1.91847)\n",
      "     4      1.52116       1.7041    (-0.0811416,0.101798)\n",
      "     6  0.000689429   0.00108854    (-0.000147676,0.000251438)\n"
     ]
    },
    {
     "name": "stderr",
     "output_type": "stream",
     "text": [
      "***Warning: Parameter pegged at hard limit: 0\n"
     ]
    }
   ],
   "source": [
    "Xset.parallel.error = 3\n",
    "Fit.error(\"2 4 6\")"
   ]
  },
  {
   "cell_type": "code",
   "execution_count": 11,
   "metadata": {},
   "outputs": [
    {
     "data": {
      "text/plain": [
       "<ErrorbarContainer object of 3 artists>"
      ]
     },
     "execution_count": 11,
     "metadata": {},
     "output_type": "execute_result"
    },
    {
     "data": {
      "image/png": "[encoded data removed]",
      "text/plain": [
       "<Figure size 432x288 with 1 Axes>"
      ]
     },
     "metadata": {
      "needs_background": "light"
     },
     "output_type": "display_data"
    }
   ],
   "source": [
    "Plot(\"data\")\n",
    "energies = Plot.x()\n",
    "edeltas = Plot.xErr()\n",
    "rates = Plot.y()\n",
    "errors = Plot.yErr()\n",
    "labels = Plot.labels()\n",
    "plt.xscale('log')\n",
    "plt.xlabel(labels[0])\n",
    "plt.ylabel(labels[1])\n",
    "plt.title(labels[2])\n",
    "plt.errorbar(energies,rates,xerr=edeltas,yerr=errors,fmt='.')"
   ]
  },
  {
   "cell_type": "markdown",
   "metadata": {},
   "source": [
    "Now let's make this plot look a bit better. The current bin sizes are much smaller than the resolution so we may as well combine bins in the plot (but not in the fitting) to make it clearer. The first argument of the setRebin method is the minimum number of sigma and the second the maximum number of channels to bin up. So in this case the minimum sigma is set very high to ensure that there is a uniform binning of 4. We set the y-axis to logarithmic and choose appropriate x-axis and y-axis limits. "
   ]
  },
  {
   "cell_type": "code",
   "execution_count": 15,
   "metadata": {},
   "outputs": [
    {
     "data": {
      "text/plain": [
       "<ErrorbarContainer object of 3 artists>"
      ]
     },
     "execution_count": 15,
     "metadata": {},
     "output_type": "execute_result"
    },
    {
     "data": {
      "image/png": "[encoded data removed]",
      "text/plain": [
       "<Figure size 432x288 with 1 Axes>"
      ]
     },
     "metadata": {
      "needs_background": "light"
     },
     "output_type": "display_data"
    }
   ],
   "source": [
    "Plot.setRebin(100,4)\n",
    "Plot.yLog = True\n",
    "Plot(\"data\")\n",
    "energies = Plot.x()\n",
    "edeltas = Plot.xErr()\n",
    "rates = Plot.y()\n",
    "errors = Plot.yErr()\n",
    "labels = Plot.labels()\n",
    "plt.xscale('log')\n",
    "plt.yscale('log')\n",
    "plt.xlabel(labels[0])\n",
    "plt.ylabel(labels[1])\n",
    "plt.title('Simulated spectrum')\n",
    "plt.xlim([0.3,6.0])\n",
    "plt.ylim([1.0e-4,0.03])\n",
    "plt.errorbar(energies,rates,xerr=edeltas,yerr=errors,fmt='.')"
   ]
  },
  {
   "cell_type": "code",
   "execution_count": null,
   "metadata": {},
   "outputs": [],
   "source": []
  }
 ],
 "metadata": {
  "kernelspec": {
   "display_name": "Python 3 (ipykernel)",
   "language": "python",
   "name": "python3"
  },
  "language_info": {
   "codemirror_mode": {
    "name": "ipython",
    "version": 3
   },
   "file_extension": ".py",
   "mimetype": "text/x-python",
   "name": "python",
   "nbconvert_exporter": "python",
   "pygments_lexer": "ipython3",
   "version": "3.9.20"
  }
 },
 "nbformat": 4,
 "nbformat_minor": 2
}
