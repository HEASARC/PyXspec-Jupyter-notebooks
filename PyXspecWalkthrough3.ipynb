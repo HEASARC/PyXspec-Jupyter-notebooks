{
 "cells": [
  {
   "cell_type": "code",
   "execution_count": 1,
   "metadata": {},
   "outputs": [],
   "source": [
    "# this ensures that all C output is redirected to the Jupyter output box\n",
    "%load_ext wurlitzer\n",
    "import IPython.display\n",
    "\n",
    "from xspec import *"
   ]
  },
  {
   "cell_type": "markdown",
   "metadata": {},
   "source": [
    "##Multiple Models: a Background Modeling Example\n",
    "\n",
    "We now demonstrate how to fit multiple models, each with their own response, to the same dataset. There are several reasons why this may be useful, for instance:\n",
    "\n",
    "    We are using data from a coded aperture mask. If there are multiple sources in the field they will all contribute to the spectrum from each detector. However, each source may have a different response due to its position.\n",
    "    We are observing an extended source using a telescope whose PSF is large enough that the signal from different regions are mixed together. In this case we will want to analyze spectra from all regions of the source simultaneously with each spectrum having a contribution from the model in other regions.\n",
    "    We wish to model the background spectrum that includes a particle component. The particle background will have a different response from the X-ray background because the particles come from all directions, not just down the telescope.\n",
    "\n",
    "We will demonstrate the third example here. Suppose we have a model for the background spectrum that requires a different response to that for the source spectrum. The spectra and corresponding response matrices were obtained from the HEASARC and are available from https://heasarc.gsfc.nasa.gov/docs/xanadu/xspec/walkthrough.tar.gz\n",
    "\n",
    "Read in the source and background spectra as separate files. \n"
   ]
  },
  {
   "cell_type": "code",
   "execution_count": 2,
   "metadata": {},
   "outputs": [
    {
     "name": "stdout",
     "output_type": "stream",
     "text": [
      "/Users/karnaud/Jupyter-notebooks/data\n",
      "\n",
      "2 spectra  in use\n",
      " \n",
      "Spectral Data File: hisum.pha  Spectrum 1\n",
      "Net count rate (cts/s) for Spectrum:1  1.371e+03 +/- 3.123e+00\n",
      " Assigned to Data Group 1 and Plot Group 1\n",
      "  Noticed Channels:  1-48\n",
      "  Telescope: GINGA Instrument: LAC  Channel Type: PHA\n",
      "  Exposure Time: 1 sec\n",
      " Using fit statistic: chi\n",
      " Using Response (RMF) File            ginga_lac.rsp for Source 1\n",
      "\n",
      "Spectral Data File: losum.pha  Spectrum 2\n",
      "Net count rate (cts/s) for Spectrum:2  1.401e+02 +/- 3.549e-01\n",
      " Assigned to Data Group 2 and Plot Group 2\n",
      "  Noticed Channels:  1-48\n",
      "  Telescope: GINGA Instrument: LAC  Channel Type: PHA\n",
      "  Exposure Time: 1 sec\n",
      " Using fit statistic: chi\n",
      " Using Response (RMF) File            ginga_lac.rsp for Source 1\n",
      "\n",
      "Response successfully loaded.\n",
      "Response successfully loaded.\n"
     ]
    }
   ],
   "source": [
    "%cd data\n",
    "AllData(\"1:1 hisum.pha 2:2 losum.pha\")\n",
    "s1 = AllData(1)\n",
    "s2 = AllData(2)\n",
    "s1.response = \"ginga_lac.rsp\"\n",
    "s2.response = \"ginga_lac.rsp\""
   ]
  },
  {
   "cell_type": "markdown",
   "metadata": {},
   "source": [
    "Set up the model for the source. Here we will take the simple case of an absorbed power-law and set the model normalization to zero for the background spectrum. "
   ]
  },
  {
   "cell_type": "code",
   "execution_count": 3,
   "metadata": {
    "scrolled": true
   },
   "outputs": [
    {
     "name": "stdout",
     "output_type": "stream",
     "text": [
      "\n",
      "========================================================================\n",
      "Model phabs<1>*powerlaw<2> Source No.: 1   Active/On\n",
      "Model Model Component  Parameter  Unit     Value\n",
      " par  comp\n",
      "                           Data group: 1\n",
      "   1    1   phabs      nH         10^22    1.00000      +/-  0.0          \n",
      "   2    2   powerlaw   PhoIndex            1.00000      +/-  0.0          \n",
      "   3    2   powerlaw   norm                1.00000      +/-  0.0          \n",
      "                           Data group: 2\n",
      "   4    1   phabs      nH         10^22    1.00000      = p1\n",
      "   5    2   powerlaw   PhoIndex            1.00000      = p2\n",
      "   6    2   powerlaw   norm                1.00000      = p3\n",
      "________________________________________________________________________\n",
      "\n",
      "\n",
      "Fit statistic  : Chi-Squared              2.214313e+07     using 48 bins.\n",
      "                 Chi-Squared              3.817637e+08     using 48 bins.\n",
      "Total fit statistic                       4.039068e+08     with 93 d.o.f.\n",
      "\n",
      "Test statistic : Chi-Squared              4.039068e+08     using 96 bins.\n",
      " Null hypothesis probability of 0.000000e+00 with 93 degrees of freedom\n",
      " Current data and model not fit yet.\n",
      "\n",
      "Fit statistic  : Chi-Squared              2.214313e+07     using 48 bins.\n",
      "                 Chi-Squared                177171.1     using 48 bins.\n",
      "Total fit statistic                       2.232030e+07     with 93 d.o.f.\n",
      "\n",
      "Test statistic : Chi-Squared              2.232030e+07     using 96 bins.\n",
      " Null hypothesis probability of 0.000000e+00 with 93 degrees of freedom\n",
      " Current data and model not fit yet.\n"
     ]
    }
   ],
   "source": [
    "Model(\"phabs * pow\")\n",
    "m1 = AllModels(1)\n",
    "m2 = AllModels(2)\n",
    "m2(3).values = \"0.0,-1.0\""
   ]
  },
  {
   "cell_type": "markdown",
   "metadata": {},
   "source": [
    "Now we need to set up the background model for both datasets with the appropriate response matrices. "
   ]
  },
  {
   "cell_type": "code",
   "execution_count": 4,
   "metadata": {},
   "outputs": [
    {
     "name": "stdout",
     "output_type": "stream",
     "text": [
      "Response successfully loaded.\n",
      "\n",
      "Fit statistic  : Chi-Squared              2.214313e+07     using 48 bins.\n",
      "                 Chi-Squared                177171.1     using 48 bins.\n",
      "Total fit statistic                       2.232030e+07     with 93 d.o.f.\n",
      "\n",
      "Test statistic : Chi-Squared              2.232030e+07     using 96 bins.\n",
      " Null hypothesis probability of 0.000000e+00 with 93 degrees of freedom\n",
      " Current data and model not fit yet.\n",
      "Response successfully loaded.\n",
      "\n",
      "Fit statistic  : Chi-Squared              2.214313e+07     using 48 bins.\n",
      "                 Chi-Squared                177171.1     using 48 bins.\n",
      "Total fit statistic                       2.232030e+07     with 93 d.o.f.\n",
      "\n",
      "Test statistic : Chi-Squared              2.232030e+07     using 96 bins.\n",
      " Null hypothesis probability of 0.000000e+00 with 93 degrees of freedom\n",
      " Current data and model not fit yet.\n"
     ]
    }
   ],
   "source": [
    "s1.multiresponse[1] = \"ginga_lac.rsp\"\n",
    "s2.multiresponse[1] = \"ginga_lac.rsp\""
   ]
  },
  {
   "cell_type": "markdown",
   "metadata": {},
   "source": [
    "This tells XSPEC that both these datasets have a second model which must be multiplied by the appropriate response matrix for its contribution to the source region and for its contribution to the background region. This is likely to be the case for a standard imaging data where the response will only depend on the extraction region. Note that for a coded-aperture mask the situation may be more complicated with a different response for the source and the background even if they are extracted from the same region of the detector. We now define the background model to be used. In this case take the simple example of a single power-law "
   ]
  },
  {
   "cell_type": "code",
   "execution_count": 5,
   "metadata": {},
   "outputs": [
    {
     "name": "stdout",
     "output_type": "stream",
     "text": [
      "\n",
      "========================================================================\n",
      "Model myback:powerlaw<1> Source No.: 2   Active/On\n",
      "Model Model Component  Parameter  Unit     Value\n",
      " par  comp\n",
      "                           Data group: 1\n",
      "   1    1   powerlaw   PhoIndex            1.00000      +/-  0.0          \n",
      "   2    1   powerlaw   norm                1.00000      +/-  0.0          \n",
      "                           Data group: 2\n",
      "   3    1   powerlaw   PhoIndex            1.00000      = myback:p1\n",
      "   4    1   powerlaw   norm                1.00000      = myback:p2\n",
      "________________________________________________________________________\n",
      "\n",
      "\n",
      "Fit statistic  : Chi-Squared              9.779387e+07     using 48 bins.\n",
      "                 Chi-Squared              4.523427e+08     using 48 bins.\n",
      "Total fit statistic                       5.501366e+08     with 91 d.o.f.\n",
      "\n",
      "Test statistic : Chi-Squared              5.501366e+08     using 96 bins.\n",
      " Null hypothesis probability of 0.000000e+00 with 91 degrees of freedom\n",
      " Current data and model not fit yet.\n"
     ]
    }
   ],
   "source": [
    "m1_2 = Model(\"pow\",\"myback\",2)"
   ]
  },
  {
   "cell_type": "markdown",
   "metadata": {},
   "source": [
    "We have now set up XSPEC so that the source data is compared to a source model multiplied by the source response plus a background model multiplied by the background response and the background data is compared to the background model multiplied by the background response. The background models fitted to the source and background data are constrained to be the same. "
   ]
  },
  {
   "cell_type": "code",
   "execution_count": 6,
   "metadata": {},
   "outputs": [
    {
     "name": "stdout",
     "output_type": "stream",
     "text": [
      "\n",
      "Parameters defined:\n",
      "========================================================================\n",
      "Model phabs<1>*powerlaw<2> Source No.: 1   Active/On\n",
      "Model Model Component  Parameter  Unit     Value\n",
      " par  comp\n",
      "                           Data group: 1\n",
      "   1    1   phabs      nH         10^22    1.00000      +/-  0.0          \n",
      "   2    2   powerlaw   PhoIndex            1.00000      +/-  0.0          \n",
      "   3    2   powerlaw   norm                1.00000      +/-  0.0          \n",
      "                           Data group: 2\n",
      "   4    1   phabs      nH         10^22    1.00000      = p1\n",
      "   5    2   powerlaw   PhoIndex            1.00000      = p2\n",
      "   6    2   powerlaw   norm                0.0          frozen\n",
      "________________________________________________________________________\n",
      "\n",
      "========================================================================\n",
      "Model myback:powerlaw<1> Source No.: 2   Active/On\n",
      "Model Model Component  Parameter  Unit     Value\n",
      " par  comp\n",
      "                           Data group: 1\n",
      "   1    1   powerlaw   PhoIndex            1.00000      +/-  0.0          \n",
      "   2    1   powerlaw   norm                1.00000      +/-  0.0          \n",
      "                           Data group: 2\n",
      "   3    1   powerlaw   PhoIndex            1.00000      = myback:p1\n",
      "   4    1   powerlaw   norm                1.00000      = myback:p2\n",
      "________________________________________________________________________\n",
      "\n"
     ]
    }
   ],
   "source": [
    "AllModels.show()"
   ]
  },
  {
   "cell_type": "code",
   "execution_count": null,
   "metadata": {},
   "outputs": [],
   "source": []
  }
 ],
 "metadata": {
  "kernelspec": {
   "display_name": "Python 3",
   "language": "python",
   "name": "python3"
  },
  "language_info": {
   "codemirror_mode": {
    "name": "ipython",
    "version": 3
   },
   "file_extension": ".py",
   "mimetype": "text/x-python",
   "name": "python",
   "nbconvert_exporter": "python",
   "pygments_lexer": "ipython3",
   "version": "3.6.12"
  }
 },
 "nbformat": 4,
 "nbformat_minor": 2
}
